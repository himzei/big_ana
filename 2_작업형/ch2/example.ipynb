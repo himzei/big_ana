{
 "cells": [
  {
   "cell_type": "code",
   "execution_count": 52,
   "id": "0485ec6c",
   "metadata": {},
   "outputs": [],
   "source": [
    "import pandas as pd \n",
    "\n",
    "train = pd.read_csv(\"train.csv\")\n",
    "test = pd.read_csv(\"test.csv\")\n",
    "\n"
   ]
  },
  {
   "cell_type": "code",
   "execution_count": 53,
   "id": "e6814658",
   "metadata": {},
   "outputs": [
    {
     "name": "stdout",
     "output_type": "stream",
     "text": [
      "      id   age  workclass  fnlwgt     education  education.num  \\\n",
      "0   3331  34.0  State-gov  177331  Some-college             10   \n",
      "1  19749  58.0    Private  290661       HS-grad              9   \n",
      "2   1157  48.0    Private  125933  Some-college             10   \n",
      "\n",
      "       marital.status       occupation relationship   race     sex  \\\n",
      "0  Married-civ-spouse   Prof-specialty      Husband  Black    Male   \n",
      "1  Married-civ-spouse     Craft-repair      Husband  White    Male   \n",
      "2             Widowed  Exec-managerial    Unmarried  Black  Female   \n",
      "\n",
      "   capital.gain  capital.loss  hours.per.week native.country income  \n",
      "0          4386             0            40.0  United-States   >50K  \n",
      "1             0             0            40.0  United-States  <=50K  \n",
      "2             0          1669            38.0  United-States  <=50K  \n",
      "      id   age  workclass  fnlwgt     education  education.num  \\\n",
      "0  11574  39.0  State-gov  114055     Bachelors             13   \n",
      "1  15847  38.0    Private  254114  Some-college             10   \n",
      "2  17655  44.0  State-gov   55395       HS-grad              9   \n",
      "\n",
      "          marital.status       occupation   relationship   race     sex  \\\n",
      "0          Never-married  Exec-managerial  Not-in-family  White  Female   \n",
      "1  Married-spouse-absent   Prof-specialty      Own-child  Black  Female   \n",
      "2          Never-married     Craft-repair  Not-in-family  White    Male   \n",
      "\n",
      "   capital.gain  capital.loss  hours.per.week native.country  \n",
      "0             0             0            40.0  United-States  \n",
      "1             0             0            40.0  United-States  \n",
      "2             0             0             NaN  United-States  \n"
     ]
    }
   ],
   "source": [
    "print(train.head(3))\n",
    "print(test.head(3))"
   ]
  },
  {
   "cell_type": "code",
   "execution_count": 54,
   "id": "f3440c74",
   "metadata": {},
   "outputs": [
    {
     "name": "stdout",
     "output_type": "stream",
     "text": [
      "(29304, 16)\n",
      "(3257, 15)\n"
     ]
    }
   ],
   "source": [
    "print(train.shape)\n",
    "print(test.shape)"
   ]
  },
  {
   "cell_type": "code",
   "execution_count": 55,
   "id": "c4d069f7",
   "metadata": {},
   "outputs": [
    {
     "name": "stdout",
     "output_type": "stream",
     "text": [
      "<class 'pandas.core.frame.DataFrame'>\n",
      "RangeIndex: 29304 entries, 0 to 29303\n",
      "Data columns (total 16 columns):\n",
      " #   Column          Non-Null Count  Dtype  \n",
      "---  ------          --------------  -----  \n",
      " 0   id              29304 non-null  int64  \n",
      " 1   age             29292 non-null  float64\n",
      " 2   workclass       27642 non-null  object \n",
      " 3   fnlwgt          29304 non-null  int64  \n",
      " 4   education       29304 non-null  object \n",
      " 5   education.num   29304 non-null  int64  \n",
      " 6   marital.status  29304 non-null  object \n",
      " 7   occupation      27636 non-null  object \n",
      " 8   relationship    29304 non-null  object \n",
      " 9   race            29304 non-null  object \n",
      " 10  sex             29304 non-null  object \n",
      " 11  capital.gain    29304 non-null  int64  \n",
      " 12  capital.loss    29304 non-null  int64  \n",
      " 13  hours.per.week  29291 non-null  float64\n",
      " 14  native.country  28767 non-null  object \n",
      " 15  income          29304 non-null  object \n",
      "dtypes: float64(2), int64(5), object(9)\n",
      "memory usage: 3.6+ MB\n",
      "None\n",
      "<class 'pandas.core.frame.DataFrame'>\n",
      "RangeIndex: 3257 entries, 0 to 3256\n",
      "Data columns (total 15 columns):\n",
      " #   Column          Non-Null Count  Dtype  \n",
      "---  ------          --------------  -----  \n",
      " 0   id              3257 non-null   int64  \n",
      " 1   age             3251 non-null   float64\n",
      " 2   workclass       3083 non-null   object \n",
      " 3   fnlwgt          3257 non-null   int64  \n",
      " 4   education       3257 non-null   object \n",
      " 5   education.num   3257 non-null   int64  \n",
      " 6   marital.status  3257 non-null   object \n",
      " 7   occupation      3082 non-null   object \n",
      " 8   relationship    3257 non-null   object \n",
      " 9   race            3257 non-null   object \n",
      " 10  sex             3257 non-null   object \n",
      " 11  capital.gain    3257 non-null   int64  \n",
      " 12  capital.loss    3257 non-null   int64  \n",
      " 13  hours.per.week  3248 non-null   float64\n",
      " 14  native.country  3211 non-null   object \n",
      "dtypes: float64(2), int64(5), object(8)\n",
      "memory usage: 381.8+ KB\n",
      "None\n"
     ]
    }
   ],
   "source": [
    "print(train.info())\n",
    "print(test.info())"
   ]
  },
  {
   "cell_type": "code",
   "execution_count": 56,
   "id": "28b5a53b",
   "metadata": {},
   "outputs": [
    {
     "name": "stdout",
     "output_type": "stream",
     "text": [
      "                 id           age        fnlwgt  education.num  capital.gain  \\\n",
      "count  29304.000000  29292.000000  2.930400e+04   29304.000000  29304.000000   \n",
      "mean   16264.027880     38.553223  1.897488e+05      10.080842   1093.858722   \n",
      "std     9384.518323     13.628811  1.055250e+05       2.570824   7477.435640   \n",
      "min        0.000000    -38.000000  1.228500e+04       1.000000      0.000000   \n",
      "25%     8145.750000     28.000000  1.177890e+05       9.000000      0.000000   \n",
      "50%    16253.500000     37.000000  1.783765e+05      10.000000      0.000000   \n",
      "75%    24374.250000     48.000000  2.370682e+05      12.000000      0.000000   \n",
      "max    32560.000000     90.000000  1.484705e+06      16.000000  99999.000000   \n",
      "\n",
      "       capital.loss  hours.per.week  \n",
      "count  29304.000000    29291.000000  \n",
      "mean      86.744506       40.434229  \n",
      "std      401.518928       12.324036  \n",
      "min        0.000000        1.000000  \n",
      "25%        0.000000       40.000000  \n",
      "50%        0.000000       40.000000  \n",
      "75%        0.000000       45.000000  \n",
      "max     4356.000000       99.000000  \n",
      "                 id          age        fnlwgt  education.num  capital.gain  \\\n",
      "count   3257.000000  3251.000000  3.257000e+03    3257.000000   3257.000000   \n",
      "mean   16423.704943    38.802830  1.900447e+05      10.079214    931.804728   \n",
      "std     9535.416746    13.917588  1.057902e+05       2.590118   6496.962999   \n",
      "min        3.000000    17.000000  1.882700e+04       1.000000      0.000000   \n",
      "25%     8078.000000    28.000000  1.186520e+05       9.000000      0.000000   \n",
      "50%    16626.000000    37.000000  1.783190e+05      10.000000      0.000000   \n",
      "75%    24743.000000    48.000000  2.364360e+05      12.000000      0.000000   \n",
      "max    32559.000000    90.000000  1.033222e+06      16.000000  99999.000000   \n",
      "\n",
      "       capital.loss  hours.per.week  \n",
      "count   3257.000000     3248.000000  \n",
      "mean      92.336199       40.468288  \n",
      "std      415.732721       12.598546  \n",
      "min        0.000000        1.000000  \n",
      "25%        0.000000       40.000000  \n",
      "50%        0.000000       40.000000  \n",
      "75%        0.000000       45.000000  \n",
      "max     3900.000000       99.000000  \n"
     ]
    }
   ],
   "source": [
    "print(train.describe())\n",
    "print(test.describe())"
   ]
  },
  {
   "cell_type": "code",
   "execution_count": 57,
   "id": "fd9d2d2d",
   "metadata": {},
   "outputs": [
    {
     "name": "stdout",
     "output_type": "stream",
     "text": [
      "       workclass education      marital.status      occupation relationship  \\\n",
      "count      27642     29304               29304           27636        29304   \n",
      "unique         8        16                   7              14            6   \n",
      "top      Private   HS-grad  Married-civ-spouse  Prof-specialty      Husband   \n",
      "freq       20451      9449               13466            3683        11845   \n",
      "\n",
      "         race    sex native.country income  \n",
      "count   29304  29304          28767  29304  \n",
      "unique      5      2             41      2  \n",
      "top     White   Male  United-States  <=50K  \n",
      "freq    25022  19578          26240  22263  \n",
      "       workclass education      marital.status      occupation relationship  \\\n",
      "count       3083      3257                3257            3082         3257   \n",
      "unique         8        16                   7              14            6   \n",
      "top      Private   HS-grad  Married-civ-spouse  Prof-specialty      Husband   \n",
      "freq        2245      1052                1510             457         1348   \n",
      "\n",
      "         race   sex native.country  \n",
      "count    3257  3257           3211  \n",
      "unique      5     2             37  \n",
      "top     White  Male  United-States  \n",
      "freq     2794  2212           2930  \n"
     ]
    }
   ],
   "source": [
    "print(train.describe(include=\"object\"))\n",
    "print(test.describe(include=\"object\"))"
   ]
  },
  {
   "cell_type": "code",
   "execution_count": 58,
   "id": "9a1dad66",
   "metadata": {},
   "outputs": [
    {
     "name": "stdout",
     "output_type": "stream",
     "text": [
      "id                   0\n",
      "age                 12\n",
      "workclass         1662\n",
      "fnlwgt               0\n",
      "education            0\n",
      "education.num        0\n",
      "marital.status       0\n",
      "occupation        1668\n",
      "relationship         0\n",
      "race                 0\n",
      "sex                  0\n",
      "capital.gain         0\n",
      "capital.loss         0\n",
      "hours.per.week      13\n",
      "native.country     537\n",
      "income               0\n",
      "dtype: int64\n",
      "id                  0\n",
      "age                 6\n",
      "workclass         174\n",
      "fnlwgt              0\n",
      "education           0\n",
      "education.num       0\n",
      "marital.status      0\n",
      "occupation        175\n",
      "relationship        0\n",
      "race                0\n",
      "sex                 0\n",
      "capital.gain        0\n",
      "capital.loss        0\n",
      "hours.per.week      9\n",
      "native.country     46\n",
      "dtype: int64\n"
     ]
    }
   ],
   "source": [
    "print(train.isnull().sum())\n",
    "print(test.isnull().sum())"
   ]
  },
  {
   "cell_type": "code",
   "execution_count": 59,
   "id": "32b71a70",
   "metadata": {},
   "outputs": [
    {
     "data": {
      "text/plain": [
       "income\n",
       "<=50K    22263\n",
       ">50K      7041\n",
       "Name: count, dtype: int64"
      ]
     },
     "execution_count": 59,
     "metadata": {},
     "output_type": "execute_result"
    }
   ],
   "source": [
    "train[\"income\"].value_counts()"
   ]
  },
  {
   "cell_type": "code",
   "execution_count": 60,
   "id": "f1328a21",
   "metadata": {},
   "outputs": [
    {
     "name": "stdout",
     "output_type": "stream",
     "text": [
      "(29304, 16)\n",
      "(27096, 16)\n",
      "id                0\n",
      "age               0\n",
      "workclass         0\n",
      "fnlwgt            0\n",
      "education         0\n",
      "education.num     0\n",
      "marital.status    0\n",
      "occupation        0\n",
      "relationship      0\n",
      "race              0\n",
      "sex               0\n",
      "capital.gain      0\n",
      "capital.loss      0\n",
      "hours.per.week    0\n",
      "native.country    0\n",
      "income            0\n",
      "dtype: int64\n"
     ]
    }
   ],
   "source": [
    "#04 데이터 전처리\n",
    "\n",
    "print(train.shape)\n",
    "df = train.dropna()\n",
    "print(df.shape)\n",
    "print(df.isnull().sum())"
   ]
  },
  {
   "cell_type": "code",
   "execution_count": 61,
   "id": "0ed2a098",
   "metadata": {},
   "outputs": [
    {
     "data": {
      "text/plain": [
       "id                   0\n",
       "age                 12\n",
       "workclass         1662\n",
       "fnlwgt               0\n",
       "education            0\n",
       "education.num        0\n",
       "marital.status       0\n",
       "occupation        1668\n",
       "relationship         0\n",
       "race                 0\n",
       "sex                  0\n",
       "capital.gain         0\n",
       "capital.loss         0\n",
       "hours.per.week      13\n",
       "native.country     537\n",
       "income               0\n",
       "dtype: int64"
      ]
     },
     "execution_count": 61,
     "metadata": {},
     "output_type": "execute_result"
    }
   ],
   "source": [
    "train.isnull().sum()"
   ]
  },
  {
   "cell_type": "code",
   "execution_count": 62,
   "id": "900c52a4",
   "metadata": {},
   "outputs": [
    {
     "data": {
      "text/plain": [
       "id                 0\n",
       "age               12\n",
       "workclass          0\n",
       "fnlwgt             0\n",
       "education          0\n",
       "education.num      0\n",
       "marital.status     0\n",
       "occupation         6\n",
       "relationship       0\n",
       "race               0\n",
       "sex                0\n",
       "capital.gain       0\n",
       "capital.loss       0\n",
       "hours.per.week    13\n",
       "native.country     0\n",
       "income             0\n",
       "dtype: int64"
      ]
     },
     "execution_count": 62,
     "metadata": {},
     "output_type": "execute_result"
    }
   ],
   "source": [
    "df = train.dropna(subset=[\"native.country\", \"workclass\"])\n",
    "df.isnull().sum()"
   ]
  },
  {
   "cell_type": "code",
   "execution_count": 63,
   "id": "311739f4",
   "metadata": {},
   "outputs": [
    {
     "name": "stdout",
     "output_type": "stream",
     "text": [
      "(29304, 16)\n"
     ]
    },
    {
     "name": "stdout",
     "output_type": "stream",
     "text": [
      "(29304, 11)\n"
     ]
    }
   ],
   "source": [
    "print(train.shape)\n",
    "df = train.dropna(axis=1)\n",
    "print(df.shape)"
   ]
  },
  {
   "cell_type": "code",
   "execution_count": 64,
   "id": "a539ca1d",
   "metadata": {},
   "outputs": [
    {
     "data": {
      "text/plain": [
       "id                0\n",
       "fnlwgt            0\n",
       "education         0\n",
       "education.num     0\n",
       "marital.status    0\n",
       "relationship      0\n",
       "race              0\n",
       "sex               0\n",
       "capital.gain      0\n",
       "capital.loss      0\n",
       "income            0\n",
       "dtype: int64"
      ]
     },
     "execution_count": 64,
     "metadata": {},
     "output_type": "execute_result"
    }
   ],
   "source": [
    "df.isnull().sum()"
   ]
  },
  {
   "cell_type": "code",
   "execution_count": 65,
   "id": "964c8e6b",
   "metadata": {},
   "outputs": [
    {
     "name": "stdout",
     "output_type": "stream",
     "text": [
      "(29304, 16)\n",
      "(29304, 14)\n"
     ]
    }
   ],
   "source": [
    "print(train.shape)\n",
    "df = train.drop(['native.country', 'workclass'], axis=1)\n",
    "print(df.shape)"
   ]
  },
  {
   "cell_type": "code",
   "execution_count": 66,
   "id": "9a225630",
   "metadata": {},
   "outputs": [
    {
     "data": {
      "text/plain": [
       "np.int64(0)"
      ]
     },
     "execution_count": 66,
     "metadata": {},
     "output_type": "execute_result"
    }
   ],
   "source": [
    "a = train[\"workclass\"].mode()[0]\n",
    "train[\"workclass\"] = train[\"workclass\"].fillna(a)\n",
    "\n",
    "train[\"workclass\"].isnull().sum()"
   ]
  },
  {
   "cell_type": "code",
   "execution_count": 67,
   "id": "70508b89",
   "metadata": {},
   "outputs": [
    {
     "data": {
      "text/plain": [
       "id                   0\n",
       "age                 12\n",
       "workclass            0\n",
       "fnlwgt               0\n",
       "education            0\n",
       "education.num        0\n",
       "marital.status       0\n",
       "occupation        1668\n",
       "relationship         0\n",
       "race                 0\n",
       "sex                  0\n",
       "capital.gain         0\n",
       "capital.loss         0\n",
       "hours.per.week      13\n",
       "native.country     537\n",
       "income               0\n",
       "dtype: int64"
      ]
     },
     "execution_count": 67,
     "metadata": {},
     "output_type": "execute_result"
    }
   ],
   "source": [
    "train.isnull().sum()"
   ]
  },
  {
   "cell_type": "code",
   "execution_count": 68,
   "id": "f3ac521b",
   "metadata": {},
   "outputs": [
    {
     "name": "stdout",
     "output_type": "stream",
     "text": [
      "id                  0\n",
      "age                12\n",
      "workclass           0\n",
      "fnlwgt              0\n",
      "education           0\n",
      "education.num       0\n",
      "marital.status      0\n",
      "occupation          0\n",
      "relationship        0\n",
      "race                0\n",
      "sex                 0\n",
      "capital.gain        0\n",
      "capital.loss        0\n",
      "hours.per.week     13\n",
      "native.country    537\n",
      "income              0\n",
      "dtype: int64\n",
      "id                  0\n",
      "age                 6\n",
      "workclass         174\n",
      "fnlwgt              0\n",
      "education           0\n",
      "education.num       0\n",
      "marital.status      0\n",
      "occupation          0\n",
      "relationship        0\n",
      "race                0\n",
      "sex                 0\n",
      "capital.gain        0\n",
      "capital.loss        0\n",
      "hours.per.week      9\n",
      "native.country     46\n",
      "dtype: int64\n"
     ]
    }
   ],
   "source": [
    "train[\"occupation\"] = train[\"occupation\"].fillna(\"X\")\n",
    "test[\"occupation\"] = test[\"occupation\"].fillna(\"X\")\n",
    "print(train.isnull().sum())\n",
    "print(test.isnull().sum())"
   ]
  },
  {
   "cell_type": "code",
   "execution_count": 69,
   "id": "9e0df977",
   "metadata": {},
   "outputs": [
    {
     "name": "stdout",
     "output_type": "stream",
     "text": [
      "id                  0\n",
      "age                12\n",
      "workclass           0\n",
      "fnlwgt              0\n",
      "education           0\n",
      "education.num       0\n",
      "marital.status      0\n",
      "occupation          0\n",
      "relationship        0\n",
      "race                0\n",
      "sex                 0\n",
      "capital.gain        0\n",
      "capital.loss        0\n",
      "hours.per.week     13\n",
      "native.country    537\n",
      "income              0\n",
      "dtype: int64\n",
      "id                 0\n",
      "age                6\n",
      "workclass          0\n",
      "fnlwgt             0\n",
      "education          0\n",
      "education.num      0\n",
      "marital.status     0\n",
      "occupation         0\n",
      "relationship       0\n",
      "race               0\n",
      "sex                0\n",
      "capital.gain       0\n",
      "capital.loss       0\n",
      "hours.per.week     9\n",
      "native.country    46\n",
      "dtype: int64\n"
     ]
    }
   ],
   "source": [
    "train[\"workclass\"] = train[\"workclass\"].fillna(train[\"workclass\"].mode()[0])\n",
    "test[\"workclass\"] = test[\"workclass\"].fillna(test[\"workclass\"].mode()[0])\n",
    "print(train.isnull().sum())\n",
    "print(test.isnull().sum())"
   ]
  },
  {
   "cell_type": "code",
   "execution_count": 70,
   "id": "df09b89b",
   "metadata": {},
   "outputs": [],
   "source": [
    "train[\"native.country\"] = train[\"native.country\"].fillna(train[\"native.country\"].mode()[0])\n",
    "test[\"native.country\"] = test[\"native.country\"].fillna(train[\"native.country\"].mode()[0])"
   ]
  },
  {
   "cell_type": "code",
   "execution_count": 71,
   "id": "936e43fc",
   "metadata": {},
   "outputs": [],
   "source": [
    "value = int(train[\"age\"].mean())\n",
    "train[\"age\"] = train[\"age\"].fillna(value)\n",
    "test[\"age\"] = test[\"age\"].fillna(value)"
   ]
  },
  {
   "cell_type": "code",
   "execution_count": 72,
   "id": "b5a43d03",
   "metadata": {},
   "outputs": [],
   "source": [
    "value = int(train[\"hours.per.week\"].median())\n",
    "train[\"hours.per.week\"] = train[\"hours.per.week\"].fillna(value)\n",
    "test[\"hours.per.week\"] = test[\"hours.per.week\"].fillna(value)"
   ]
  },
  {
   "cell_type": "code",
   "execution_count": 73,
   "id": "71e76567",
   "metadata": {},
   "outputs": [
    {
     "name": "stdout",
     "output_type": "stream",
     "text": [
      "(29304, 16)\n",
      "(3257, 15)\n"
     ]
    }
   ],
   "source": [
    "# 인코딩 \n",
    "## 원-핫 인코딩\n",
    "\n",
    "# print(train.head(3))\n",
    "# print(test.head(3))\n",
    "\n",
    "# print(train.isnull().sum())\n",
    "# print(test.isnull().sum())\n",
    "\n",
    "print(train.shape)\n",
    "print(test.shape)"
   ]
  },
  {
   "cell_type": "code",
   "execution_count": 74,
   "id": "e488c3d7",
   "metadata": {},
   "outputs": [
    {
     "data": {
      "text/plain": [
       "0         >50K\n",
       "1        <=50K\n",
       "2        <=50K\n",
       "3         >50K\n",
       "4        <=50K\n",
       "         ...  \n",
       "29299    <=50K\n",
       "29300    <=50K\n",
       "29301    <=50K\n",
       "29302    <=50K\n",
       "29303    <=50K\n",
       "Name: income, Length: 29304, dtype: object"
      ]
     },
     "execution_count": 74,
     "metadata": {},
     "output_type": "execute_result"
    }
   ],
   "source": [
    "y_train = train.pop(\"income\")\n",
    "y_train"
   ]
  },
  {
   "cell_type": "code",
   "execution_count": 75,
   "id": "5e66d69e",
   "metadata": {},
   "outputs": [
    {
     "name": "stdout",
     "output_type": "stream",
     "text": [
      "(29304, 15)\n",
      "(3257, 15)\n"
     ]
    }
   ],
   "source": [
    "print(train.shape)\n",
    "print(test.shape)"
   ]
  },
  {
   "cell_type": "code",
   "execution_count": 76,
   "id": "b2695bda",
   "metadata": {},
   "outputs": [
    {
     "name": "stdout",
     "output_type": "stream",
     "text": [
      "(29304, 107)\n",
      "(3257, 103)\n"
     ]
    }
   ],
   "source": [
    "train_oh = pd.get_dummies(train)\n",
    "test_oh = pd.get_dummies(test)\n",
    "\n",
    "print(train_oh.shape)\n",
    "print(test_oh.shape)"
   ]
  },
  {
   "cell_type": "code",
   "execution_count": 77,
   "id": "659270f1",
   "metadata": {},
   "outputs": [
    {
     "name": "stdout",
     "output_type": "stream",
     "text": [
      "workclass\n",
      "Private             22113\n",
      "Self-emp-not-inc     2292\n",
      "Local-gov            1863\n",
      "State-gov            1170\n",
      "Self-emp-inc          991\n",
      "Federal-gov           856\n",
      "Without-pay            13\n",
      "Never-worked            6\n",
      "Name: count, dtype: int64\n",
      "workclass\n",
      "Private             2419\n",
      "Self-emp-not-inc     249\n",
      "Local-gov            230\n",
      "State-gov            128\n",
      "Self-emp-inc         125\n",
      "Federal-gov          104\n",
      "Never-worked           1\n",
      "Without-pay            1\n",
      "Name: count, dtype: int64\n"
     ]
    }
   ],
   "source": [
    "print(train[\"workclass\"].value_counts())\n",
    "print(test[\"workclass\"].value_counts())"
   ]
  },
  {
   "cell_type": "code",
   "execution_count": null,
   "id": "3bda0b2d",
   "metadata": {},
   "outputs": [],
   "source": []
  },
  {
   "cell_type": "code",
   "execution_count": 78,
   "id": "977d4b11",
   "metadata": {},
   "outputs": [
    {
     "name": "stdout",
     "output_type": "stream",
     "text": [
      "(29304, 15) (3257, 15)\n"
     ]
    },
    {
     "data": {
      "text/plain": [
       "((29304, 107), (3257, 107))"
      ]
     },
     "execution_count": 78,
     "metadata": {},
     "output_type": "execute_result"
    }
   ],
   "source": [
    "print(train.shape, test.shape)\n",
    "data = pd.concat([train, test])\n",
    "data_oh = pd.get_dummies(data)\n",
    "\n",
    "train_oh = data_oh.iloc[:len(train)]\n",
    "test_oh = data_oh.iloc[len(train):]\n",
    "\n",
    "train_oh.shape, test_oh.shape"
   ]
  },
  {
   "cell_type": "code",
   "execution_count": 79,
   "id": "c8dcf546",
   "metadata": {},
   "outputs": [
    {
     "data": {
      "text/html": [
       "<div>\n",
       "<style scoped>\n",
       "    .dataframe tbody tr th:only-of-type {\n",
       "        vertical-align: middle;\n",
       "    }\n",
       "\n",
       "    .dataframe tbody tr th {\n",
       "        vertical-align: top;\n",
       "    }\n",
       "\n",
       "    .dataframe thead th {\n",
       "        text-align: right;\n",
       "    }\n",
       "</style>\n",
       "<table border=\"1\" class=\"dataframe\">\n",
       "  <thead>\n",
       "    <tr style=\"text-align: right;\">\n",
       "      <th></th>\n",
       "      <th>workclass</th>\n",
       "      <th>education</th>\n",
       "      <th>marital.status</th>\n",
       "      <th>occupation</th>\n",
       "      <th>relationship</th>\n",
       "      <th>race</th>\n",
       "      <th>sex</th>\n",
       "      <th>native.country</th>\n",
       "    </tr>\n",
       "  </thead>\n",
       "  <tbody>\n",
       "    <tr>\n",
       "      <th>0</th>\n",
       "      <td>6</td>\n",
       "      <td>15</td>\n",
       "      <td>2</td>\n",
       "      <td>9</td>\n",
       "      <td>0</td>\n",
       "      <td>2</td>\n",
       "      <td>1</td>\n",
       "      <td>38</td>\n",
       "    </tr>\n",
       "    <tr>\n",
       "      <th>1</th>\n",
       "      <td>3</td>\n",
       "      <td>11</td>\n",
       "      <td>2</td>\n",
       "      <td>2</td>\n",
       "      <td>0</td>\n",
       "      <td>4</td>\n",
       "      <td>1</td>\n",
       "      <td>38</td>\n",
       "    </tr>\n",
       "    <tr>\n",
       "      <th>2</th>\n",
       "      <td>3</td>\n",
       "      <td>15</td>\n",
       "      <td>6</td>\n",
       "      <td>3</td>\n",
       "      <td>4</td>\n",
       "      <td>2</td>\n",
       "      <td>0</td>\n",
       "      <td>38</td>\n",
       "    </tr>\n",
       "    <tr>\n",
       "      <th>3</th>\n",
       "      <td>3</td>\n",
       "      <td>15</td>\n",
       "      <td>2</td>\n",
       "      <td>10</td>\n",
       "      <td>0</td>\n",
       "      <td>4</td>\n",
       "      <td>1</td>\n",
       "      <td>38</td>\n",
       "    </tr>\n",
       "    <tr>\n",
       "      <th>4</th>\n",
       "      <td>3</td>\n",
       "      <td>15</td>\n",
       "      <td>2</td>\n",
       "      <td>13</td>\n",
       "      <td>0</td>\n",
       "      <td>4</td>\n",
       "      <td>1</td>\n",
       "      <td>38</td>\n",
       "    </tr>\n",
       "  </tbody>\n",
       "</table>\n",
       "</div>"
      ],
      "text/plain": [
       "   workclass  education  marital.status  occupation  relationship  race  sex  \\\n",
       "0          6         15               2           9             0     2    1   \n",
       "1          3         11               2           2             0     4    1   \n",
       "2          3         15               6           3             4     2    0   \n",
       "3          3         15               2          10             0     4    1   \n",
       "4          3         15               2          13             0     4    1   \n",
       "\n",
       "   native.country  \n",
       "0              38  \n",
       "1              38  \n",
       "2              38  \n",
       "3              38  \n",
       "4              38  "
      ]
     },
     "execution_count": 79,
     "metadata": {},
     "output_type": "execute_result"
    }
   ],
   "source": [
    "# 레이블 인코딩\n",
    "cols = train.select_dtypes(include=\"object\").columns\n",
    "\n",
    "from sklearn.preprocessing import LabelEncoder\n",
    "\n",
    "# train[cols]\n",
    "\n",
    "for col in cols:\n",
    "    le = LabelEncoder()\n",
    "    le.fit(train[col])\n",
    "    train[col] = le.transform(train[col])\n",
    "    test[col] = le.transform(test[col])\n",
    "\n",
    "train[cols].head()\n"
   ]
  },
  {
   "cell_type": "code",
   "execution_count": 80,
   "id": "9cd34ff1",
   "metadata": {},
   "outputs": [],
   "source": [
    "def get_data():\n",
    "    train_copy = train.copy()\n",
    "    test_copy = test.copy()\n",
    "    return train_copy, test_copy"
   ]
  },
  {
   "cell_type": "code",
   "execution_count": 82,
   "id": "1b752e01",
   "metadata": {},
   "outputs": [
    {
     "data": {
      "text/html": [
       "<div>\n",
       "<style scoped>\n",
       "    .dataframe tbody tr th:only-of-type {\n",
       "        vertical-align: middle;\n",
       "    }\n",
       "\n",
       "    .dataframe tbody tr th {\n",
       "        vertical-align: top;\n",
       "    }\n",
       "\n",
       "    .dataframe thead th {\n",
       "        text-align: right;\n",
       "    }\n",
       "</style>\n",
       "<table border=\"1\" class=\"dataframe\">\n",
       "  <thead>\n",
       "    <tr style=\"text-align: right;\">\n",
       "      <th></th>\n",
       "      <th>workclass</th>\n",
       "      <th>education</th>\n",
       "      <th>marital.status</th>\n",
       "      <th>occupation</th>\n",
       "      <th>relationship</th>\n",
       "      <th>race</th>\n",
       "      <th>sex</th>\n",
       "      <th>native.country</th>\n",
       "    </tr>\n",
       "  </thead>\n",
       "  <tbody>\n",
       "    <tr>\n",
       "      <th>0</th>\n",
       "      <td>0.857143</td>\n",
       "      <td>1.000000</td>\n",
       "      <td>0.333333</td>\n",
       "      <td>0.642857</td>\n",
       "      <td>0.0</td>\n",
       "      <td>0.5</td>\n",
       "      <td>1.0</td>\n",
       "      <td>0.95</td>\n",
       "    </tr>\n",
       "    <tr>\n",
       "      <th>1</th>\n",
       "      <td>0.428571</td>\n",
       "      <td>0.733333</td>\n",
       "      <td>0.333333</td>\n",
       "      <td>0.142857</td>\n",
       "      <td>0.0</td>\n",
       "      <td>1.0</td>\n",
       "      <td>1.0</td>\n",
       "      <td>0.95</td>\n",
       "    </tr>\n",
       "    <tr>\n",
       "      <th>2</th>\n",
       "      <td>0.428571</td>\n",
       "      <td>1.000000</td>\n",
       "      <td>1.000000</td>\n",
       "      <td>0.214286</td>\n",
       "      <td>0.8</td>\n",
       "      <td>0.5</td>\n",
       "      <td>0.0</td>\n",
       "      <td>0.95</td>\n",
       "    </tr>\n",
       "  </tbody>\n",
       "</table>\n",
       "</div>"
      ],
      "text/plain": [
       "   workclass  education  marital.status  occupation  relationship  race  sex  \\\n",
       "0   0.857143   1.000000        0.333333    0.642857           0.0   0.5  1.0   \n",
       "1   0.428571   0.733333        0.333333    0.142857           0.0   1.0  1.0   \n",
       "2   0.428571   1.000000        1.000000    0.214286           0.8   0.5  0.0   \n",
       "\n",
       "   native.country  \n",
       "0            0.95  \n",
       "1            0.95  \n",
       "2            0.95  "
      ]
     },
     "execution_count": 82,
     "metadata": {},
     "output_type": "execute_result"
    }
   ],
   "source": [
    "train_copy, test_copy = get_data()\n",
    "\n",
    "# train_copy[cols]\n",
    "\n",
    "from sklearn.preprocessing import MinMaxScaler\n",
    "\n",
    "scaler = MinMaxScaler()\n",
    "scaler.fit(train_copy[cols])\n",
    "train_copy[cols] = scaler.transform(train_copy[cols])\n",
    "test_copy[cols] = scaler.transform(test_copy[cols])\n",
    "\n",
    "train_copy[cols].head(3)"
   ]
  },
  {
   "cell_type": "code",
   "execution_count": 84,
   "id": "b3c9651e",
   "metadata": {},
   "outputs": [
    {
     "data": {
      "text/html": [
       "<div>\n",
       "<style scoped>\n",
       "    .dataframe tbody tr th:only-of-type {\n",
       "        vertical-align: middle;\n",
       "    }\n",
       "\n",
       "    .dataframe tbody tr th {\n",
       "        vertical-align: top;\n",
       "    }\n",
       "\n",
       "    .dataframe thead th {\n",
       "        text-align: right;\n",
       "    }\n",
       "</style>\n",
       "<table border=\"1\" class=\"dataframe\">\n",
       "  <thead>\n",
       "    <tr style=\"text-align: right;\">\n",
       "      <th></th>\n",
       "      <th>workclass</th>\n",
       "      <th>education</th>\n",
       "      <th>marital.status</th>\n",
       "      <th>occupation</th>\n",
       "      <th>relationship</th>\n",
       "      <th>race</th>\n",
       "      <th>sex</th>\n",
       "      <th>native.country</th>\n",
       "    </tr>\n",
       "  </thead>\n",
       "  <tbody>\n",
       "    <tr>\n",
       "      <th>0</th>\n",
       "      <td>2.627193</td>\n",
       "      <td>1.215704</td>\n",
       "      <td>-0.405886</td>\n",
       "      <td>0.594375</td>\n",
       "      <td>-0.902040</td>\n",
       "      <td>-1.960312</td>\n",
       "      <td>0.704828</td>\n",
       "      <td>0.261085</td>\n",
       "    </tr>\n",
       "    <tr>\n",
       "      <th>1</th>\n",
       "      <td>-0.087609</td>\n",
       "      <td>0.180327</td>\n",
       "      <td>-0.405886</td>\n",
       "      <td>-1.021654</td>\n",
       "      <td>-0.902040</td>\n",
       "      <td>0.394328</td>\n",
       "      <td>0.704828</td>\n",
       "      <td>0.261085</td>\n",
       "    </tr>\n",
       "    <tr>\n",
       "      <th>2</th>\n",
       "      <td>-0.087609</td>\n",
       "      <td>1.215704</td>\n",
       "      <td>2.248747</td>\n",
       "      <td>-0.790793</td>\n",
       "      <td>1.583468</td>\n",
       "      <td>-1.960312</td>\n",
       "      <td>-1.418786</td>\n",
       "      <td>0.261085</td>\n",
       "    </tr>\n",
       "    <tr>\n",
       "      <th>3</th>\n",
       "      <td>-0.087609</td>\n",
       "      <td>1.215704</td>\n",
       "      <td>-0.405886</td>\n",
       "      <td>0.825236</td>\n",
       "      <td>-0.902040</td>\n",
       "      <td>0.394328</td>\n",
       "      <td>0.704828</td>\n",
       "      <td>0.261085</td>\n",
       "    </tr>\n",
       "    <tr>\n",
       "      <th>4</th>\n",
       "      <td>-0.087609</td>\n",
       "      <td>1.215704</td>\n",
       "      <td>-0.405886</td>\n",
       "      <td>1.517820</td>\n",
       "      <td>-0.902040</td>\n",
       "      <td>0.394328</td>\n",
       "      <td>0.704828</td>\n",
       "      <td>0.261085</td>\n",
       "    </tr>\n",
       "  </tbody>\n",
       "</table>\n",
       "</div>"
      ],
      "text/plain": [
       "   workclass  education  marital.status  occupation  relationship      race  \\\n",
       "0   2.627193   1.215704       -0.405886    0.594375     -0.902040 -1.960312   \n",
       "1  -0.087609   0.180327       -0.405886   -1.021654     -0.902040  0.394328   \n",
       "2  -0.087609   1.215704        2.248747   -0.790793      1.583468 -1.960312   \n",
       "3  -0.087609   1.215704       -0.405886    0.825236     -0.902040  0.394328   \n",
       "4  -0.087609   1.215704       -0.405886    1.517820     -0.902040  0.394328   \n",
       "\n",
       "        sex  native.country  \n",
       "0  0.704828        0.261085  \n",
       "1  0.704828        0.261085  \n",
       "2 -1.418786        0.261085  \n",
       "3  0.704828        0.261085  \n",
       "4  0.704828        0.261085  "
      ]
     },
     "execution_count": 84,
     "metadata": {},
     "output_type": "execute_result"
    }
   ],
   "source": [
    "train_copy, test_copy = get_data()\n",
    "\n",
    "from sklearn.preprocessing import StandardScaler\n",
    "scaler = StandardScaler()\n",
    "scaler.fit(train_copy[cols])\n",
    "train_copy[cols] = scaler.transform(train_copy[cols])\n",
    "test_copy[cols] = scaler.transform(test_copy[cols])\n",
    "\n",
    "\n",
    "train_copy[cols].head()\n"
   ]
  },
  {
   "cell_type": "code",
   "execution_count": 85,
   "id": "a8016d57",
   "metadata": {},
   "outputs": [
    {
     "data": {
      "text/html": [
       "<div>\n",
       "<style scoped>\n",
       "    .dataframe tbody tr th:only-of-type {\n",
       "        vertical-align: middle;\n",
       "    }\n",
       "\n",
       "    .dataframe tbody tr th {\n",
       "        vertical-align: top;\n",
       "    }\n",
       "\n",
       "    .dataframe thead th {\n",
       "        text-align: right;\n",
       "    }\n",
       "</style>\n",
       "<table border=\"1\" class=\"dataframe\">\n",
       "  <thead>\n",
       "    <tr style=\"text-align: right;\">\n",
       "      <th></th>\n",
       "      <th>workclass</th>\n",
       "      <th>education</th>\n",
       "      <th>marital.status</th>\n",
       "      <th>occupation</th>\n",
       "      <th>relationship</th>\n",
       "      <th>race</th>\n",
       "      <th>sex</th>\n",
       "      <th>native.country</th>\n",
       "    </tr>\n",
       "  </thead>\n",
       "  <tbody>\n",
       "    <tr>\n",
       "      <th>0</th>\n",
       "      <td>3.0</td>\n",
       "      <td>1.333333</td>\n",
       "      <td>0.0</td>\n",
       "      <td>0.428571</td>\n",
       "      <td>-0.333333</td>\n",
       "      <td>-2.0</td>\n",
       "      <td>0.0</td>\n",
       "      <td>0.0</td>\n",
       "    </tr>\n",
       "    <tr>\n",
       "      <th>1</th>\n",
       "      <td>0.0</td>\n",
       "      <td>0.000000</td>\n",
       "      <td>0.0</td>\n",
       "      <td>-0.571429</td>\n",
       "      <td>-0.333333</td>\n",
       "      <td>0.0</td>\n",
       "      <td>0.0</td>\n",
       "      <td>0.0</td>\n",
       "    </tr>\n",
       "    <tr>\n",
       "      <th>2</th>\n",
       "      <td>0.0</td>\n",
       "      <td>1.333333</td>\n",
       "      <td>2.0</td>\n",
       "      <td>-0.428571</td>\n",
       "      <td>1.000000</td>\n",
       "      <td>-2.0</td>\n",
       "      <td>-1.0</td>\n",
       "      <td>0.0</td>\n",
       "    </tr>\n",
       "    <tr>\n",
       "      <th>3</th>\n",
       "      <td>0.0</td>\n",
       "      <td>1.333333</td>\n",
       "      <td>0.0</td>\n",
       "      <td>0.571429</td>\n",
       "      <td>-0.333333</td>\n",
       "      <td>0.0</td>\n",
       "      <td>0.0</td>\n",
       "      <td>0.0</td>\n",
       "    </tr>\n",
       "    <tr>\n",
       "      <th>4</th>\n",
       "      <td>0.0</td>\n",
       "      <td>1.333333</td>\n",
       "      <td>0.0</td>\n",
       "      <td>1.000000</td>\n",
       "      <td>-0.333333</td>\n",
       "      <td>0.0</td>\n",
       "      <td>0.0</td>\n",
       "      <td>0.0</td>\n",
       "    </tr>\n",
       "  </tbody>\n",
       "</table>\n",
       "</div>"
      ],
      "text/plain": [
       "   workclass  education  marital.status  occupation  relationship  race  sex  \\\n",
       "0        3.0   1.333333             0.0    0.428571     -0.333333  -2.0  0.0   \n",
       "1        0.0   0.000000             0.0   -0.571429     -0.333333   0.0  0.0   \n",
       "2        0.0   1.333333             2.0   -0.428571      1.000000  -2.0 -1.0   \n",
       "3        0.0   1.333333             0.0    0.571429     -0.333333   0.0  0.0   \n",
       "4        0.0   1.333333             0.0    1.000000     -0.333333   0.0  0.0   \n",
       "\n",
       "   native.country  \n",
       "0             0.0  \n",
       "1             0.0  \n",
       "2             0.0  \n",
       "3             0.0  \n",
       "4             0.0  "
      ]
     },
     "execution_count": 85,
     "metadata": {},
     "output_type": "execute_result"
    }
   ],
   "source": [
    "train_copy, test_copy = get_data()\n",
    "\n",
    "from sklearn.preprocessing import RobustScaler \n",
    "\n",
    "scaler = RobustScaler()\n",
    "scaler.fit(train_copy[cols])\n",
    "train_copy[cols]=scaler.transform(train_copy[cols])\n",
    "test_copy[cols]=scaler.transform(test_copy[cols])\n",
    "\n",
    "train_copy[cols].head()"
   ]
  },
  {
   "cell_type": "code",
   "execution_count": 91,
   "id": "6ef720a3",
   "metadata": {},
   "outputs": [
    {
     "data": {
      "text/plain": [
       "((23443, 15), (5861, 15), (23443,), (5861,))"
      ]
     },
     "execution_count": 91,
     "metadata": {},
     "output_type": "execute_result"
    }
   ],
   "source": [
    "# 검증데이터 나누기\n",
    "\n",
    "train.head()\n",
    "test.head()\n",
    "train.shape\n",
    "test.shape\n",
    "y_train\n",
    "\n",
    "from sklearn.model_selection import train_test_split\n",
    "\n",
    "X_train, X_val, y_train, y_val = train_test_split(\n",
    "    train, \n",
    "    y_train, \n",
    "    test_size=0.2, \n",
    "    random_state=2025\n",
    ")\n",
    "\n",
    "X_train.shape, X_val.shape, y_train.shape, y_val.shape"
   ]
  },
  {
   "cell_type": "code",
   "execution_count": 94,
   "id": "a772dd4d",
   "metadata": {},
   "outputs": [],
   "source": [
    "from sklearn.ensemble import RandomForestClassifier\n",
    "\n",
    "rf = RandomForestClassifier()\n",
    "rf.fit(X_train, y_train)\n",
    "pred = rf.predict_proba(X_val)\n",
    "\n"
   ]
  },
  {
   "cell_type": "code",
   "execution_count": 96,
   "id": "223c819c",
   "metadata": {},
   "outputs": [
    {
     "data": {
      "text/plain": [
       "array(['<=50K', '>50K'], dtype=object)"
      ]
     },
     "execution_count": 96,
     "metadata": {},
     "output_type": "execute_result"
    }
   ],
   "source": [
    "rf.classes_"
   ]
  },
  {
   "cell_type": "code",
   "execution_count": 98,
   "id": "57a17865",
   "metadata": {},
   "outputs": [
    {
     "data": {
      "text/plain": [
       "array([0.93, 0.33, 0.03, ..., 0.01, 0.01, 0.89], shape=(5861,))"
      ]
     },
     "execution_count": 98,
     "metadata": {},
     "output_type": "execute_result"
    }
   ],
   "source": [
    "pred[:, 1]"
   ]
  },
  {
   "cell_type": "code",
   "execution_count": 100,
   "id": "f222b514",
   "metadata": {},
   "outputs": [
    {
     "data": {
      "text/plain": [
       "0.9166381544206033"
      ]
     },
     "execution_count": 100,
     "metadata": {},
     "output_type": "execute_result"
    }
   ],
   "source": [
    "from sklearn.metrics import roc_auc_score\n",
    "\n",
    "roc_score = roc_auc_score(y_val, pred[:, 1])\n",
    "roc_score"
   ]
  },
  {
   "cell_type": "code",
   "execution_count": 105,
   "id": "b48f8ad7",
   "metadata": {},
   "outputs": [
    {
     "data": {
      "text/plain": [
       "0.9309405426063334"
      ]
     },
     "execution_count": 105,
     "metadata": {},
     "output_type": "execute_result"
    }
   ],
   "source": [
    "import lightgbm as lgb\n",
    "\n",
    "lgbmc = lgb.LGBMClassifier(random_state=2025, verbose=-1)\n",
    "lgbmc.fit(X_train, y_train)\n",
    "pred = lgbmc.predict_proba(X_val)\n",
    "\n",
    "from sklearn.metrics import roc_auc_score\n",
    "\n",
    "roc_score = roc_auc_score(y_val, pred[:, 1])\n",
    "roc_score"
   ]
  },
  {
   "cell_type": "code",
   "execution_count": 110,
   "id": "b22682e7",
   "metadata": {},
   "outputs": [],
   "source": [
    "pred = lgbmc.predict_proba(test)\n",
    "pred[:, 1]\n",
    "\n",
    "submit = pd.DataFrame({\n",
    "    \"pred\": pred[:, 1]\n",
    "})\n",
    "\n",
    "submit.to_csv(\"result.csv\", index=False)"
   ]
  },
  {
   "cell_type": "code",
   "execution_count": null,
   "id": "728c358e",
   "metadata": {},
   "outputs": [],
   "source": []
  }
 ],
 "metadata": {
  "kernelspec": {
   "display_name": "Python 3",
   "language": "python",
   "name": "python3"
  },
  "language_info": {
   "codemirror_mode": {
    "name": "ipython",
    "version": 3
   },
   "file_extension": ".py",
   "mimetype": "text/x-python",
   "name": "python",
   "nbconvert_exporter": "python",
   "pygments_lexer": "ipython3",
   "version": "3.13.7"
  }
 },
 "nbformat": 4,
 "nbformat_minor": 5
}
