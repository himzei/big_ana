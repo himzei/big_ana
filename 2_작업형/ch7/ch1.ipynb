{
 "cells": [
  {
   "cell_type": "code",
   "execution_count": 39,
   "id": "e8fcf356",
   "metadata": {},
   "outputs": [
    {
     "data": {
      "text/plain": [
       "((4198, 21), (1499, 20))"
      ]
     },
     "execution_count": 39,
     "metadata": {},
     "output_type": "execute_result"
    }
   ],
   "source": [
    "import pandas as pd \n",
    "\n",
    "train = pd.read_csv(\"score_train.csv\")\n",
    "test = pd.read_csv(\"score_test.csv\")\n",
    "\n",
    "train.shape, test.shape\n"
   ]
  },
  {
   "cell_type": "code",
   "execution_count": 40,
   "id": "1655d763",
   "metadata": {},
   "outputs": [
    {
     "name": "stdout",
     "output_type": "stream",
     "text": [
      "<class 'pandas.core.frame.DataFrame'>\n",
      "RangeIndex: 4198 entries, 0 to 4197\n",
      "Data columns (total 21 columns):\n",
      " #   Column                    Non-Null Count  Dtype  \n",
      "---  ------                    --------------  -----  \n",
      " 0   Delay_from_due_date       4198 non-null   float64\n",
      " 1   Num_of_Delayed_Payment    4198 non-null   float64\n",
      " 2   Num_Credit_Inquiries      4198 non-null   float64\n",
      " 3   Credit_Utilization_Ratio  4198 non-null   float64\n",
      " 4   Credit_History_Age        4198 non-null   float64\n",
      " 5   Payment_of_Min_Amount     4198 non-null   object \n",
      " 6   Amount_invested_monthly   4198 non-null   float64\n",
      " 7   Monthly_Balance           4198 non-null   float64\n",
      " 8   Credit_Mix                4198 non-null   object \n",
      " 9   Payment_Behaviour         4198 non-null   object \n",
      " 10  Age                       4198 non-null   float64\n",
      " 11  Annual_Income             4198 non-null   float64\n",
      " 12  Num_Bank_Accounts         4198 non-null   float64\n",
      " 13  Num_Credit_Card           4198 non-null   float64\n",
      " 14  Interest_Rate             4198 non-null   float64\n",
      " 15  Num_of_Loan               4198 non-null   float64\n",
      " 16  Monthly_Inhand_Salary     4198 non-null   float64\n",
      " 17  Changed_Credit_Limit      4198 non-null   float64\n",
      " 18  Outstanding_Debt          4198 non-null   float64\n",
      " 19  Total_EMI_per_month       4198 non-null   float64\n",
      " 20  Credit_Score              4198 non-null   object \n",
      "dtypes: float64(17), object(4)\n",
      "memory usage: 688.9+ KB\n"
     ]
    }
   ],
   "source": [
    "train.info()"
   ]
  },
  {
   "cell_type": "code",
   "execution_count": 41,
   "id": "211370c5",
   "metadata": {},
   "outputs": [
    {
     "data": {
      "text/html": [
       "<div>\n",
       "<style scoped>\n",
       "    .dataframe tbody tr th:only-of-type {\n",
       "        vertical-align: middle;\n",
       "    }\n",
       "\n",
       "    .dataframe tbody tr th {\n",
       "        vertical-align: top;\n",
       "    }\n",
       "\n",
       "    .dataframe thead th {\n",
       "        text-align: right;\n",
       "    }\n",
       "</style>\n",
       "<table border=\"1\" class=\"dataframe\">\n",
       "  <thead>\n",
       "    <tr style=\"text-align: right;\">\n",
       "      <th></th>\n",
       "      <th>Delay_from_due_date</th>\n",
       "      <th>Num_of_Delayed_Payment</th>\n",
       "      <th>Num_Credit_Inquiries</th>\n",
       "      <th>Credit_Utilization_Ratio</th>\n",
       "      <th>Credit_History_Age</th>\n",
       "      <th>Amount_invested_monthly</th>\n",
       "      <th>Monthly_Balance</th>\n",
       "      <th>Age</th>\n",
       "      <th>Annual_Income</th>\n",
       "      <th>Num_Bank_Accounts</th>\n",
       "      <th>Num_Credit_Card</th>\n",
       "      <th>Interest_Rate</th>\n",
       "      <th>Num_of_Loan</th>\n",
       "      <th>Monthly_Inhand_Salary</th>\n",
       "      <th>Changed_Credit_Limit</th>\n",
       "      <th>Outstanding_Debt</th>\n",
       "      <th>Total_EMI_per_month</th>\n",
       "    </tr>\n",
       "  </thead>\n",
       "  <tbody>\n",
       "    <tr>\n",
       "      <th>count</th>\n",
       "      <td>4198.000000</td>\n",
       "      <td>4198.000000</td>\n",
       "      <td>4198.000000</td>\n",
       "      <td>4198.000000</td>\n",
       "      <td>4198.000000</td>\n",
       "      <td>4198.000000</td>\n",
       "      <td>4198.000000</td>\n",
       "      <td>4198.000000</td>\n",
       "      <td>4198.000000</td>\n",
       "      <td>4198.000000</td>\n",
       "      <td>4198.000000</td>\n",
       "      <td>4198.000000</td>\n",
       "      <td>4198.000000</td>\n",
       "      <td>4198.000000</td>\n",
       "      <td>4198.000000</td>\n",
       "      <td>4198.000000</td>\n",
       "      <td>4198.000000</td>\n",
       "    </tr>\n",
       "    <tr>\n",
       "      <th>mean</th>\n",
       "      <td>21.363983</td>\n",
       "      <td>13.353978</td>\n",
       "      <td>5.746308</td>\n",
       "      <td>32.231895</td>\n",
       "      <td>222.225345</td>\n",
       "      <td>191.510951</td>\n",
       "      <td>404.255307</td>\n",
       "      <td>33.313721</td>\n",
       "      <td>50484.607537</td>\n",
       "      <td>5.424726</td>\n",
       "      <td>5.530729</td>\n",
       "      <td>14.578371</td>\n",
       "      <td>3.563125</td>\n",
       "      <td>4195.260793</td>\n",
       "      <td>10.357006</td>\n",
       "      <td>1409.436679</td>\n",
       "      <td>109.368995</td>\n",
       "    </tr>\n",
       "    <tr>\n",
       "      <th>std</th>\n",
       "      <td>14.760722</td>\n",
       "      <td>6.189640</td>\n",
       "      <td>3.853921</td>\n",
       "      <td>5.139842</td>\n",
       "      <td>99.764260</td>\n",
       "      <td>193.237278</td>\n",
       "      <td>211.622208</td>\n",
       "      <td>10.736982</td>\n",
       "      <td>38079.236375</td>\n",
       "      <td>2.555354</td>\n",
       "      <td>2.062956</td>\n",
       "      <td>8.568630</td>\n",
       "      <td>2.465621</td>\n",
       "      <td>3159.974294</td>\n",
       "      <td>6.532086</td>\n",
       "      <td>1146.835939</td>\n",
       "      <td>141.802993</td>\n",
       "    </tr>\n",
       "    <tr>\n",
       "      <th>min</th>\n",
       "      <td>0.000000</td>\n",
       "      <td>0.000000</td>\n",
       "      <td>0.000000</td>\n",
       "      <td>20.985606</td>\n",
       "      <td>1.000000</td>\n",
       "      <td>0.000000</td>\n",
       "      <td>8.063863</td>\n",
       "      <td>14.000000</td>\n",
       "      <td>7019.435000</td>\n",
       "      <td>0.000000</td>\n",
       "      <td>1.000000</td>\n",
       "      <td>1.000000</td>\n",
       "      <td>0.000000</td>\n",
       "      <td>357.255833</td>\n",
       "      <td>0.510000</td>\n",
       "      <td>0.540000</td>\n",
       "      <td>0.000000</td>\n",
       "    </tr>\n",
       "    <tr>\n",
       "      <th>25%</th>\n",
       "      <td>10.000000</td>\n",
       "      <td>9.000000</td>\n",
       "      <td>3.000000</td>\n",
       "      <td>27.990565</td>\n",
       "      <td>148.000000</td>\n",
       "      <td>71.267456</td>\n",
       "      <td>272.249521</td>\n",
       "      <td>24.000000</td>\n",
       "      <td>19558.610000</td>\n",
       "      <td>4.000000</td>\n",
       "      <td>4.000000</td>\n",
       "      <td>8.000000</td>\n",
       "      <td>2.000000</td>\n",
       "      <td>1654.409375</td>\n",
       "      <td>5.400000</td>\n",
       "      <td>546.840000</td>\n",
       "      <td>29.294379</td>\n",
       "    </tr>\n",
       "    <tr>\n",
       "      <th>50%</th>\n",
       "      <td>19.000000</td>\n",
       "      <td>14.000000</td>\n",
       "      <td>5.000000</td>\n",
       "      <td>32.117580</td>\n",
       "      <td>221.000000</td>\n",
       "      <td>127.766968</td>\n",
       "      <td>340.080970</td>\n",
       "      <td>33.000000</td>\n",
       "      <td>36820.590000</td>\n",
       "      <td>6.000000</td>\n",
       "      <td>5.000000</td>\n",
       "      <td>13.000000</td>\n",
       "      <td>3.000000</td>\n",
       "      <td>3088.630000</td>\n",
       "      <td>9.275000</td>\n",
       "      <td>1170.415000</td>\n",
       "      <td>68.084075</td>\n",
       "    </tr>\n",
       "    <tr>\n",
       "      <th>75%</th>\n",
       "      <td>28.000000</td>\n",
       "      <td>18.000000</td>\n",
       "      <td>8.000000</td>\n",
       "      <td>36.488230</td>\n",
       "      <td>302.000000</td>\n",
       "      <td>234.452093</td>\n",
       "      <td>474.931229</td>\n",
       "      <td>42.000000</td>\n",
       "      <td>71842.800000</td>\n",
       "      <td>7.000000</td>\n",
       "      <td>7.000000</td>\n",
       "      <td>20.000000</td>\n",
       "      <td>5.000000</td>\n",
       "      <td>5987.795833</td>\n",
       "      <td>14.910000</td>\n",
       "      <td>1916.575000</td>\n",
       "      <td>147.166548</td>\n",
       "    </tr>\n",
       "    <tr>\n",
       "      <th>max</th>\n",
       "      <td>67.000000</td>\n",
       "      <td>28.000000</td>\n",
       "      <td>17.000000</td>\n",
       "      <td>48.023249</td>\n",
       "      <td>404.000000</td>\n",
       "      <td>1733.700474</td>\n",
       "      <td>1508.926823</td>\n",
       "      <td>56.000000</td>\n",
       "      <td>179193.760000</td>\n",
       "      <td>10.000000</td>\n",
       "      <td>11.000000</td>\n",
       "      <td>34.000000</td>\n",
       "      <td>9.000000</td>\n",
       "      <td>15101.940000</td>\n",
       "      <td>29.980000</td>\n",
       "      <td>4990.910000</td>\n",
       "      <td>1779.103254</td>\n",
       "    </tr>\n",
       "  </tbody>\n",
       "</table>\n",
       "</div>"
      ],
      "text/plain": [
       "       Delay_from_due_date  Num_of_Delayed_Payment  Num_Credit_Inquiries  \\\n",
       "count          4198.000000             4198.000000           4198.000000   \n",
       "mean             21.363983               13.353978              5.746308   \n",
       "std              14.760722                6.189640              3.853921   \n",
       "min               0.000000                0.000000              0.000000   \n",
       "25%              10.000000                9.000000              3.000000   \n",
       "50%              19.000000               14.000000              5.000000   \n",
       "75%              28.000000               18.000000              8.000000   \n",
       "max              67.000000               28.000000             17.000000   \n",
       "\n",
       "       Credit_Utilization_Ratio  Credit_History_Age  Amount_invested_monthly  \\\n",
       "count               4198.000000         4198.000000              4198.000000   \n",
       "mean                  32.231895          222.225345               191.510951   \n",
       "std                    5.139842           99.764260               193.237278   \n",
       "min                   20.985606            1.000000                 0.000000   \n",
       "25%                   27.990565          148.000000                71.267456   \n",
       "50%                   32.117580          221.000000               127.766968   \n",
       "75%                   36.488230          302.000000               234.452093   \n",
       "max                   48.023249          404.000000              1733.700474   \n",
       "\n",
       "       Monthly_Balance          Age  Annual_Income  Num_Bank_Accounts  \\\n",
       "count      4198.000000  4198.000000    4198.000000        4198.000000   \n",
       "mean        404.255307    33.313721   50484.607537           5.424726   \n",
       "std         211.622208    10.736982   38079.236375           2.555354   \n",
       "min           8.063863    14.000000    7019.435000           0.000000   \n",
       "25%         272.249521    24.000000   19558.610000           4.000000   \n",
       "50%         340.080970    33.000000   36820.590000           6.000000   \n",
       "75%         474.931229    42.000000   71842.800000           7.000000   \n",
       "max        1508.926823    56.000000  179193.760000          10.000000   \n",
       "\n",
       "       Num_Credit_Card  Interest_Rate  Num_of_Loan  Monthly_Inhand_Salary  \\\n",
       "count      4198.000000    4198.000000  4198.000000            4198.000000   \n",
       "mean          5.530729      14.578371     3.563125            4195.260793   \n",
       "std           2.062956       8.568630     2.465621            3159.974294   \n",
       "min           1.000000       1.000000     0.000000             357.255833   \n",
       "25%           4.000000       8.000000     2.000000            1654.409375   \n",
       "50%           5.000000      13.000000     3.000000            3088.630000   \n",
       "75%           7.000000      20.000000     5.000000            5987.795833   \n",
       "max          11.000000      34.000000     9.000000           15101.940000   \n",
       "\n",
       "       Changed_Credit_Limit  Outstanding_Debt  Total_EMI_per_month  \n",
       "count           4198.000000       4198.000000          4198.000000  \n",
       "mean              10.357006       1409.436679           109.368995  \n",
       "std                6.532086       1146.835939           141.802993  \n",
       "min                0.510000          0.540000             0.000000  \n",
       "25%                5.400000        546.840000            29.294379  \n",
       "50%                9.275000       1170.415000            68.084075  \n",
       "75%               14.910000       1916.575000           147.166548  \n",
       "max               29.980000       4990.910000          1779.103254  "
      ]
     },
     "execution_count": 41,
     "metadata": {},
     "output_type": "execute_result"
    }
   ],
   "source": [
    "train.describe()"
   ]
  },
  {
   "cell_type": "code",
   "execution_count": 42,
   "id": "ebc65df3",
   "metadata": {},
   "outputs": [
    {
     "data": {
      "text/plain": [
       "Delay_from_due_date         0\n",
       "Num_of_Delayed_Payment      0\n",
       "Num_Credit_Inquiries        0\n",
       "Credit_Utilization_Ratio    0\n",
       "Credit_History_Age          0\n",
       "Payment_of_Min_Amount       0\n",
       "Amount_invested_monthly     0\n",
       "Monthly_Balance             0\n",
       "Credit_Mix                  0\n",
       "Payment_Behaviour           0\n",
       "Age                         0\n",
       "Annual_Income               0\n",
       "Num_Bank_Accounts           0\n",
       "Num_Credit_Card             0\n",
       "Interest_Rate               0\n",
       "Num_of_Loan                 0\n",
       "Monthly_Inhand_Salary       0\n",
       "Changed_Credit_Limit        0\n",
       "Outstanding_Debt            0\n",
       "Total_EMI_per_month         0\n",
       "Credit_Score                0\n",
       "dtype: int64"
      ]
     },
     "execution_count": 42,
     "metadata": {},
     "output_type": "execute_result"
    }
   ],
   "source": [
    "train.isnull().sum()"
   ]
  },
  {
   "cell_type": "code",
   "execution_count": null,
   "id": "fa41496a",
   "metadata": {},
   "outputs": [],
   "source": []
  },
  {
   "cell_type": "code",
   "execution_count": 43,
   "id": "fb38d970",
   "metadata": {},
   "outputs": [],
   "source": [
    "target = train.pop(\"Credit_Score\")\n"
   ]
  },
  {
   "cell_type": "code",
   "execution_count": 44,
   "id": "19808ef5",
   "metadata": {},
   "outputs": [
    {
     "data": {
      "text/plain": [
       "Index(['Payment_of_Min_Amount', 'Credit_Mix', 'Payment_Behaviour'], dtype='object')"
      ]
     },
     "execution_count": 44,
     "metadata": {},
     "output_type": "execute_result"
    }
   ],
   "source": [
    "cols = train.select_dtypes(include=\"object\").columns\n",
    "cols"
   ]
  },
  {
   "cell_type": "code",
   "execution_count": 45,
   "id": "616ab230",
   "metadata": {},
   "outputs": [],
   "source": [
    "cols_ex = train.select_dtypes(exclude=\"object\").columns\n",
    "from sklearn.preprocessing import MinMaxScaler\n",
    "\n",
    "scaler = MinMaxScaler()\n",
    "train[cols_ex] = scaler.fit_transform(train[cols_ex])\n",
    "test[cols_ex] = scaler.transform(test[cols_ex])"
   ]
  },
  {
   "cell_type": "code",
   "execution_count": 46,
   "id": "9be4dec5",
   "metadata": {},
   "outputs": [
    {
     "data": {
      "text/plain": [
       "Payment_of_Min_Amount    3\n",
       "Credit_Mix               3\n",
       "Payment_Behaviour        6\n",
       "dtype: int64"
      ]
     },
     "execution_count": 46,
     "metadata": {},
     "output_type": "execute_result"
    }
   ],
   "source": [
    "train[cols].nunique()"
   ]
  },
  {
   "cell_type": "code",
   "execution_count": 47,
   "id": "4e2ae4d7",
   "metadata": {},
   "outputs": [],
   "source": [
    "data = pd.concat([train, test])\n",
    "\n",
    "data_oh = pd.get_dummies(data)\n",
    "\n",
    "train = data_oh.iloc[:len(train)].copy()\n",
    "test = data_oh.iloc[len(train):].copy()"
   ]
  },
  {
   "cell_type": "code",
   "execution_count": 48,
   "id": "14908467",
   "metadata": {},
   "outputs": [],
   "source": [
    "from sklearn.model_selection import train_test_split\n",
    "\n",
    "X_train, X_val, y_train, y_val = train_test_split(\n",
    "    train, \n",
    "    target, \n",
    "    test_size= 0.2, \n",
    "    random_state=2025\n",
    ")\n",
    "\n"
   ]
  },
  {
   "cell_type": "code",
   "execution_count": 49,
   "id": "f0f32e04",
   "metadata": {},
   "outputs": [],
   "source": [
    "from sklearn.ensemble import RandomForestClassifier \n",
    "import lightgbm as lgb \n",
    "\n",
    "\n",
    "rf = RandomForestClassifier(random_state=2025)\n",
    "rf.fit(X_train, y_train) \n",
    "pred_rf = rf.predict(X_val)\n",
    "\n",
    "lgbmc = lgb.LGBMClassifier(random_state=2025, verbose=-1)\n",
    "lgbmc.fit(X_train, y_train)\n",
    "pred_lgb = lgbmc.predict(X_val)"
   ]
  },
  {
   "cell_type": "code",
   "execution_count": 50,
   "id": "f2630db5",
   "metadata": {},
   "outputs": [
    {
     "data": {
      "text/plain": [
       "(0.7100428447955952, 0.7021258864294014)"
      ]
     },
     "execution_count": 50,
     "metadata": {},
     "output_type": "execute_result"
    }
   ],
   "source": [
    "from sklearn.metrics import f1_score\n",
    "\n",
    "f1_rf = f1_score(y_val, pred_rf, average=\"macro\")\n",
    "f1_lgb = f1_score(y_val, pred_lgb, average=\"macro\")\n",
    "\n",
    "f1_rf, f1_lgb\n"
   ]
  },
  {
   "cell_type": "code",
   "execution_count": 51,
   "id": "1e5c77d5",
   "metadata": {},
   "outputs": [
    {
     "data": {
      "text/plain": [
       "array(['Poor', 'Good', 'Standard', ..., 'Standard', 'Good', 'Standard'],\n",
       "      shape=(1499,), dtype=object)"
      ]
     },
     "execution_count": 51,
     "metadata": {},
     "output_type": "execute_result"
    }
   ],
   "source": [
    "pred=  rf.predict(test)\n",
    "pred"
   ]
  },
  {
   "cell_type": "code",
   "execution_count": 52,
   "id": "42356709",
   "metadata": {},
   "outputs": [
    {
     "data": {
      "text/plain": [
       "((4198, 29), (1499, 29), (5697, 20))"
      ]
     },
     "execution_count": 52,
     "metadata": {},
     "output_type": "execute_result"
    }
   ],
   "source": [
    "train.shape, test.shape, data.shape"
   ]
  },
  {
   "cell_type": "code",
   "execution_count": null,
   "id": "9ea621b0",
   "metadata": {},
   "outputs": [],
   "source": []
  }
 ],
 "metadata": {
  "kernelspec": {
   "display_name": "Python 3",
   "language": "python",
   "name": "python3"
  },
  "language_info": {
   "codemirror_mode": {
    "name": "ipython",
    "version": 3
   },
   "file_extension": ".py",
   "mimetype": "text/x-python",
   "name": "python",
   "nbconvert_exporter": "python",
   "pygments_lexer": "ipython3",
   "version": "3.13.7"
  }
 },
 "nbformat": 4,
 "nbformat_minor": 5
}
