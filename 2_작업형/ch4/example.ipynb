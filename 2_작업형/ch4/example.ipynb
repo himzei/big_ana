{
 "cells": [
  {
   "cell_type": "code",
   "execution_count": null,
   "id": "40fc0f0d",
   "metadata": {},
   "outputs": [
    {
     "data": {
      "text/plain": [
       "((6818, 12), (1705, 11))"
      ]
     },
     "execution_count": 1,
     "metadata": {},
     "output_type": "execute_result"
    }
   ],
   "source": [
    "import pandas as pd \n",
    "train = pd.read_csv(\"train.csv\")\n",
    "test = pd.read_csv(\"test.csv\")\n",
    "\n",
    "# train.shape, test.shape"
   ]
  },
  {
   "cell_type": "code",
   "execution_count": 3,
   "id": "05227f48",
   "metadata": {},
   "outputs": [
    {
     "data": {
      "text/html": [
       "<div>\n",
       "<style scoped>\n",
       "    .dataframe tbody tr th:only-of-type {\n",
       "        vertical-align: middle;\n",
       "    }\n",
       "\n",
       "    .dataframe tbody tr th {\n",
       "        vertical-align: top;\n",
       "    }\n",
       "\n",
       "    .dataframe thead th {\n",
       "        text-align: right;\n",
       "    }\n",
       "</style>\n",
       "<table border=\"1\" class=\"dataframe\">\n",
       "  <thead>\n",
       "    <tr style=\"text-align: right;\">\n",
       "      <th></th>\n",
       "      <th>Item_Identifier</th>\n",
       "      <th>Item_Weight</th>\n",
       "      <th>Item_Fat_Content</th>\n",
       "      <th>Item_Visibility</th>\n",
       "      <th>Item_Type</th>\n",
       "      <th>Item_MRP</th>\n",
       "      <th>Outlet_Identifier</th>\n",
       "      <th>Outlet_Establishment_Year</th>\n",
       "      <th>Outlet_Size</th>\n",
       "      <th>Outlet_Location_Type</th>\n",
       "      <th>Outlet_Type</th>\n",
       "    </tr>\n",
       "  </thead>\n",
       "  <tbody>\n",
       "    <tr>\n",
       "      <th>0</th>\n",
       "      <td>FDO38</td>\n",
       "      <td>17.250</td>\n",
       "      <td>Low Fat</td>\n",
       "      <td>0.073251</td>\n",
       "      <td>Canned</td>\n",
       "      <td>76.4986</td>\n",
       "      <td>OUT017</td>\n",
       "      <td>2007</td>\n",
       "      <td>NaN</td>\n",
       "      <td>Tier 2</td>\n",
       "      <td>Supermarket Type1</td>\n",
       "    </tr>\n",
       "    <tr>\n",
       "      <th>1</th>\n",
       "      <td>FDO32</td>\n",
       "      <td>6.360</td>\n",
       "      <td>Low Fat</td>\n",
       "      <td>0.120544</td>\n",
       "      <td>Fruits and Vegetables</td>\n",
       "      <td>45.8060</td>\n",
       "      <td>OUT046</td>\n",
       "      <td>1997</td>\n",
       "      <td>Small</td>\n",
       "      <td>Tier 1</td>\n",
       "      <td>Supermarket Type1</td>\n",
       "    </tr>\n",
       "    <tr>\n",
       "      <th>2</th>\n",
       "      <td>FDT14</td>\n",
       "      <td>10.695</td>\n",
       "      <td>Regular</td>\n",
       "      <td>0.128247</td>\n",
       "      <td>Dairy</td>\n",
       "      <td>121.8440</td>\n",
       "      <td>OUT018</td>\n",
       "      <td>2009</td>\n",
       "      <td>Medium</td>\n",
       "      <td>Tier 3</td>\n",
       "      <td>Supermarket Type2</td>\n",
       "    </tr>\n",
       "  </tbody>\n",
       "</table>\n",
       "</div>"
      ],
      "text/plain": [
       "  Item_Identifier  Item_Weight Item_Fat_Content  Item_Visibility  \\\n",
       "0           FDO38       17.250          Low Fat         0.073251   \n",
       "1           FDO32        6.360          Low Fat         0.120544   \n",
       "2           FDT14       10.695          Regular         0.128247   \n",
       "\n",
       "               Item_Type  Item_MRP Outlet_Identifier  \\\n",
       "0                 Canned   76.4986            OUT017   \n",
       "1  Fruits and Vegetables   45.8060            OUT046   \n",
       "2                  Dairy  121.8440            OUT018   \n",
       "\n",
       "   Outlet_Establishment_Year Outlet_Size Outlet_Location_Type  \\\n",
       "0                       2007         NaN               Tier 2   \n",
       "1                       1997       Small               Tier 1   \n",
       "2                       2009      Medium               Tier 3   \n",
       "\n",
       "         Outlet_Type  \n",
       "0  Supermarket Type1  \n",
       "1  Supermarket Type1  \n",
       "2  Supermarket Type2  "
      ]
     },
     "execution_count": 3,
     "metadata": {},
     "output_type": "execute_result"
    }
   ],
   "source": [
    "train.head(3)\n",
    "test.head(3)"
   ]
  },
  {
   "cell_type": "code",
   "execution_count": 5,
   "id": "ddab0a52",
   "metadata": {},
   "outputs": [
    {
     "name": "stdout",
     "output_type": "stream",
     "text": [
      "<class 'pandas.core.frame.DataFrame'>\n",
      "RangeIndex: 6818 entries, 0 to 6817\n",
      "Data columns (total 12 columns):\n",
      " #   Column                     Non-Null Count  Dtype  \n",
      "---  ------                     --------------  -----  \n",
      " 0   Item_Identifier            6818 non-null   object \n",
      " 1   Item_Weight                5656 non-null   float64\n",
      " 2   Item_Fat_Content           6818 non-null   object \n",
      " 3   Item_Visibility            6818 non-null   float64\n",
      " 4   Item_Type                  6818 non-null   object \n",
      " 5   Item_MRP                   6818 non-null   float64\n",
      " 6   Outlet_Identifier          6818 non-null   object \n",
      " 7   Outlet_Establishment_Year  6818 non-null   int64  \n",
      " 8   Outlet_Size                4878 non-null   object \n",
      " 9   Outlet_Location_Type       6818 non-null   object \n",
      " 10  Outlet_Type                6818 non-null   object \n",
      " 11  Item_Outlet_Sales          6818 non-null   float64\n",
      "dtypes: float64(4), int64(1), object(7)\n",
      "memory usage: 639.3+ KB\n",
      "<class 'pandas.core.frame.DataFrame'>\n",
      "RangeIndex: 1705 entries, 0 to 1704\n",
      "Data columns (total 11 columns):\n",
      " #   Column                     Non-Null Count  Dtype  \n",
      "---  ------                     --------------  -----  \n",
      " 0   Item_Identifier            1705 non-null   object \n",
      " 1   Item_Weight                1404 non-null   float64\n",
      " 2   Item_Fat_Content           1705 non-null   object \n",
      " 3   Item_Visibility            1705 non-null   float64\n",
      " 4   Item_Type                  1705 non-null   object \n",
      " 5   Item_MRP                   1705 non-null   float64\n",
      " 6   Outlet_Identifier          1705 non-null   object \n",
      " 7   Outlet_Establishment_Year  1705 non-null   int64  \n",
      " 8   Outlet_Size                1235 non-null   object \n",
      " 9   Outlet_Location_Type       1705 non-null   object \n",
      " 10  Outlet_Type                1705 non-null   object \n",
      "dtypes: float64(3), int64(1), object(7)\n",
      "memory usage: 146.7+ KB\n"
     ]
    }
   ],
   "source": [
    "train.info()\n",
    "test.info()"
   ]
  },
  {
   "cell_type": "code",
   "execution_count": 7,
   "id": "15454acc",
   "metadata": {},
   "outputs": [
    {
     "data": {
      "text/html": [
       "<div>\n",
       "<style scoped>\n",
       "    .dataframe tbody tr th:only-of-type {\n",
       "        vertical-align: middle;\n",
       "    }\n",
       "\n",
       "    .dataframe tbody tr th {\n",
       "        vertical-align: top;\n",
       "    }\n",
       "\n",
       "    .dataframe thead th {\n",
       "        text-align: right;\n",
       "    }\n",
       "</style>\n",
       "<table border=\"1\" class=\"dataframe\">\n",
       "  <thead>\n",
       "    <tr style=\"text-align: right;\">\n",
       "      <th></th>\n",
       "      <th>Item_Identifier</th>\n",
       "      <th>Item_Fat_Content</th>\n",
       "      <th>Item_Type</th>\n",
       "      <th>Outlet_Identifier</th>\n",
       "      <th>Outlet_Size</th>\n",
       "      <th>Outlet_Location_Type</th>\n",
       "      <th>Outlet_Type</th>\n",
       "    </tr>\n",
       "  </thead>\n",
       "  <tbody>\n",
       "    <tr>\n",
       "      <th>count</th>\n",
       "      <td>6818</td>\n",
       "      <td>6818</td>\n",
       "      <td>6818</td>\n",
       "      <td>6818</td>\n",
       "      <td>4878</td>\n",
       "      <td>6818</td>\n",
       "      <td>6818</td>\n",
       "    </tr>\n",
       "    <tr>\n",
       "      <th>unique</th>\n",
       "      <td>1554</td>\n",
       "      <td>5</td>\n",
       "      <td>16</td>\n",
       "      <td>10</td>\n",
       "      <td>3</td>\n",
       "      <td>3</td>\n",
       "      <td>4</td>\n",
       "    </tr>\n",
       "    <tr>\n",
       "      <th>top</th>\n",
       "      <td>FDW26</td>\n",
       "      <td>Low Fat</td>\n",
       "      <td>Snack Foods</td>\n",
       "      <td>OUT046</td>\n",
       "      <td>Medium</td>\n",
       "      <td>Tier 3</td>\n",
       "      <td>Supermarket Type1</td>\n",
       "    </tr>\n",
       "    <tr>\n",
       "      <th>freq</th>\n",
       "      <td>9</td>\n",
       "      <td>4092</td>\n",
       "      <td>963</td>\n",
       "      <td>763</td>\n",
       "      <td>2228</td>\n",
       "      <td>2664</td>\n",
       "      <td>4474</td>\n",
       "    </tr>\n",
       "  </tbody>\n",
       "</table>\n",
       "</div>"
      ],
      "text/plain": [
       "       Item_Identifier Item_Fat_Content    Item_Type Outlet_Identifier  \\\n",
       "count             6818             6818         6818              6818   \n",
       "unique            1554                5           16                10   \n",
       "top              FDW26          Low Fat  Snack Foods            OUT046   \n",
       "freq                 9             4092          963               763   \n",
       "\n",
       "       Outlet_Size Outlet_Location_Type        Outlet_Type  \n",
       "count         4878                 6818               6818  \n",
       "unique           3                    3                  4  \n",
       "top         Medium               Tier 3  Supermarket Type1  \n",
       "freq          2228                 2664               4474  "
      ]
     },
     "execution_count": 7,
     "metadata": {},
     "output_type": "execute_result"
    }
   ],
   "source": [
    "train.describe()\n",
    "train.describe(include=\"object\")"
   ]
  },
  {
   "cell_type": "code",
   "execution_count": 8,
   "id": "6eb7ca2e",
   "metadata": {},
   "outputs": [
    {
     "data": {
      "text/plain": [
       "Item_Identifier                 0\n",
       "Item_Weight                  1162\n",
       "Item_Fat_Content                0\n",
       "Item_Visibility                 0\n",
       "Item_Type                       0\n",
       "Item_MRP                        0\n",
       "Outlet_Identifier               0\n",
       "Outlet_Establishment_Year       0\n",
       "Outlet_Size                  1940\n",
       "Outlet_Location_Type            0\n",
       "Outlet_Type                     0\n",
       "Item_Outlet_Sales               0\n",
       "dtype: int64"
      ]
     },
     "execution_count": 8,
     "metadata": {},
     "output_type": "execute_result"
    }
   ],
   "source": [
    "train.isnull().sum()"
   ]
  },
  {
   "cell_type": "code",
   "execution_count": 12,
   "id": "99086073",
   "metadata": {},
   "outputs": [
    {
     "name": "stdout",
     "output_type": "stream",
     "text": [
      "(6818, 11)\n",
      "(1705, 11)\n",
      "(8523, 11)\n"
     ]
    }
   ],
   "source": [
    "# 전처리\n",
    "cols = train.select_dtypes(include=\"object\").columns\n",
    "\n",
    "target = train.pop(\"Item_Outlet_Sales\")\n",
    "print(train.shape)\n",
    "print(test.shape)\n",
    "\n",
    "data = pd.concat([train, test])\n",
    "print(data.shape)\n"
   ]
  },
  {
   "cell_type": "code",
   "execution_count": null,
   "id": "526f9d79",
   "metadata": {},
   "outputs": [
    {
     "data": {
      "text/html": [
       "<div>\n",
       "<style scoped>\n",
       "    .dataframe tbody tr th:only-of-type {\n",
       "        vertical-align: middle;\n",
       "    }\n",
       "\n",
       "    .dataframe tbody tr th {\n",
       "        vertical-align: top;\n",
       "    }\n",
       "\n",
       "    .dataframe thead th {\n",
       "        text-align: right;\n",
       "    }\n",
       "</style>\n",
       "<table border=\"1\" class=\"dataframe\">\n",
       "  <thead>\n",
       "    <tr style=\"text-align: right;\">\n",
       "      <th></th>\n",
       "      <th>Item_Identifier</th>\n",
       "      <th>Item_Fat_Content</th>\n",
       "      <th>Item_Type</th>\n",
       "      <th>Outlet_Identifier</th>\n",
       "      <th>Outlet_Size</th>\n",
       "      <th>Outlet_Location_Type</th>\n",
       "      <th>Outlet_Type</th>\n",
       "    </tr>\n",
       "  </thead>\n",
       "  <tbody>\n",
       "    <tr>\n",
       "      <th>0</th>\n",
       "      <td>1467</td>\n",
       "      <td>1</td>\n",
       "      <td>9</td>\n",
       "      <td>1</td>\n",
       "      <td>0</td>\n",
       "      <td>2</td>\n",
       "      <td>1</td>\n",
       "    </tr>\n",
       "    <tr>\n",
       "      <th>1</th>\n",
       "      <td>1075</td>\n",
       "      <td>1</td>\n",
       "      <td>1</td>\n",
       "      <td>1</td>\n",
       "      <td>0</td>\n",
       "      <td>2</td>\n",
       "      <td>1</td>\n",
       "    </tr>\n",
       "    <tr>\n",
       "      <th>2</th>\n",
       "      <td>450</td>\n",
       "      <td>1</td>\n",
       "      <td>6</td>\n",
       "      <td>1</td>\n",
       "      <td>0</td>\n",
       "      <td>2</td>\n",
       "      <td>1</td>\n",
       "    </tr>\n",
       "    <tr>\n",
       "      <th>3</th>\n",
       "      <td>613</td>\n",
       "      <td>2</td>\n",
       "      <td>5</td>\n",
       "      <td>2</td>\n",
       "      <td>3</td>\n",
       "      <td>1</td>\n",
       "      <td>1</td>\n",
       "    </tr>\n",
       "    <tr>\n",
       "      <th>4</th>\n",
       "      <td>695</td>\n",
       "      <td>2</td>\n",
       "      <td>13</td>\n",
       "      <td>1</td>\n",
       "      <td>0</td>\n",
       "      <td>2</td>\n",
       "      <td>1</td>\n",
       "    </tr>\n",
       "    <tr>\n",
       "      <th>...</th>\n",
       "      <td>...</td>\n",
       "      <td>...</td>\n",
       "      <td>...</td>\n",
       "      <td>...</td>\n",
       "      <td>...</td>\n",
       "      <td>...</td>\n",
       "      <td>...</td>\n",
       "    </tr>\n",
       "    <tr>\n",
       "      <th>1700</th>\n",
       "      <td>1502</td>\n",
       "      <td>1</td>\n",
       "      <td>9</td>\n",
       "      <td>4</td>\n",
       "      <td>2</td>\n",
       "      <td>0</td>\n",
       "      <td>0</td>\n",
       "    </tr>\n",
       "    <tr>\n",
       "      <th>1701</th>\n",
       "      <td>1168</td>\n",
       "      <td>2</td>\n",
       "      <td>4</td>\n",
       "      <td>4</td>\n",
       "      <td>2</td>\n",
       "      <td>0</td>\n",
       "      <td>0</td>\n",
       "    </tr>\n",
       "    <tr>\n",
       "      <th>1702</th>\n",
       "      <td>474</td>\n",
       "      <td>2</td>\n",
       "      <td>12</td>\n",
       "      <td>3</td>\n",
       "      <td>1</td>\n",
       "      <td>2</td>\n",
       "      <td>2</td>\n",
       "    </tr>\n",
       "    <tr>\n",
       "      <th>1703</th>\n",
       "      <td>69</td>\n",
       "      <td>1</td>\n",
       "      <td>7</td>\n",
       "      <td>2</td>\n",
       "      <td>3</td>\n",
       "      <td>1</td>\n",
       "      <td>1</td>\n",
       "    </tr>\n",
       "    <tr>\n",
       "      <th>1704</th>\n",
       "      <td>1276</td>\n",
       "      <td>1</td>\n",
       "      <td>9</td>\n",
       "      <td>8</td>\n",
       "      <td>2</td>\n",
       "      <td>0</td>\n",
       "      <td>1</td>\n",
       "    </tr>\n",
       "  </tbody>\n",
       "</table>\n",
       "<p>8523 rows × 7 columns</p>\n",
       "</div>"
      ],
      "text/plain": [
       "      Item_Identifier  Item_Fat_Content  Item_Type  Outlet_Identifier  \\\n",
       "0                1467                 1          9                  1   \n",
       "1                1075                 1          1                  1   \n",
       "2                 450                 1          6                  1   \n",
       "3                 613                 2          5                  2   \n",
       "4                 695                 2         13                  1   \n",
       "...               ...               ...        ...                ...   \n",
       "1700             1502                 1          9                  4   \n",
       "1701             1168                 2          4                  4   \n",
       "1702              474                 2         12                  3   \n",
       "1703               69                 1          7                  2   \n",
       "1704             1276                 1          9                  8   \n",
       "\n",
       "      Outlet_Size  Outlet_Location_Type  Outlet_Type  \n",
       "0               0                     2            1  \n",
       "1               0                     2            1  \n",
       "2               0                     2            1  \n",
       "3               3                     1            1  \n",
       "4               0                     2            1  \n",
       "...           ...                   ...          ...  \n",
       "1700            2                     0            0  \n",
       "1701            2                     0            0  \n",
       "1702            1                     2            2  \n",
       "1703            3                     1            1  \n",
       "1704            2                     0            1  \n",
       "\n",
       "[8523 rows x 7 columns]"
      ]
     },
     "execution_count": 14,
     "metadata": {},
     "output_type": "execute_result"
    }
   ],
   "source": [
    "from sklearn.preprocessing import LabelEncoder\n",
    "\n",
    "le = LabelEncoder()\n",
    "for col in cols: \n",
    "    # le.fit(data[col])\n",
    "    data[col] = le.fit_transform(data[col])\n",
    "\n",
    "\n",
    "\n"
   ]
  },
  {
   "cell_type": "code",
   "execution_count": 15,
   "id": "839f371d",
   "metadata": {},
   "outputs": [
    {
     "data": {
      "text/plain": [
       "((6818, 11), (1705, 11))"
      ]
     },
     "execution_count": 15,
     "metadata": {},
     "output_type": "execute_result"
    }
   ],
   "source": [
    "train = data.iloc[:len(train)].copy()\n",
    "test = data.iloc[len(train):].copy()\n",
    "\n",
    "train.shape, test.shape"
   ]
  },
  {
   "cell_type": "code",
   "execution_count": 18,
   "id": "3d508c31",
   "metadata": {},
   "outputs": [
    {
     "data": {
      "text/plain": [
       "Item_Identifier                0\n",
       "Item_Weight                  301\n",
       "Item_Fat_Content               0\n",
       "Item_Visibility                0\n",
       "Item_Type                      0\n",
       "Item_MRP                       0\n",
       "Outlet_Identifier              0\n",
       "Outlet_Establishment_Year      0\n",
       "Outlet_Size                    0\n",
       "Outlet_Location_Type           0\n",
       "Outlet_Type                    0\n",
       "dtype: int64"
      ]
     },
     "execution_count": 18,
     "metadata": {},
     "output_type": "execute_result"
    }
   ],
   "source": [
    "train.isnull().sum()\n",
    "test.isnull().sum()"
   ]
  },
  {
   "cell_type": "code",
   "execution_count": 19,
   "id": "5532e594",
   "metadata": {},
   "outputs": [
    {
     "data": {
      "text/plain": [
       "(Item_Identifier              0\n",
       " Item_Weight                  0\n",
       " Item_Fat_Content             0\n",
       " Item_Visibility              0\n",
       " Item_Type                    0\n",
       " Item_MRP                     0\n",
       " Outlet_Identifier            0\n",
       " Outlet_Establishment_Year    0\n",
       " Outlet_Size                  0\n",
       " Outlet_Location_Type         0\n",
       " Outlet_Type                  0\n",
       " dtype: int64,\n",
       " Item_Identifier              0\n",
       " Item_Weight                  0\n",
       " Item_Fat_Content             0\n",
       " Item_Visibility              0\n",
       " Item_Type                    0\n",
       " Item_MRP                     0\n",
       " Outlet_Identifier            0\n",
       " Outlet_Establishment_Year    0\n",
       " Outlet_Size                  0\n",
       " Outlet_Location_Type         0\n",
       " Outlet_Type                  0\n",
       " dtype: int64)"
      ]
     },
     "execution_count": 19,
     "metadata": {},
     "output_type": "execute_result"
    }
   ],
   "source": [
    "train[\"Item_Weight\"] = train[\"Item_Weight\"].fillna(train[\"Item_Weight\"].min())\n",
    "test[\"Item_Weight\"] = test[\"Item_Weight\"].fillna(train[\"Item_Weight\"].min())\n",
    "\n",
    "train.isnull().sum(), test.isnull().sum()"
   ]
  },
  {
   "cell_type": "code",
   "execution_count": 20,
   "id": "4fea654f",
   "metadata": {},
   "outputs": [
    {
     "data": {
      "text/plain": [
       "((5454, 11), (1364, 11), (5454,), (1364,))"
      ]
     },
     "execution_count": 20,
     "metadata": {},
     "output_type": "execute_result"
    }
   ],
   "source": [
    "from sklearn.model_selection import train_test_split\n",
    "\n",
    "X_train, X_val, y_train, y_val = train_test_split(\n",
    "    train, \n",
    "    target, \n",
    "    test_size=0.2, \n",
    "    random_state=2025\n",
    ")\n",
    "\n",
    "X_train.shape, X_val.shape, y_train.shape, y_val.shape"
   ]
  },
  {
   "cell_type": "code",
   "execution_count": 21,
   "id": "f0262f72",
   "metadata": {},
   "outputs": [],
   "source": [
    "from sklearn.linear_model import LinearRegression\n",
    "\n",
    "# 회귀모형\n",
    "lr = LinearRegression()\n",
    "lr.fit(X_train, y_train)\n",
    "pred_lr = lr.predict(X_val)\n",
    "\n",
    "# 랜덤포레스트 \n",
    "from sklearn.ensemble import RandomForestRegressor\n",
    "rf = RandomForestRegressor(random_state=2025)\n",
    "rf.fit(X_train, y_train)\n",
    "pred_rf = rf.predict(X_val)\n",
    "\n",
    "# light GBM\n",
    "import lightgbm as lgb\n",
    "lgbmr = lgb.LGBMRegressor(random_state=2025, verbose=-1)\n",
    "lgbmr.fit(X_train, y_train)\n",
    "pred_lgb = lgbmr.predict(X_val)"
   ]
  },
  {
   "cell_type": "code",
   "execution_count": 22,
   "id": "66936e2d",
   "metadata": {},
   "outputs": [
    {
     "name": "stdout",
     "output_type": "stream",
     "text": [
      "회귀모형 1245.1107086995514\n",
      "랜덤포레스트 1167.049235527179\n",
      "light GBM 1155.1549539384673\n"
     ]
    }
   ],
   "source": [
    "from sklearn.metrics import root_mean_squared_error\n",
    "\n",
    "# 회귀모형 평가\n",
    "result_lr = root_mean_squared_error(y_val, pred_lr)\n",
    "\n",
    "# 랜덤포레스트 평가\n",
    "result_rf = root_mean_squared_error(y_val, pred_rf)\n",
    "\n",
    "# lightgbm 평가\n",
    "result_lgb = root_mean_squared_error(y_val, pred_lgb)\n",
    "\n",
    "print(\"회귀모형\", result_lr)\n",
    "print(\"랜덤포레스트\", result_rf)\n",
    "print(\"light GBM\", result_lgb)"
   ]
  },
  {
   "cell_type": "code",
   "execution_count": 25,
   "id": "f7e1ef14",
   "metadata": {},
   "outputs": [],
   "source": [
    "# 예측 결과 \n",
    "\n",
    "pred = lgbmr.predict(test)\n",
    "pred\n",
    "submit = pd.DataFrame({\n",
    "    \"pred\": pred\n",
    "})\n",
    "submit.to_csv(\"result.csv\", index=False)"
   ]
  },
  {
   "cell_type": "code",
   "execution_count": null,
   "id": "25d58efb",
   "metadata": {},
   "outputs": [],
   "source": []
  }
 ],
 "metadata": {
  "kernelspec": {
   "display_name": "Python 3",
   "language": "python",
   "name": "python3"
  },
  "language_info": {
   "codemirror_mode": {
    "name": "ipython",
    "version": 3
   },
   "file_extension": ".py",
   "mimetype": "text/x-python",
   "name": "python",
   "nbconvert_exporter": "python",
   "pygments_lexer": "ipython3",
   "version": "3.13.7"
  }
 },
 "nbformat": 4,
 "nbformat_minor": 5
}
