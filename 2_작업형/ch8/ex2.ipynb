{
 "cells": [
  {
   "cell_type": "code",
   "execution_count": 1,
   "id": "a8c2430f",
   "metadata": {},
   "outputs": [],
   "source": [
    "import pandas as pd \n",
    "\n",
    "train = pd.read_csv(\"laptop_train.csv\")\n",
    "test = pd.read_csv(\"laptop_test.csv\")"
   ]
  },
  {
   "cell_type": "code",
   "execution_count": 2,
   "id": "b89ebcbc",
   "metadata": {},
   "outputs": [
    {
     "name": "stdout",
     "output_type": "stream",
     "text": [
      "<class 'pandas.core.frame.DataFrame'>\n",
      "RangeIndex: 91 entries, 0 to 90\n",
      "Data columns (total 10 columns):\n",
      " #   Column              Non-Null Count  Dtype  \n",
      "---  ------              --------------  -----  \n",
      " 0   Brand               91 non-null     object \n",
      " 1   Model               82 non-null     object \n",
      " 2   Series              55 non-null     object \n",
      " 3   Processor           86 non-null     object \n",
      " 4   Processor_Gen       86 non-null     object \n",
      " 5   RAM                 85 non-null     float64\n",
      " 6   Hard_Disk_Capacity  85 non-null     object \n",
      " 7   OS                  85 non-null     object \n",
      " 8   Rating              91 non-null     float64\n",
      " 9   Price               91 non-null     int64  \n",
      "dtypes: float64(2), int64(1), object(7)\n",
      "memory usage: 7.2+ KB\n"
     ]
    }
   ],
   "source": [
    "train.info()"
   ]
  },
  {
   "cell_type": "code",
   "execution_count": 5,
   "id": "595f4210",
   "metadata": {},
   "outputs": [
    {
     "name": "stdout",
     "output_type": "stream",
     "text": [
      "Brand 동일하지 않음\n",
      "{'realme', 'MICROSOFT'}\n",
      "Model 동일하지 않음\n",
      "{'Aspire', 'Travelmate', 'Katana', 'ROG', 'Surface', 'Notebook', '250-G6', 'Book'}\n",
      "Series 동일하지 않음\n",
      "{'Laptop', '7', 'Zephyrus', 'Flex', 'Strix', 'PC', 'GF66', '(Slim)'}\n",
      "Processor 동일하지 않음\n",
      "{'5300U', '4800HS'}\n",
      "Processor_Gen 동일하지 않음\n",
      "set()\n",
      "Hard_Disk_Capacity 동일하지 않음\n",
      "{'1 TB SSD', '128 GB SSD'}\n",
      "OS 동일하지 않음\n",
      "set()\n"
     ]
    }
   ],
   "source": [
    "cols = train.select_dtypes(include=\"O\").columns\n",
    "\n",
    "for col in cols: \n",
    "    set_train = set(train[col])\n",
    "    set_test = set(test[col])\n",
    "    same = (set_train == set_test)\n",
    "\n",
    "    if same: \n",
    "        print(col, \"동일함\")\n",
    "    else:\n",
    "        print(col, \"동일하지 않음\") \n",
    "        print(set_test - set_train)\n",
    "\n"
   ]
  },
  {
   "cell_type": "code",
   "execution_count": 7,
   "id": "602e8a35",
   "metadata": {},
   "outputs": [
    {
     "data": {
      "text/plain": [
       "Brand                 0\n",
       "Model                 0\n",
       "Series                0\n",
       "Processor             0\n",
       "Processor_Gen         0\n",
       "RAM                   2\n",
       "Hard_Disk_Capacity    0\n",
       "OS                    0\n",
       "Rating                0\n",
       "dtype: int64"
      ]
     },
     "execution_count": 7,
     "metadata": {},
     "output_type": "execute_result"
    }
   ],
   "source": [
    "train[cols] = train[cols].fillna(\"X\")\n",
    "test[cols] = test[cols].fillna(\"X\")\n",
    "\n",
    "train.isnull().sum()\n",
    "test.isnull().sum()"
   ]
  },
  {
   "cell_type": "code",
   "execution_count": 8,
   "id": "a8b85230",
   "metadata": {},
   "outputs": [
    {
     "data": {
      "text/plain": [
       "Brand                 0\n",
       "Model                 0\n",
       "Series                0\n",
       "Processor             0\n",
       "Processor_Gen         0\n",
       "RAM                   0\n",
       "Hard_Disk_Capacity    0\n",
       "OS                    0\n",
       "Rating                0\n",
       "Price                 0\n",
       "dtype: int64"
      ]
     },
     "execution_count": 8,
     "metadata": {},
     "output_type": "execute_result"
    }
   ],
   "source": [
    "train[\"RAM\"] = train[\"RAM\"].fillna(-1)\n",
    "test[\"RAM\"] = test[\"RAM\"].fillna(-1)\n",
    "\n",
    "train.isnull().sum()"
   ]
  },
  {
   "cell_type": "code",
   "execution_count": 9,
   "id": "6ca53511",
   "metadata": {},
   "outputs": [
    {
     "data": {
      "text/html": [
       "<div>\n",
       "<style scoped>\n",
       "    .dataframe tbody tr th:only-of-type {\n",
       "        vertical-align: middle;\n",
       "    }\n",
       "\n",
       "    .dataframe tbody tr th {\n",
       "        vertical-align: top;\n",
       "    }\n",
       "\n",
       "    .dataframe thead th {\n",
       "        text-align: right;\n",
       "    }\n",
       "</style>\n",
       "<table border=\"1\" class=\"dataframe\">\n",
       "  <thead>\n",
       "    <tr style=\"text-align: right;\">\n",
       "      <th></th>\n",
       "      <th>Brand</th>\n",
       "      <th>Model</th>\n",
       "      <th>Series</th>\n",
       "      <th>Processor</th>\n",
       "      <th>Processor_Gen</th>\n",
       "      <th>Hard_Disk_Capacity</th>\n",
       "      <th>OS</th>\n",
       "    </tr>\n",
       "  </thead>\n",
       "  <tbody>\n",
       "    <tr>\n",
       "      <th>count</th>\n",
       "      <td>91</td>\n",
       "      <td>91</td>\n",
       "      <td>91</td>\n",
       "      <td>91</td>\n",
       "      <td>91</td>\n",
       "      <td>91</td>\n",
       "      <td>91</td>\n",
       "    </tr>\n",
       "    <tr>\n",
       "      <th>unique</th>\n",
       "      <td>7</td>\n",
       "      <td>26</td>\n",
       "      <td>21</td>\n",
       "      <td>16</td>\n",
       "      <td>11</td>\n",
       "      <td>6</td>\n",
       "      <td>8</td>\n",
       "    </tr>\n",
       "    <tr>\n",
       "      <th>top</th>\n",
       "      <td>DELL</td>\n",
       "      <td>Inspiron</td>\n",
       "      <td>X</td>\n",
       "      <td>i3</td>\n",
       "      <td>11th</td>\n",
       "      <td>512 GB SSD</td>\n",
       "      <td>Windows 11 Home</td>\n",
       "    </tr>\n",
       "    <tr>\n",
       "      <th>freq</th>\n",
       "      <td>29</td>\n",
       "      <td>18</td>\n",
       "      <td>36</td>\n",
       "      <td>42</td>\n",
       "      <td>50</td>\n",
       "      <td>35</td>\n",
       "      <td>30</td>\n",
       "    </tr>\n",
       "  </tbody>\n",
       "</table>\n",
       "</div>"
      ],
      "text/plain": [
       "       Brand     Model Series Processor Processor_Gen Hard_Disk_Capacity  \\\n",
       "count     91        91     91        91            91                 91   \n",
       "unique     7        26     21        16            11                  6   \n",
       "top     DELL  Inspiron      X        i3          11th         512 GB SSD   \n",
       "freq      29        18     36        42            50                 35   \n",
       "\n",
       "                     OS  \n",
       "count                91  \n",
       "unique                8  \n",
       "top     Windows 11 Home  \n",
       "freq                 30  "
      ]
     },
     "execution_count": 9,
     "metadata": {},
     "output_type": "execute_result"
    }
   ],
   "source": [
    "train.describe(include=\"object\")"
   ]
  },
  {
   "cell_type": "code",
   "execution_count": null,
   "id": "62adccdd",
   "metadata": {},
   "outputs": [],
   "source": []
  }
 ],
 "metadata": {
  "kernelspec": {
   "display_name": "Python 3",
   "language": "python",
   "name": "python3"
  },
  "language_info": {
   "codemirror_mode": {
    "name": "ipython",
    "version": 3
   },
   "file_extension": ".py",
   "mimetype": "text/x-python",
   "name": "python",
   "nbconvert_exporter": "python",
   "pygments_lexer": "ipython3",
   "version": "3.13.7"
  }
 },
 "nbformat": 4,
 "nbformat_minor": 5
}
