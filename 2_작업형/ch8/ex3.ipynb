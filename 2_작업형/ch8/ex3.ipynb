{
 "cells": [
  {
   "cell_type": "code",
   "execution_count": 30,
   "id": "da8a01c4",
   "metadata": {},
   "outputs": [],
   "source": [
    "import pandas as pd \n",
    "\n",
    "train = pd.read_csv(\"car_train.csv\")\n",
    "test = pd.read_csv(\"car_test.csv\")\n",
    "\n",
    "target = train.pop(\"Price\")"
   ]
  },
  {
   "cell_type": "code",
   "execution_count": 31,
   "id": "4101d5ae",
   "metadata": {},
   "outputs": [
    {
     "name": "stdout",
     "output_type": "stream",
     "text": [
      "Levy 같지않다\n",
      "Manufacturer 같지않다\n",
      "Model 같지않다\n",
      "Category 같다\n",
      "Leather interior 같다\n",
      "Fuel type 같지않다\n",
      "Engine volume 같지않다\n",
      "Mileage 같지않다\n",
      "Gear box type 같다\n",
      "Drive wheels 같다\n",
      "Doors 같다\n",
      "Wheel 같다\n",
      "Color 같다\n"
     ]
    }
   ],
   "source": [
    "cols = train.select_dtypes(include=\"O\").columns\n",
    "\n",
    "for col in cols: \n",
    "    set_train = set(train[col])\n",
    "    set_test = set(test[col])\n",
    "\n",
    "    same = (set_train == set_test)\n",
    "\n",
    "    if same: \n",
    "        print(col, \"같다\")\n",
    "    else: \n",
    "        print(col, \"같지않다\")\n",
    "        # print(len(set_train), len(set_test))\n",
    "        # print(set_test - set_train)\n",
    "        # print(\"공통\", len(set_train & set_test))"
   ]
  },
  {
   "cell_type": "code",
   "execution_count": 32,
   "id": "26946ebf",
   "metadata": {},
   "outputs": [
    {
     "data": {
      "text/html": [
       "<div>\n",
       "<style scoped>\n",
       "    .dataframe tbody tr th:only-of-type {\n",
       "        vertical-align: middle;\n",
       "    }\n",
       "\n",
       "    .dataframe tbody tr th {\n",
       "        vertical-align: top;\n",
       "    }\n",
       "\n",
       "    .dataframe thead th {\n",
       "        text-align: right;\n",
       "    }\n",
       "</style>\n",
       "<table border=\"1\" class=\"dataframe\">\n",
       "  <thead>\n",
       "    <tr style=\"text-align: right;\">\n",
       "      <th></th>\n",
       "      <th>Levy</th>\n",
       "      <th>Manufacturer</th>\n",
       "      <th>Model</th>\n",
       "      <th>Category</th>\n",
       "      <th>Leather interior</th>\n",
       "      <th>Fuel type</th>\n",
       "      <th>Engine volume</th>\n",
       "      <th>Mileage</th>\n",
       "      <th>Gear box type</th>\n",
       "      <th>Drive wheels</th>\n",
       "      <th>Doors</th>\n",
       "      <th>Wheel</th>\n",
       "      <th>Color</th>\n",
       "    </tr>\n",
       "  </thead>\n",
       "  <tbody>\n",
       "    <tr>\n",
       "      <th>count</th>\n",
       "      <td>6732</td>\n",
       "      <td>6732</td>\n",
       "      <td>6732</td>\n",
       "      <td>6732</td>\n",
       "      <td>6732</td>\n",
       "      <td>6732</td>\n",
       "      <td>6732</td>\n",
       "      <td>6732</td>\n",
       "      <td>6732</td>\n",
       "      <td>6732</td>\n",
       "      <td>6732</td>\n",
       "      <td>6732</td>\n",
       "      <td>6732</td>\n",
       "    </tr>\n",
       "    <tr>\n",
       "      <th>unique</th>\n",
       "      <td>395</td>\n",
       "      <td>55</td>\n",
       "      <td>864</td>\n",
       "      <td>11</td>\n",
       "      <td>2</td>\n",
       "      <td>6</td>\n",
       "      <td>91</td>\n",
       "      <td>3430</td>\n",
       "      <td>4</td>\n",
       "      <td>3</td>\n",
       "      <td>3</td>\n",
       "      <td>2</td>\n",
       "      <td>16</td>\n",
       "    </tr>\n",
       "    <tr>\n",
       "      <th>top</th>\n",
       "      <td>-</td>\n",
       "      <td>HYUNDAI</td>\n",
       "      <td>Sonata</td>\n",
       "      <td>Sedan</td>\n",
       "      <td>Yes</td>\n",
       "      <td>Petrol</td>\n",
       "      <td>2</td>\n",
       "      <td>0 km</td>\n",
       "      <td>Automatic</td>\n",
       "      <td>Front</td>\n",
       "      <td>04-May</td>\n",
       "      <td>Left wheel</td>\n",
       "      <td>Black</td>\n",
       "    </tr>\n",
       "    <tr>\n",
       "      <th>freq</th>\n",
       "      <td>1997</td>\n",
       "      <td>1327</td>\n",
       "      <td>375</td>\n",
       "      <td>3129</td>\n",
       "      <td>4886</td>\n",
       "      <td>3555</td>\n",
       "      <td>1342</td>\n",
       "      <td>235</td>\n",
       "      <td>4729</td>\n",
       "      <td>4525</td>\n",
       "      <td>6392</td>\n",
       "      <td>6221</td>\n",
       "      <td>1716</td>\n",
       "    </tr>\n",
       "  </tbody>\n",
       "</table>\n",
       "</div>"
      ],
      "text/plain": [
       "        Levy Manufacturer   Model Category Leather interior Fuel type  \\\n",
       "count   6732         6732    6732     6732             6732      6732   \n",
       "unique   395           55     864       11                2         6   \n",
       "top        -      HYUNDAI  Sonata    Sedan              Yes    Petrol   \n",
       "freq    1997         1327     375     3129             4886      3555   \n",
       "\n",
       "       Engine volume Mileage Gear box type Drive wheels   Doors       Wheel  \\\n",
       "count           6732    6732          6732         6732    6732        6732   \n",
       "unique            91    3430             4            3       3           2   \n",
       "top                2    0 km     Automatic        Front  04-May  Left wheel   \n",
       "freq            1342     235          4729         4525    6392        6221   \n",
       "\n",
       "        Color  \n",
       "count    6732  \n",
       "unique     16  \n",
       "top     Black  \n",
       "freq     1716  "
      ]
     },
     "execution_count": 32,
     "metadata": {},
     "output_type": "execute_result"
    }
   ],
   "source": [
    "train[cols].describe()"
   ]
  },
  {
   "cell_type": "code",
   "execution_count": 33,
   "id": "7fe72533",
   "metadata": {},
   "outputs": [
    {
     "data": {
      "text/html": [
       "<div>\n",
       "<style scoped>\n",
       "    .dataframe tbody tr th:only-of-type {\n",
       "        vertical-align: middle;\n",
       "    }\n",
       "\n",
       "    .dataframe tbody tr th {\n",
       "        vertical-align: top;\n",
       "    }\n",
       "\n",
       "    .dataframe thead th {\n",
       "        text-align: right;\n",
       "    }\n",
       "</style>\n",
       "<table border=\"1\" class=\"dataframe\">\n",
       "  <thead>\n",
       "    <tr style=\"text-align: right;\">\n",
       "      <th></th>\n",
       "      <th>Levy</th>\n",
       "      <th>Manufacturer</th>\n",
       "      <th>Model</th>\n",
       "      <th>Category</th>\n",
       "      <th>Leather interior</th>\n",
       "      <th>Fuel type</th>\n",
       "      <th>Engine volume</th>\n",
       "      <th>Mileage</th>\n",
       "      <th>Gear box type</th>\n",
       "      <th>Drive wheels</th>\n",
       "      <th>Doors</th>\n",
       "      <th>Wheel</th>\n",
       "      <th>Color</th>\n",
       "    </tr>\n",
       "  </thead>\n",
       "  <tbody>\n",
       "    <tr>\n",
       "      <th>count</th>\n",
       "      <td>6732</td>\n",
       "      <td>6732</td>\n",
       "      <td>6732</td>\n",
       "      <td>6732</td>\n",
       "      <td>6732</td>\n",
       "      <td>6732</td>\n",
       "      <td>6732</td>\n",
       "      <td>6732</td>\n",
       "      <td>6732</td>\n",
       "      <td>6732</td>\n",
       "      <td>6732</td>\n",
       "      <td>6732</td>\n",
       "      <td>6732</td>\n",
       "    </tr>\n",
       "    <tr>\n",
       "      <th>unique</th>\n",
       "      <td>395</td>\n",
       "      <td>55</td>\n",
       "      <td>864</td>\n",
       "      <td>11</td>\n",
       "      <td>2</td>\n",
       "      <td>6</td>\n",
       "      <td>91</td>\n",
       "      <td>3430</td>\n",
       "      <td>4</td>\n",
       "      <td>3</td>\n",
       "      <td>3</td>\n",
       "      <td>2</td>\n",
       "      <td>16</td>\n",
       "    </tr>\n",
       "    <tr>\n",
       "      <th>top</th>\n",
       "      <td>-</td>\n",
       "      <td>HYUNDAI</td>\n",
       "      <td>Sonata</td>\n",
       "      <td>Sedan</td>\n",
       "      <td>Yes</td>\n",
       "      <td>Petrol</td>\n",
       "      <td>2</td>\n",
       "      <td>0 km</td>\n",
       "      <td>Automatic</td>\n",
       "      <td>Front</td>\n",
       "      <td>04-May</td>\n",
       "      <td>Left wheel</td>\n",
       "      <td>Black</td>\n",
       "    </tr>\n",
       "    <tr>\n",
       "      <th>freq</th>\n",
       "      <td>1997</td>\n",
       "      <td>1327</td>\n",
       "      <td>375</td>\n",
       "      <td>3129</td>\n",
       "      <td>4886</td>\n",
       "      <td>3555</td>\n",
       "      <td>1342</td>\n",
       "      <td>235</td>\n",
       "      <td>4729</td>\n",
       "      <td>4525</td>\n",
       "      <td>6392</td>\n",
       "      <td>6221</td>\n",
       "      <td>1716</td>\n",
       "    </tr>\n",
       "  </tbody>\n",
       "</table>\n",
       "</div>"
      ],
      "text/plain": [
       "        Levy Manufacturer   Model Category Leather interior Fuel type  \\\n",
       "count   6732         6732    6732     6732             6732      6732   \n",
       "unique   395           55     864       11                2         6   \n",
       "top        -      HYUNDAI  Sonata    Sedan              Yes    Petrol   \n",
       "freq    1997         1327     375     3129             4886      3555   \n",
       "\n",
       "       Engine volume Mileage Gear box type Drive wheels   Doors       Wheel  \\\n",
       "count           6732    6732          6732         6732    6732        6732   \n",
       "unique            91    3430             4            3       3           2   \n",
       "top                2    0 km     Automatic        Front  04-May  Left wheel   \n",
       "freq            1342     235          4729         4525    6392        6221   \n",
       "\n",
       "        Color  \n",
       "count    6732  \n",
       "unique     16  \n",
       "top     Black  \n",
       "freq     1716  "
      ]
     },
     "execution_count": 33,
     "metadata": {},
     "output_type": "execute_result"
    }
   ],
   "source": [
    "train[cols].describe()"
   ]
  },
  {
   "cell_type": "code",
   "execution_count": 34,
   "id": "06edfe69",
   "metadata": {},
   "outputs": [
    {
     "data": {
      "text/plain": [
       "Mileage\n",
       "0 km         235\n",
       "200000 km     62\n",
       "150000 km     48\n",
       "100000 km     46\n",
       "120000 km     39\n",
       "            ... \n",
       "216751 km      1\n",
       "276000 km      1\n",
       "44545 km       1\n",
       "99162 km       1\n",
       "35934 km       1\n",
       "Name: count, Length: 3430, dtype: int64"
      ]
     },
     "execution_count": 34,
     "metadata": {},
     "output_type": "execute_result"
    }
   ],
   "source": [
    "train[\"Mileage\"].value_counts()\n",
    "# train[\"Levy\"].value_counts()\n",
    "# train[\"Engine volume\"].value_counts()"
   ]
  },
  {
   "cell_type": "code",
   "execution_count": 35,
   "id": "9a51691b",
   "metadata": {},
   "outputs": [
    {
     "data": {
      "text/plain": [
       "Levy\n",
       "-1      1997\n",
       "765      175\n",
       "891      172\n",
       "640      149\n",
       "639      124\n",
       "        ... \n",
       "1590       1\n",
       "1028       1\n",
       "1848       1\n",
       "2711       1\n",
       "695        1\n",
       "Name: count, Length: 395, dtype: int64"
      ]
     },
     "execution_count": 35,
     "metadata": {},
     "output_type": "execute_result"
    }
   ],
   "source": [
    "train[\"Levy\"] = train[\"Levy\"].str.replace(\"-\", \"-1\")\n",
    "test[\"Levy\"] = test[\"Levy\"].str.replace(\"-\", \"-1\")\n",
    "\n",
    "train[\"Levy\"].value_counts()"
   ]
  },
  {
   "cell_type": "code",
   "execution_count": 36,
   "id": "fea1df9c",
   "metadata": {},
   "outputs": [],
   "source": [
    "train[\"Levy\"] = train[\"Levy\"].astype(\"int\")\n",
    "test[\"Levy\"] = test[\"Levy\"].astype(\"int\")"
   ]
  },
  {
   "cell_type": "code",
   "execution_count": null,
   "id": "11333b9a",
   "metadata": {},
   "outputs": [],
   "source": []
  },
  {
   "cell_type": "code",
   "execution_count": 37,
   "id": "a1bbf762",
   "metadata": {},
   "outputs": [],
   "source": [
    "train[\"Mileage\"] = train[\"Mileage\"].str.replace(\"km\", \"\").astype(\"int\")\n",
    "test[\"Mileage\"] = test[\"Mileage\"].str.replace(\"km\", \"\").astype(\"int\")"
   ]
  },
  {
   "cell_type": "code",
   "execution_count": 38,
   "id": "eae07d03",
   "metadata": {},
   "outputs": [
    {
     "data": {
      "text/html": [
       "<div>\n",
       "<style scoped>\n",
       "    .dataframe tbody tr th:only-of-type {\n",
       "        vertical-align: middle;\n",
       "    }\n",
       "\n",
       "    .dataframe tbody tr th {\n",
       "        vertical-align: top;\n",
       "    }\n",
       "\n",
       "    .dataframe thead th {\n",
       "        text-align: right;\n",
       "    }\n",
       "</style>\n",
       "<table border=\"1\" class=\"dataframe\">\n",
       "  <thead>\n",
       "    <tr style=\"text-align: right;\">\n",
       "      <th></th>\n",
       "      <th>Levy</th>\n",
       "      <th>Prod. year</th>\n",
       "      <th>Mileage</th>\n",
       "      <th>Cylinders</th>\n",
       "      <th>Airbags</th>\n",
       "    </tr>\n",
       "  </thead>\n",
       "  <tbody>\n",
       "    <tr>\n",
       "      <th>count</th>\n",
       "      <td>6732.000000</td>\n",
       "      <td>6732.000000</td>\n",
       "      <td>6.732000e+03</td>\n",
       "      <td>6732.000000</td>\n",
       "      <td>6732.000000</td>\n",
       "    </tr>\n",
       "    <tr>\n",
       "      <th>mean</th>\n",
       "      <td>637.821004</td>\n",
       "      <td>2010.997772</td>\n",
       "      <td>1.078728e+06</td>\n",
       "      <td>4.575609</td>\n",
       "      <td>6.551693</td>\n",
       "    </tr>\n",
       "    <tr>\n",
       "      <th>std</th>\n",
       "      <td>556.395732</td>\n",
       "      <td>5.538817</td>\n",
       "      <td>3.819277e+07</td>\n",
       "      <td>1.209242</td>\n",
       "      <td>4.364451</td>\n",
       "    </tr>\n",
       "    <tr>\n",
       "      <th>min</th>\n",
       "      <td>-1.000000</td>\n",
       "      <td>1953.000000</td>\n",
       "      <td>0.000000e+00</td>\n",
       "      <td>1.000000</td>\n",
       "      <td>0.000000</td>\n",
       "    </tr>\n",
       "    <tr>\n",
       "      <th>25%</th>\n",
       "      <td>-1.000000</td>\n",
       "      <td>2009.000000</td>\n",
       "      <td>7.133950e+04</td>\n",
       "      <td>4.000000</td>\n",
       "      <td>4.000000</td>\n",
       "    </tr>\n",
       "    <tr>\n",
       "      <th>50%</th>\n",
       "      <td>645.000000</td>\n",
       "      <td>2012.000000</td>\n",
       "      <td>1.260000e+05</td>\n",
       "      <td>4.000000</td>\n",
       "      <td>5.000000</td>\n",
       "    </tr>\n",
       "    <tr>\n",
       "      <th>75%</th>\n",
       "      <td>919.000000</td>\n",
       "      <td>2015.000000</td>\n",
       "      <td>1.887902e+05</td>\n",
       "      <td>4.000000</td>\n",
       "      <td>12.000000</td>\n",
       "    </tr>\n",
       "    <tr>\n",
       "      <th>max</th>\n",
       "      <td>7063.000000</td>\n",
       "      <td>2020.000000</td>\n",
       "      <td>2.147484e+09</td>\n",
       "      <td>16.000000</td>\n",
       "      <td>16.000000</td>\n",
       "    </tr>\n",
       "  </tbody>\n",
       "</table>\n",
       "</div>"
      ],
      "text/plain": [
       "              Levy   Prod. year       Mileage    Cylinders      Airbags\n",
       "count  6732.000000  6732.000000  6.732000e+03  6732.000000  6732.000000\n",
       "mean    637.821004  2010.997772  1.078728e+06     4.575609     6.551693\n",
       "std     556.395732     5.538817  3.819277e+07     1.209242     4.364451\n",
       "min      -1.000000  1953.000000  0.000000e+00     1.000000     0.000000\n",
       "25%      -1.000000  2009.000000  7.133950e+04     4.000000     4.000000\n",
       "50%     645.000000  2012.000000  1.260000e+05     4.000000     5.000000\n",
       "75%     919.000000  2015.000000  1.887902e+05     4.000000    12.000000\n",
       "max    7063.000000  2020.000000  2.147484e+09    16.000000    16.000000"
      ]
     },
     "execution_count": 38,
     "metadata": {},
     "output_type": "execute_result"
    }
   ],
   "source": [
    "train.describe()"
   ]
  },
  {
   "cell_type": "code",
   "execution_count": null,
   "id": "18c39bb2",
   "metadata": {},
   "outputs": [
    {
     "name": "stdout",
     "output_type": "stream",
     "text": [
      "<class 'pandas.core.frame.DataFrame'>\n",
      "RangeIndex: 6732 entries, 0 to 6731\n",
      "Data columns (total 16 columns):\n",
      " #   Column            Non-Null Count  Dtype  \n",
      "---  ------            --------------  -----  \n",
      " 0   Levy              6732 non-null   int64  \n",
      " 1   Manufacturer      6732 non-null   object \n",
      " 2   Model             6732 non-null   object \n",
      " 3   Prod. year        6732 non-null   int64  \n",
      " 4   Category          6732 non-null   object \n",
      " 5   Leather interior  6732 non-null   object \n",
      " 6   Fuel type         6732 non-null   object \n",
      " 7   Engine volume     6732 non-null   object \n",
      " 8   Mileage           6732 non-null   int64  \n",
      " 9   Cylinders         6732 non-null   float64\n",
      " 10  Gear box type     6732 non-null   object \n",
      " 11  Drive wheels      6732 non-null   object \n",
      " 12  Doors             6732 non-null   object \n",
      " 13  Wheel             6732 non-null   object \n",
      " 14  Color             6732 non-null   object \n",
      " 15  Airbags           6732 non-null   int64  \n",
      "dtypes: float64(1), int64(4), object(11)\n",
      "memory usage: 841.6+ KB\n"
     ]
    }
   ],
   "source": [
    "train.info()"
   ]
  },
  {
   "cell_type": "code",
   "execution_count": null,
   "id": "32609c52",
   "metadata": {},
   "outputs": [
    {
     "data": {
      "text/plain": [
       "Index(['Levy', 'Manufacturer', 'Model', 'Category', 'Leather interior',\n",
       "       'Fuel type', 'Engine volume', 'Mileage', 'Gear box type',\n",
       "       'Drive wheels', 'Doors', 'Wheel', 'Color'],\n",
       "      dtype='object')"
      ]
     },
     "execution_count": 24,
     "metadata": {},
     "output_type": "execute_result"
    }
   ],
   "source": [
    "cols"
   ]
  },
  {
   "cell_type": "code",
   "execution_count": null,
   "id": "1f80150c",
   "metadata": {},
   "outputs": [
    {
     "data": {
      "text/plain": [
       "((6732, 16), (5772, 16))"
      ]
     },
     "execution_count": 25,
     "metadata": {},
     "output_type": "execute_result"
    }
   ],
   "source": [
    "data = pd.concat([train, test])\n",
    "\n",
    "from sklearn.preprocessing import LabelEncoder \n",
    "\n",
    "for col in cols: \n",
    "\n",
    "    le = LabelEncoder()\n",
    "    data[col] = le.fit_transform(data[col])\n",
    "\n",
    "\n",
    "train = data.iloc[:len(train)].copy()\n",
    "test = data.iloc[len(train):].copy()\n",
    "\n",
    "train.shape, test.shape"
   ]
  },
  {
   "cell_type": "code",
   "execution_count": null,
   "id": "c1c18d4c",
   "metadata": {},
   "outputs": [],
   "source": [
    "from sklearn.model_selection import train_test_split\n",
    "X_train, X_val, y_train, y_val = train_test_split(\n",
    "    train, \n",
    "    target, \n",
    "    random_state=2025, \n",
    "    test_size=2025\n",
    ")"
   ]
  },
  {
   "cell_type": "code",
   "execution_count": 40,
   "id": "f18635af",
   "metadata": {},
   "outputs": [
    {
     "data": {
      "text/plain": [
       "11225.253826332802"
      ]
     },
     "execution_count": 40,
     "metadata": {},
     "output_type": "execute_result"
    }
   ],
   "source": [
    "from sklearn.ensemble import RandomForestRegressor  \n",
    "\n",
    "rf = RandomForestRegressor(random_state=2025)\n",
    "rf.fit(X_train, y_train)\n",
    "pred = rf.predict(X_val)\n",
    "\n",
    "from sklearn.metrics import root_mean_squared_error\n",
    "\n",
    "result = root_mean_squared_error(y_val, pred)\n",
    "\n",
    "result\n",
    "\n"
   ]
  },
  {
   "cell_type": "code",
   "execution_count": 41,
   "id": "3ad46fd6",
   "metadata": {},
   "outputs": [
    {
     "data": {
      "text/plain": [
       "10815.238760596425"
      ]
     },
     "execution_count": 41,
     "metadata": {},
     "output_type": "execute_result"
    }
   ],
   "source": [
    "import lightgbm as lgb \n",
    "\n",
    "lgbmr = lgb.LGBMRegressor(random_state=210)\n",
    "lgbmr.fit(X_train, y_train)\n",
    "pred = lgbmr.predict(X_val)\n",
    "\n",
    "result = root_mean_squared_error(y_val, pred)\n",
    "\n",
    "result"
   ]
  },
  {
   "cell_type": "code",
   "execution_count": 42,
   "id": "0c16f78c",
   "metadata": {},
   "outputs": [
    {
     "ename": "ValueError",
     "evalue": "Root Mean Squared Logarithmic Error cannot be used when targets contain values less than or equal to -1.",
     "output_type": "error",
     "traceback": [
      "\u001b[1;31m---------------------------------------------------------------------------\u001b[0m",
      "\u001b[1;31mValueError\u001b[0m                                Traceback (most recent call last)",
      "Cell \u001b[1;32mIn[42], line 3\u001b[0m\n\u001b[0;32m      1\u001b[0m \u001b[38;5;28;01mfrom\u001b[39;00m\u001b[38;5;250m \u001b[39m\u001b[38;5;21;01msklearn\u001b[39;00m\u001b[38;5;21;01m.\u001b[39;00m\u001b[38;5;21;01mmetrics\u001b[39;00m\u001b[38;5;250m \u001b[39m\u001b[38;5;28;01mimport\u001b[39;00m root_mean_squared_log_error\n\u001b[1;32m----> 3\u001b[0m result2 \u001b[38;5;241m=\u001b[39m \u001b[43mroot_mean_squared_log_error\u001b[49m\u001b[43m(\u001b[49m\u001b[43my_val\u001b[49m\u001b[43m,\u001b[49m\u001b[43m \u001b[49m\u001b[43mpred\u001b[49m\u001b[43m)\u001b[49m\n\u001b[0;32m      4\u001b[0m result2\n",
      "File \u001b[1;32mc:\\Users\\HRD영대\\AppData\\Local\\Programs\\Python\\Python313\\Lib\\site-packages\\sklearn\\utils\\_param_validation.py:218\u001b[0m, in \u001b[0;36mvalidate_params.<locals>.decorator.<locals>.wrapper\u001b[1;34m(*args, **kwargs)\u001b[0m\n\u001b[0;32m    212\u001b[0m \u001b[38;5;28;01mtry\u001b[39;00m:\n\u001b[0;32m    213\u001b[0m     \u001b[38;5;28;01mwith\u001b[39;00m config_context(\n\u001b[0;32m    214\u001b[0m         skip_parameter_validation\u001b[38;5;241m=\u001b[39m(\n\u001b[0;32m    215\u001b[0m             prefer_skip_nested_validation \u001b[38;5;129;01mor\u001b[39;00m global_skip_validation\n\u001b[0;32m    216\u001b[0m         )\n\u001b[0;32m    217\u001b[0m     ):\n\u001b[1;32m--> 218\u001b[0m         \u001b[38;5;28;01mreturn\u001b[39;00m \u001b[43mfunc\u001b[49m\u001b[43m(\u001b[49m\u001b[38;5;241;43m*\u001b[39;49m\u001b[43margs\u001b[49m\u001b[43m,\u001b[49m\u001b[43m \u001b[49m\u001b[38;5;241;43m*\u001b[39;49m\u001b[38;5;241;43m*\u001b[39;49m\u001b[43mkwargs\u001b[49m\u001b[43m)\u001b[49m\n\u001b[0;32m    219\u001b[0m \u001b[38;5;28;01mexcept\u001b[39;00m InvalidParameterError \u001b[38;5;28;01mas\u001b[39;00m e:\n\u001b[0;32m    220\u001b[0m     \u001b[38;5;66;03m# When the function is just a wrapper around an estimator, we allow\u001b[39;00m\n\u001b[0;32m    221\u001b[0m     \u001b[38;5;66;03m# the function to delegate validation to the estimator, but we replace\u001b[39;00m\n\u001b[0;32m    222\u001b[0m     \u001b[38;5;66;03m# the name of the estimator by the name of the function in the error\u001b[39;00m\n\u001b[0;32m    223\u001b[0m     \u001b[38;5;66;03m# message to avoid confusion.\u001b[39;00m\n\u001b[0;32m    224\u001b[0m     msg \u001b[38;5;241m=\u001b[39m re\u001b[38;5;241m.\u001b[39msub(\n\u001b[0;32m    225\u001b[0m         \u001b[38;5;124mr\u001b[39m\u001b[38;5;124m\"\u001b[39m\u001b[38;5;124mparameter of \u001b[39m\u001b[38;5;124m\\\u001b[39m\u001b[38;5;124mw+ must be\u001b[39m\u001b[38;5;124m\"\u001b[39m,\n\u001b[0;32m    226\u001b[0m         \u001b[38;5;124mf\u001b[39m\u001b[38;5;124m\"\u001b[39m\u001b[38;5;124mparameter of \u001b[39m\u001b[38;5;132;01m{\u001b[39;00mfunc\u001b[38;5;241m.\u001b[39m\u001b[38;5;18m__qualname__\u001b[39m\u001b[38;5;132;01m}\u001b[39;00m\u001b[38;5;124m must be\u001b[39m\u001b[38;5;124m\"\u001b[39m,\n\u001b[0;32m    227\u001b[0m         \u001b[38;5;28mstr\u001b[39m(e),\n\u001b[0;32m    228\u001b[0m     )\n",
      "File \u001b[1;32mc:\\Users\\HRD영대\\AppData\\Local\\Programs\\Python\\Python313\\Lib\\site-packages\\sklearn\\metrics\\_regression.py:840\u001b[0m, in \u001b[0;36mroot_mean_squared_log_error\u001b[1;34m(y_true, y_pred, sample_weight, multioutput)\u001b[0m\n\u001b[0;32m    833\u001b[0m _, y_true, y_pred, sample_weight, multioutput \u001b[38;5;241m=\u001b[39m (\n\u001b[0;32m    834\u001b[0m     _check_reg_targets_with_floating_dtype(\n\u001b[0;32m    835\u001b[0m         y_true, y_pred, sample_weight, multioutput, xp\u001b[38;5;241m=\u001b[39mxp\n\u001b[0;32m    836\u001b[0m     )\n\u001b[0;32m    837\u001b[0m )\n\u001b[0;32m    839\u001b[0m \u001b[38;5;28;01mif\u001b[39;00m xp\u001b[38;5;241m.\u001b[39many(y_true \u001b[38;5;241m<\u001b[39m\u001b[38;5;241m=\u001b[39m \u001b[38;5;241m-\u001b[39m\u001b[38;5;241m1\u001b[39m) \u001b[38;5;129;01mor\u001b[39;00m xp\u001b[38;5;241m.\u001b[39many(y_pred \u001b[38;5;241m<\u001b[39m\u001b[38;5;241m=\u001b[39m \u001b[38;5;241m-\u001b[39m\u001b[38;5;241m1\u001b[39m):\n\u001b[1;32m--> 840\u001b[0m     \u001b[38;5;28;01mraise\u001b[39;00m \u001b[38;5;167;01mValueError\u001b[39;00m(\n\u001b[0;32m    841\u001b[0m         \u001b[38;5;124m\"\u001b[39m\u001b[38;5;124mRoot Mean Squared Logarithmic Error cannot be used when \u001b[39m\u001b[38;5;124m\"\u001b[39m\n\u001b[0;32m    842\u001b[0m         \u001b[38;5;124m\"\u001b[39m\u001b[38;5;124mtargets contain values less than or equal to -1.\u001b[39m\u001b[38;5;124m\"\u001b[39m\n\u001b[0;32m    843\u001b[0m     )\n\u001b[0;32m    845\u001b[0m \u001b[38;5;28;01mreturn\u001b[39;00m root_mean_squared_error(\n\u001b[0;32m    846\u001b[0m     xp\u001b[38;5;241m.\u001b[39mlog1p(y_true),\n\u001b[0;32m    847\u001b[0m     xp\u001b[38;5;241m.\u001b[39mlog1p(y_pred),\n\u001b[0;32m    848\u001b[0m     sample_weight\u001b[38;5;241m=\u001b[39msample_weight,\n\u001b[0;32m    849\u001b[0m     multioutput\u001b[38;5;241m=\u001b[39mmultioutput,\n\u001b[0;32m    850\u001b[0m )\n",
      "\u001b[1;31mValueError\u001b[0m: Root Mean Squared Logarithmic Error cannot be used when targets contain values less than or equal to -1."
     ]
    }
   ],
   "source": [
    "from sklearn.metrics import root_mean_squared_log_error\n",
    "\n",
    "result2 = root_mean_squared_log_error(y_val, pred)\n",
    "result2"
   ]
  },
  {
   "cell_type": "code",
   "execution_count": null,
   "id": "883abc9a",
   "metadata": {},
   "outputs": [],
   "source": []
  }
 ],
 "metadata": {
  "kernelspec": {
   "display_name": "Python 3",
   "language": "python",
   "name": "python3"
  },
  "language_info": {
   "codemirror_mode": {
    "name": "ipython",
    "version": 3
   },
   "file_extension": ".py",
   "mimetype": "text/x-python",
   "name": "python",
   "nbconvert_exporter": "python",
   "pygments_lexer": "ipython3",
   "version": "3.13.7"
  }
 },
 "nbformat": 4,
 "nbformat_minor": 5
}
