{
 "cells": [
  {
   "cell_type": "code",
   "execution_count": 29,
   "id": "a8b98a53",
   "metadata": {},
   "outputs": [],
   "source": [
    "import pandas as pd\n",
    "y_true = pd.DataFrame([1, 1, 1, 0, 0, 1, 1, 1, 1, 0])\n",
    "y_pred = pd.DataFrame([1, 0, 1, 1, 0, 0, 0, 1, 1, 0])\n",
    "\n",
    "y_true_str = pd.DataFrame([\"A\", \"A\", \"A\", \"B\", \"B\", \"A\", \"A\", \"A\", \"A\", \"B\"])\n",
    "y_pred_str = pd.DataFrame([\"A\", \"B\", \"A\", \"A\", \"B\", \"B\", \"B\", \"A\", \"A\", \"B\"])"
   ]
  },
  {
   "cell_type": "code",
   "execution_count": 28,
   "id": "3e0a90bb",
   "metadata": {},
   "outputs": [
    {
     "data": {
      "text/plain": [
       "0.6"
      ]
     },
     "execution_count": 28,
     "metadata": {},
     "output_type": "execute_result"
    }
   ],
   "source": [
    "# 정확도\n",
    "from sklearn.metrics import accuracy_score\n",
    "accuracy_score(y_true, y_pred)\n",
    "accuracy_score(y_true_str, y_pred_str)\n"
   ]
  },
  {
   "cell_type": "code",
   "execution_count": 31,
   "id": "d4af36c3",
   "metadata": {},
   "outputs": [
    {
     "data": {
      "text/plain": [
       "0.4"
      ]
     },
     "execution_count": 31,
     "metadata": {},
     "output_type": "execute_result"
    }
   ],
   "source": [
    "#정밀도\n",
    "from sklearn.metrics import precision_score\n",
    "precision_score(y_true, y_pred, pos_label=0)\n",
    "# precision_score(y_true_str, y_pred_str, pos_label=\"A\")"
   ]
  },
  {
   "cell_type": "code",
   "execution_count": 9,
   "id": "93418a26",
   "metadata": {},
   "outputs": [
    {
     "data": {
      "text/plain": [
       "0.5714285714285714"
      ]
     },
     "execution_count": 9,
     "metadata": {},
     "output_type": "execute_result"
    }
   ],
   "source": [
    "# 재현율\n",
    "from sklearn.metrics import recall_score\n",
    "recall_score(y_true, y_pred)\n",
    "recall_score(y_true_str, y_pred_str, pos_label=\"A\")"
   ]
  },
  {
   "cell_type": "code",
   "execution_count": 11,
   "id": "ae91ae4f",
   "metadata": {},
   "outputs": [
    {
     "data": {
      "text/plain": [
       "0.6666666666666666"
      ]
     },
     "execution_count": 11,
     "metadata": {},
     "output_type": "execute_result"
    }
   ],
   "source": [
    "# F1 스코어\n",
    "from sklearn.metrics import f1_score\n",
    "\n",
    "f1_score(y_true, y_pred)\n",
    "f1_score(y_true_str, y_pred_str, pos_label=\"A\")"
   ]
  },
  {
   "cell_type": "code",
   "execution_count": 12,
   "id": "84e2bf8d",
   "metadata": {},
   "outputs": [
    {
     "data": {
      "text/plain": [
       "0.86"
      ]
     },
     "execution_count": 12,
     "metadata": {},
     "output_type": "execute_result"
    }
   ],
   "source": [
    "# ROC-AUC\n",
    "from sklearn.metrics import roc_auc_score\n",
    "\n",
    "y_true = pd.DataFrame([0, 1, 0, 1, 1, 0, 0, 0, 1, 1])\n",
    "y_pred_proba = pd.DataFrame([0.4, 0.9, 0.1, 0.3, 0.8, 0.6, 0.4, 0.2, 0.7, 0.6])\n",
    "\n",
    "roc_auc_score(y_true, y_pred_proba)"
   ]
  },
  {
   "cell_type": "code",
   "execution_count": 15,
   "id": "89f7017c",
   "metadata": {},
   "outputs": [],
   "source": [
    "y_true = pd.DataFrame([1, 2, 3, 3, 2, 1, 3, 3, 2, 1])\n",
    "y_pred = pd.DataFrame([1, 2, 1, 3, 2, 1, 1, 2, 2, 1])\n",
    "\n",
    "y_true_str = pd.DataFrame([\"A\", \"B\", \"C\", \"C\", \"B\", \"A\", \"C\", \"C\", \"B\", \"A\"])\n",
    "y_pred_str = pd.DataFrame([\"A\", \"B\", \"A\", \"C\", \"B\", \"A\", \"A\", \"B\", \"B\", \"A\"])"
   ]
  },
  {
   "cell_type": "code",
   "execution_count": 16,
   "id": "c5e2d479",
   "metadata": {},
   "outputs": [
    {
     "data": {
      "text/plain": [
       "0.7"
      ]
     },
     "execution_count": 16,
     "metadata": {},
     "output_type": "execute_result"
    }
   ],
   "source": [
    "# 정확도\n",
    "accuracy_score(y_true, y_pred)"
   ]
  },
  {
   "cell_type": "code",
   "execution_count": 17,
   "id": "5376225b",
   "metadata": {},
   "outputs": [
    {
     "data": {
      "text/plain": [
       "0.7833333333333333"
      ]
     },
     "execution_count": 17,
     "metadata": {},
     "output_type": "execute_result"
    }
   ],
   "source": [
    "# 정밀도\n",
    "precision_score(y_true, y_pred, average=\"macro\")"
   ]
  },
  {
   "cell_type": "code",
   "execution_count": 18,
   "id": "56c2bcc2",
   "metadata": {},
   "outputs": [
    {
     "data": {
      "text/plain": [
       "0.75"
      ]
     },
     "execution_count": 18,
     "metadata": {},
     "output_type": "execute_result"
    }
   ],
   "source": [
    "recall_score(y_true, y_pred, average=\"macro\")"
   ]
  },
  {
   "cell_type": "code",
   "execution_count": 19,
   "id": "f8a9d539",
   "metadata": {},
   "outputs": [
    {
     "data": {
      "text/plain": [
       "0.669047619047619"
      ]
     },
     "execution_count": 19,
     "metadata": {},
     "output_type": "execute_result"
    }
   ],
   "source": [
    "f1_score(y_true, y_pred, average=\"macro\")"
   ]
  },
  {
   "cell_type": "code",
   "execution_count": 20,
   "id": "7a8ea37b",
   "metadata": {},
   "outputs": [],
   "source": [
    "# 회귀 평가지표 \n",
    "\n",
    "y_true = pd.DataFrame([1, 2, 5, 2, 4, 4, 7, 9])\n",
    "y_pred = pd.DataFrame([1.14, 2.53, 4.87, 3.08, 4.21, 5.53, 7.51, 10.32])"
   ]
  },
  {
   "cell_type": "code",
   "execution_count": 21,
   "id": "70167c33",
   "metadata": {},
   "outputs": [
    {
     "data": {
      "text/plain": [
       "0.7339125000000001"
      ]
     },
     "execution_count": 21,
     "metadata": {},
     "output_type": "execute_result"
    }
   ],
   "source": [
    "#MSE\n",
    "from sklearn.metrics import mean_squared_error\n",
    "mean_squared_error(y_true, y_pred)"
   ]
  },
  {
   "cell_type": "code",
   "execution_count": 22,
   "id": "c26953ea",
   "metadata": {},
   "outputs": [
    {
     "data": {
      "text/plain": [
       "0.68125"
      ]
     },
     "execution_count": 22,
     "metadata": {},
     "output_type": "execute_result"
    }
   ],
   "source": [
    "# MAE \n",
    "from sklearn.metrics import mean_absolute_error\n",
    "mean_absolute_error(y_true, y_pred)"
   ]
  },
  {
   "cell_type": "code",
   "execution_count": 23,
   "id": "8a6454d2",
   "metadata": {},
   "outputs": [
    {
     "data": {
      "text/plain": [
       "0.8859941747572815"
      ]
     },
     "execution_count": 23,
     "metadata": {},
     "output_type": "execute_result"
    }
   ],
   "source": [
    "# 결정계수\n",
    "from sklearn.metrics import r2_score\n",
    "r2_score(y_true, y_pred)"
   ]
  },
  {
   "cell_type": "code",
   "execution_count": 24,
   "id": "6ef75504",
   "metadata": {},
   "outputs": [
    {
     "data": {
      "text/plain": [
       "0.8566869323154171"
      ]
     },
     "execution_count": 24,
     "metadata": {},
     "output_type": "execute_result"
    }
   ],
   "source": [
    "from sklearn.metrics import root_mean_squared_error\n",
    "\n",
    "root_mean_squared_error(y_true, y_pred)"
   ]
  },
  {
   "cell_type": "code",
   "execution_count": null,
   "id": "8592b009",
   "metadata": {},
   "outputs": [],
   "source": []
  }
 ],
 "metadata": {
  "kernelspec": {
   "display_name": "Python 3",
   "language": "python",
   "name": "python3"
  },
  "language_info": {
   "codemirror_mode": {
    "name": "ipython",
    "version": 3
   },
   "file_extension": ".py",
   "mimetype": "text/x-python",
   "name": "python",
   "nbconvert_exporter": "python",
   "pygments_lexer": "ipython3",
   "version": "3.13.7"
  }
 },
 "nbformat": 4,
 "nbformat_minor": 5
}
