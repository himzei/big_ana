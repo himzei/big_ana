{
 "cells": [
  {
   "cell_type": "code",
   "execution_count": 1,
   "id": "c2488d1b",
   "metadata": {},
   "outputs": [
    {
     "data": {
      "text/html": [
       "<div>\n",
       "<style scoped>\n",
       "    .dataframe tbody tr th:only-of-type {\n",
       "        vertical-align: middle;\n",
       "    }\n",
       "\n",
       "    .dataframe tbody tr th {\n",
       "        vertical-align: top;\n",
       "    }\n",
       "\n",
       "    .dataframe thead th {\n",
       "        text-align: right;\n",
       "    }\n",
       "</style>\n",
       "<table border=\"1\" class=\"dataframe\">\n",
       "  <thead>\n",
       "    <tr style=\"text-align: right;\">\n",
       "      <th></th>\n",
       "      <th>id</th>\n",
       "      <th>age</th>\n",
       "      <th>city</th>\n",
       "      <th>f1</th>\n",
       "      <th>f2</th>\n",
       "      <th>f3</th>\n",
       "      <th>f4</th>\n",
       "      <th>f5</th>\n",
       "      <th>subscribed</th>\n",
       "      <th>views</th>\n",
       "    </tr>\n",
       "  </thead>\n",
       "  <tbody>\n",
       "    <tr>\n",
       "      <th>0</th>\n",
       "      <td>id01</td>\n",
       "      <td>2.0</td>\n",
       "      <td>서울</td>\n",
       "      <td>NaN</td>\n",
       "      <td>0</td>\n",
       "      <td>gold</td>\n",
       "      <td>ENFJ</td>\n",
       "      <td>91.297791</td>\n",
       "      <td>2024-07-16</td>\n",
       "      <td>6820.0</td>\n",
       "    </tr>\n",
       "    <tr>\n",
       "      <th>1</th>\n",
       "      <td>id02</td>\n",
       "      <td>9.0</td>\n",
       "      <td>서울</td>\n",
       "      <td>70.0</td>\n",
       "      <td>1</td>\n",
       "      <td>NaN</td>\n",
       "      <td>ENFJ</td>\n",
       "      <td>60.339826</td>\n",
       "      <td>2024-05-12</td>\n",
       "      <td>2534.0</td>\n",
       "    </tr>\n",
       "    <tr>\n",
       "      <th>2</th>\n",
       "      <td>id03</td>\n",
       "      <td>27.0</td>\n",
       "      <td>서울</td>\n",
       "      <td>61.0</td>\n",
       "      <td>1</td>\n",
       "      <td>gold</td>\n",
       "      <td>ISTJ</td>\n",
       "      <td>17.252986</td>\n",
       "      <td>2024-03-16</td>\n",
       "      <td>7312.0</td>\n",
       "    </tr>\n",
       "    <tr>\n",
       "      <th>3</th>\n",
       "      <td>id04</td>\n",
       "      <td>75.0</td>\n",
       "      <td>서울</td>\n",
       "      <td>NaN</td>\n",
       "      <td>2</td>\n",
       "      <td>NaN</td>\n",
       "      <td>INFP</td>\n",
       "      <td>52.667078</td>\n",
       "      <td>2024-07-21</td>\n",
       "      <td>493.0</td>\n",
       "    </tr>\n",
       "    <tr>\n",
       "      <th>4</th>\n",
       "      <td>id05</td>\n",
       "      <td>24.0</td>\n",
       "      <td>서울</td>\n",
       "      <td>85.0</td>\n",
       "      <td>2</td>\n",
       "      <td>NaN</td>\n",
       "      <td>ISFJ</td>\n",
       "      <td>29.269869</td>\n",
       "      <td>2024-03-07</td>\n",
       "      <td>1338.0</td>\n",
       "    </tr>\n",
       "    <tr>\n",
       "      <th>...</th>\n",
       "      <td>...</td>\n",
       "      <td>...</td>\n",
       "      <td>...</td>\n",
       "      <td>...</td>\n",
       "      <td>...</td>\n",
       "      <td>...</td>\n",
       "      <td>...</td>\n",
       "      <td>...</td>\n",
       "      <td>...</td>\n",
       "      <td>...</td>\n",
       "    </tr>\n",
       "    <tr>\n",
       "      <th>115</th>\n",
       "      <td>id114</td>\n",
       "      <td>22.0</td>\n",
       "      <td>대구</td>\n",
       "      <td>23.0</td>\n",
       "      <td>0</td>\n",
       "      <td>gold</td>\n",
       "      <td>INTP</td>\n",
       "      <td>0.000000</td>\n",
       "      <td>2025-02-17</td>\n",
       "      <td>9747.0</td>\n",
       "    </tr>\n",
       "    <tr>\n",
       "      <th>116</th>\n",
       "      <td>id115</td>\n",
       "      <td>23.0</td>\n",
       "      <td>부산</td>\n",
       "      <td>65.0</td>\n",
       "      <td>0</td>\n",
       "      <td>vip</td>\n",
       "      <td>ENTP</td>\n",
       "      <td>0.000000</td>\n",
       "      <td>2025-02-17</td>\n",
       "      <td>5628.0</td>\n",
       "    </tr>\n",
       "    <tr>\n",
       "      <th>117</th>\n",
       "      <td>id116</td>\n",
       "      <td>23.0</td>\n",
       "      <td>서울</td>\n",
       "      <td>12.0</td>\n",
       "      <td>1</td>\n",
       "      <td>silver</td>\n",
       "      <td>INFP</td>\n",
       "      <td>0.000000</td>\n",
       "      <td>2025-02-17</td>\n",
       "      <td>1267.0</td>\n",
       "    </tr>\n",
       "    <tr>\n",
       "      <th>118</th>\n",
       "      <td>id117</td>\n",
       "      <td>23.0</td>\n",
       "      <td>대구</td>\n",
       "      <td>65.0</td>\n",
       "      <td>2</td>\n",
       "      <td>gold</td>\n",
       "      <td>INFP</td>\n",
       "      <td>0.000000</td>\n",
       "      <td>2025-02-17</td>\n",
       "      <td>6543.0</td>\n",
       "    </tr>\n",
       "    <tr>\n",
       "      <th>119</th>\n",
       "      <td>id118</td>\n",
       "      <td>24.0</td>\n",
       "      <td>부산</td>\n",
       "      <td>94.0</td>\n",
       "      <td>1</td>\n",
       "      <td>vip</td>\n",
       "      <td>ESFJ</td>\n",
       "      <td>0.000000</td>\n",
       "      <td>2025-02-17</td>\n",
       "      <td>2356.0</td>\n",
       "    </tr>\n",
       "  </tbody>\n",
       "</table>\n",
       "<p>120 rows × 10 columns</p>\n",
       "</div>"
      ],
      "text/plain": [
       "        id   age city    f1  f2      f3    f4         f5  subscribed   views\n",
       "0     id01   2.0   서울   NaN   0    gold  ENFJ  91.297791  2024-07-16  6820.0\n",
       "1     id02   9.0   서울  70.0   1     NaN  ENFJ  60.339826  2024-05-12  2534.0\n",
       "2     id03  27.0   서울  61.0   1    gold  ISTJ  17.252986  2024-03-16  7312.0\n",
       "3     id04  75.0   서울   NaN   2     NaN  INFP  52.667078  2024-07-21   493.0\n",
       "4     id05  24.0   서울  85.0   2     NaN  ISFJ  29.269869  2024-03-07  1338.0\n",
       "..     ...   ...  ...   ...  ..     ...   ...        ...         ...     ...\n",
       "115  id114  22.0   대구  23.0   0    gold  INTP   0.000000  2025-02-17  9747.0\n",
       "116  id115  23.0   부산  65.0   0     vip  ENTP   0.000000  2025-02-17  5628.0\n",
       "117  id116  23.0   서울  12.0   1  silver  INFP   0.000000  2025-02-17  1267.0\n",
       "118  id117  23.0   대구  65.0   2    gold  INFP   0.000000  2025-02-17  6543.0\n",
       "119  id118  24.0   부산  94.0   1     vip  ESFJ   0.000000  2025-02-17  2356.0\n",
       "\n",
       "[120 rows x 10 columns]"
      ]
     },
     "execution_count": 1,
     "metadata": {},
     "output_type": "execute_result"
    }
   ],
   "source": [
    "import pandas as pd\n",
    "\n",
    "df = pd.read_csv(\"type1_data1.csv\")\n",
    "df"
   ]
  },
  {
   "cell_type": "code",
   "execution_count": 2,
   "id": "c9bd6402",
   "metadata": {},
   "outputs": [
    {
     "name": "stdout",
     "output_type": "stream",
     "text": [
      "(120, 10)\n",
      "102\n",
      "(102, 10)\n",
      "결측치 4\n",
      "결측치 0\n",
      "5924\n"
     ]
    }
   ],
   "source": [
    "#01 필터링, 최솟값, 중앙값\n",
    "import pandas as pd \n",
    "df = pd.read_csv(\"type1_data1.csv\")\n",
    "# print(df.info())\n",
    "\n",
    "#1. \n",
    "print(df.shape)\n",
    "cond = df[\"f5\"] != 0\n",
    "print(cond.sum())\n",
    "\n",
    "df = df[cond]\n",
    "print(df.shape)\n",
    "\n",
    "#2.\n",
    "print(\"결측치\", df[\"views\"].isnull().sum())\n",
    "views_min = df[\"views\"].min()\n",
    "df[\"views\"] = df[\"views\"].fillna(views_min)\n",
    "print(\"결측치\", df[\"views\"].isnull().sum())\n",
    "\n",
    "#3. \n",
    "views_median = df[\"views\"].median()\n",
    "print(int(views_median))\n"
   ]
  },
  {
   "cell_type": "code",
   "execution_count": 3,
   "id": "83772aaa",
   "metadata": {},
   "outputs": [
    {
     "name": "stdout",
     "output_type": "stream",
     "text": [
      "2025-02-17\n",
      "17\n"
     ]
    }
   ],
   "source": [
    "# 02. 카테고리, 인덱스, 문자열 슬라이싱\n",
    "\n",
    "df = pd.read_csv(\"type1_data1.csv\")\n",
    "df\n",
    "\n",
    "#1. \n",
    "sub_mode = df[\"subscribed\"].mode()[0]\n",
    "print(sub_mode)\n",
    "\n",
    "# df[\"subscribed\"].value_counts().idxmax()\n",
    "\n",
    "#2. \n",
    "print(int(sub_mode[-2:]))"
   ]
  },
  {
   "cell_type": "code",
   "execution_count": 4,
   "id": "4a83cd69",
   "metadata": {},
   "outputs": [
    {
     "data": {
      "text/html": [
       "<div>\n",
       "<style scoped>\n",
       "    .dataframe tbody tr th:only-of-type {\n",
       "        vertical-align: middle;\n",
       "    }\n",
       "\n",
       "    .dataframe tbody tr th {\n",
       "        vertical-align: top;\n",
       "    }\n",
       "\n",
       "    .dataframe thead th {\n",
       "        text-align: right;\n",
       "    }\n",
       "</style>\n",
       "<table border=\"1\" class=\"dataframe\">\n",
       "  <thead>\n",
       "    <tr style=\"text-align: right;\">\n",
       "      <th></th>\n",
       "      <th>id</th>\n",
       "      <th>age</th>\n",
       "      <th>city</th>\n",
       "      <th>f1</th>\n",
       "      <th>f2</th>\n",
       "      <th>f3</th>\n",
       "      <th>f4</th>\n",
       "      <th>f5</th>\n",
       "      <th>subscribed</th>\n",
       "      <th>views</th>\n",
       "    </tr>\n",
       "  </thead>\n",
       "  <tbody>\n",
       "    <tr>\n",
       "      <th>0</th>\n",
       "      <td>id01</td>\n",
       "      <td>2.0</td>\n",
       "      <td>서울</td>\n",
       "      <td>NaN</td>\n",
       "      <td>0</td>\n",
       "      <td>gold</td>\n",
       "      <td>ENFJ</td>\n",
       "      <td>91.297791</td>\n",
       "      <td>2024-07-16</td>\n",
       "      <td>6820.0</td>\n",
       "    </tr>\n",
       "    <tr>\n",
       "      <th>1</th>\n",
       "      <td>id02</td>\n",
       "      <td>9.0</td>\n",
       "      <td>서울</td>\n",
       "      <td>70.0</td>\n",
       "      <td>1</td>\n",
       "      <td>NaN</td>\n",
       "      <td>ENFJ</td>\n",
       "      <td>60.339826</td>\n",
       "      <td>2024-05-12</td>\n",
       "      <td>2534.0</td>\n",
       "    </tr>\n",
       "    <tr>\n",
       "      <th>2</th>\n",
       "      <td>id03</td>\n",
       "      <td>27.0</td>\n",
       "      <td>서울</td>\n",
       "      <td>61.0</td>\n",
       "      <td>1</td>\n",
       "      <td>gold</td>\n",
       "      <td>ISTJ</td>\n",
       "      <td>17.252986</td>\n",
       "      <td>2024-03-16</td>\n",
       "      <td>7312.0</td>\n",
       "    </tr>\n",
       "    <tr>\n",
       "      <th>3</th>\n",
       "      <td>id04</td>\n",
       "      <td>75.0</td>\n",
       "      <td>서울</td>\n",
       "      <td>NaN</td>\n",
       "      <td>2</td>\n",
       "      <td>NaN</td>\n",
       "      <td>INFP</td>\n",
       "      <td>52.667078</td>\n",
       "      <td>2024-07-21</td>\n",
       "      <td>493.0</td>\n",
       "    </tr>\n",
       "    <tr>\n",
       "      <th>4</th>\n",
       "      <td>id05</td>\n",
       "      <td>24.0</td>\n",
       "      <td>서울</td>\n",
       "      <td>85.0</td>\n",
       "      <td>2</td>\n",
       "      <td>NaN</td>\n",
       "      <td>ISFJ</td>\n",
       "      <td>29.269869</td>\n",
       "      <td>2024-03-07</td>\n",
       "      <td>1338.0</td>\n",
       "    </tr>\n",
       "  </tbody>\n",
       "</table>\n",
       "</div>"
      ],
      "text/plain": [
       "     id   age city    f1  f2    f3    f4         f5  subscribed   views\n",
       "0  id01   2.0   서울   NaN   0  gold  ENFJ  91.297791  2024-07-16  6820.0\n",
       "1  id02   9.0   서울  70.0   1   NaN  ENFJ  60.339826  2024-05-12  2534.0\n",
       "2  id03  27.0   서울  61.0   1  gold  ISTJ  17.252986  2024-03-16  7312.0\n",
       "3  id04  75.0   서울   NaN   2   NaN  INFP  52.667078  2024-07-21   493.0\n",
       "4  id05  24.0   서울  85.0   2   NaN  ISFJ  29.269869  2024-03-07  1338.0"
      ]
     },
     "execution_count": 4,
     "metadata": {},
     "output_type": "execute_result"
    }
   ],
   "source": [
    "df.head()\n"
   ]
  },
  {
   "cell_type": "code",
   "execution_count": 5,
   "id": "2f4260d7",
   "metadata": {},
   "outputs": [
    {
     "name": "stdout",
     "output_type": "stream",
     "text": [
      "(120, 10)\n",
      "(70, 10)\n",
      "id            0\n",
      "age           0\n",
      "city          0\n",
      "f1            0\n",
      "f2            0\n",
      "f3            0\n",
      "f4            0\n",
      "f5            0\n",
      "subscribed    0\n",
      "views         0\n",
      "dtype: int64\n",
      "22\n"
     ]
    },
    {
     "data": {
      "text/plain": [
       "np.float64(22.0)"
      ]
     },
     "execution_count": 5,
     "metadata": {},
     "output_type": "execute_result"
    }
   ],
   "source": [
    "#03 파생변수, 정렬, 인덱싱\n",
    "\n",
    "df = pd.read_csv(\"type1_data1.csv\")\n",
    "df\n",
    "\n",
    "#1.\n",
    "print(df.shape)\n",
    "df = df.dropna()\n",
    "print(df.shape)\n",
    "print(df.isnull().sum())\n",
    "\n",
    "#2. \n",
    "df[\"new_col\"] = df[\"views\"] / df[\"f1\"]\n",
    "df.head()\n",
    "\n",
    "#3. \n",
    "cond = df[\"new_col\"] == df[\"new_col\"].max()\n",
    "print(int(df[cond].iloc[0, 1]))\n",
    "\n",
    "df = df.sort_values(by=\"new_col\", ascending=False)\n",
    "df.iloc[0, 1]"
   ]
  },
  {
   "cell_type": "code",
   "execution_count": 6,
   "id": "90da8890",
   "metadata": {},
   "outputs": [
    {
     "name": "stdout",
     "output_type": "stream",
     "text": [
      "4\n",
      "0\n",
      "9877.0\n",
      "        id   age city    f1  f2      f3    f4         f5  subscribed    views\n",
      "5     id06  22.0   서울  57.0   0     vip  INTP  20.129444  2024-09-12  21550.0\n",
      "56    id56  59.0   대구   NaN   1     vip  ESTJ  73.586397  2024-04-05  19589.0\n",
      "83    id83  73.0   경기  50.0   1     vip  ENTP  80.138280  2024-09-26  19139.0\n",
      "32    id32  25.0   부산  64.0   0     vip  ISFJ  13.049921  2024-05-24  17421.0\n",
      "100  id100  47.0   경기  53.0   0     vip  ESFP  33.308999  2024-02-21  15535.0\n",
      "10   id100  47.0   경기  53.0   0     vip  ESFP  33.308999  2024-02-21  15535.0\n",
      "104  id103  21.0   부산  53.0   0     vip  ISFP   0.000000  2025-02-17  13543.0\n",
      "114  id113  22.0   경기  34.0   2  silver  ENTP   0.000000  2025-02-17  10346.0\n",
      "9     id10  95.0   서울  74.0   1    gold  ISFP  98.429899  2024-04-03   9992.0\n",
      "113  id112  22.0   서울  45.0   2     vip  ENTP   0.000000  2025-02-17   9877.0\n",
      "115  id114  22.0   대구  23.0   0    gold  INTP   0.000000  2025-02-17   9747.0\n",
      "        id   age city    f1  f2      f3    f4         f5  subscribed   views\n",
      "5     id06  22.0   서울  57.0   0     vip  INTP  20.129444  2024-09-12  9877.0\n",
      "56    id56  59.0   대구   NaN   1     vip  ESTJ  73.586397  2024-04-05  9877.0\n",
      "83    id83  73.0   경기  50.0   1     vip  ENTP  80.138280  2024-09-26  9877.0\n",
      "32    id32  25.0   부산  64.0   0     vip  ISFJ  13.049921  2024-05-24  9877.0\n",
      "100  id100  47.0   경기  53.0   0     vip  ESFP  33.308999  2024-02-21  9877.0\n",
      "10   id100  47.0   경기  53.0   0     vip  ESFP  33.308999  2024-02-21  9877.0\n",
      "104  id103  21.0   부산  53.0   0     vip  ISFP   0.000000  2025-02-17  9877.0\n",
      "114  id113  22.0   경기  34.0   2  silver  ENTP   0.000000  2025-02-17  9877.0\n",
      "9     id10  95.0   서울  74.0   1    gold  ISFP  98.429899  2024-04-03  9877.0\n",
      "113  id112  22.0   서울  45.0   2     vip  ENTP   0.000000  2025-02-17  9877.0\n",
      "115  id114  22.0   대구  23.0   0    gold  INTP   0.000000  2025-02-17  9747.0\n",
      "652812\n"
     ]
    }
   ],
   "source": [
    "# 04. 값 변경, 정렬, 합계+\n",
    "\n",
    "df = pd.read_csv(\"type1_data1.csv\")\n",
    "df\n",
    "\n",
    "#1. \n",
    "print(df[\"views\"].isnull().sum())\n",
    "df[\"views\"] = df[\"views\"].fillna(0)\n",
    "print(df[\"views\"].isnull().sum())\n",
    "\n",
    "#2. \n",
    "df = df.sort_values(\"views\", ascending=False)\n",
    "df.head(10)\n",
    "views_10 = df.iloc[9, -1]\n",
    "print(views_10)\n",
    "\n",
    "#3. \n",
    "print(df.head(11))\n",
    "df.iloc[0:9+1, -1] = views_10\n",
    "print(df.head(11))\n",
    "\n",
    "#4.\n",
    "print(int(df[\"views\"].sum()))\n",
    "\n"
   ]
  },
  {
   "cell_type": "code",
   "execution_count": 7,
   "id": "61935e38",
   "metadata": {},
   "outputs": [
    {
     "name": "stdout",
     "output_type": "stream",
     "text": [
      "0.61\n"
     ]
    }
   ],
   "source": [
    "# 05. 문자열 슬라이싱, 파생변수, 평균값\n",
    "\n",
    "df = pd.read_csv(\"type1_data1.csv\")\n",
    "# print(df.head())\n",
    "\n",
    "#1. \n",
    "cond = df[\"f4\"].str.contains(\"FJ\")\n",
    "df = df[cond]\n",
    "\n",
    "\n",
    "#2.\n",
    "result = round(df[\"f2\"].mean(), 2)\n",
    "print(result)"
   ]
  },
  {
   "cell_type": "code",
   "execution_count": 10,
   "id": "766a238d",
   "metadata": {},
   "outputs": [
    {
     "data": {
      "text/plain": [
       "np.float64(235.43)"
      ]
     },
     "execution_count": 10,
     "metadata": {},
     "output_type": "execute_result"
    }
   ],
   "source": [
    "# 06. 필터링, 분산\n",
    "\n",
    "df = pd.read_csv(\"type1_data1.csv\")\n",
    "\n",
    "#1. \n",
    "cond1 = df[\"f3\"] == \"gold\"\n",
    "cond2 = df[\"f2\"] == 2\n",
    "\n",
    "df = df[cond1 & cond2]\n",
    "\n",
    "#2. \n",
    "round(df[\"f1\"].var(), 2)"
   ]
  },
  {
   "cell_type": "code",
   "execution_count": 20,
   "id": "1d98ce83",
   "metadata": {},
   "outputs": [
    {
     "name": "stdout",
     "output_type": "stream",
     "text": [
      "<class 'pandas.core.frame.DataFrame'>\n",
      "RangeIndex: 120 entries, 0 to 119\n",
      "Data columns (total 10 columns):\n",
      " #   Column      Non-Null Count  Dtype  \n",
      "---  ------      --------------  -----  \n",
      " 0   id          120 non-null    object \n",
      " 1   age         120 non-null    float64\n",
      " 2   city        120 non-null    object \n",
      " 3   f1          89 non-null     float64\n",
      " 4   f2          120 non-null    int64  \n",
      " 5   f3          91 non-null     object \n",
      " 6   f4          120 non-null    object \n",
      " 7   f5          120 non-null    float64\n",
      " 8   subscribed  120 non-null    object \n",
      " 9   views       116 non-null    float64\n",
      "dtypes: float64(4), int64(1), object(5)\n",
      "memory usage: 9.5+ KB\n",
      "     id  age city    f1  f2    f3    f4         f5  subscribed   views\n",
      "0  id01  2.0   서울   NaN   0  gold  ENFJ  91.297791  2024-07-16  6820.0\n",
      "1  id02  9.0   서울  70.0   1   NaN  ENFJ  60.339826  2024-05-12  2534.0\n",
      "     id   age city    f1  f2    f3    f4         f5  subscribed   views\n",
      "0  id01   3.0   서울   NaN   0  gold  ENFJ  91.297791  2024-07-16  6820.0\n",
      "1  id02  10.0   서울  70.0   1   NaN  ENFJ  60.339826  2024-05-12  2534.0\n"
     ]
    },
    {
     "data": {
      "text/plain": [
       "np.float64(263.13)"
      ]
     },
     "execution_count": 20,
     "metadata": {},
     "output_type": "execute_result"
    }
   ],
   "source": [
    "# 07. 값 변경(연산), 필터링 절댓값\n",
    "df = pd.read_csv(\"type1_data1.csv\")\n",
    "df.head()\n",
    "df.info()\n",
    "\n",
    "#1. \n",
    "print(df.head(2))\n",
    "df[\"age\"] = df[\"age\"] + 1\n",
    "print(df.head(2))\n",
    "\n",
    "#2. \n",
    "cond_20 = (df[\"age\"] >= 20) & (df[\"age\"] < 30)\n",
    "cond_30 = (df[\"age\"] >= 30) & (df[\"age\"] < 40)\n",
    "\n",
    "age_20 = df[cond_20][\"views\"].mean()\n",
    "age_30 = df[cond_30][\"views\"].mean()\n",
    "\n",
    "round(abs(age_20 - age_30), 2)\n"
   ]
  },
  {
   "cell_type": "code",
   "execution_count": 26,
   "id": "d3ee017b",
   "metadata": {},
   "outputs": [
    {
     "data": {
      "text/plain": [
       "np.int64(5)"
      ]
     },
     "execution_count": 26,
     "metadata": {},
     "output_type": "execute_result"
    }
   ],
   "source": [
    "#08. 시계열 데이터, 필터링, 데이터개수\n",
    "\n",
    "df = pd.read_csv(\"type1_data1.csv\")\n",
    "\n",
    "#1. \n",
    "df.head(2)\n",
    "# df.info()\n",
    "\n",
    "cond1 = df[\"subscribed\"].str[0:7] == \"2024-02\"\n",
    "df = df[cond1]\n",
    "\n",
    "\n",
    "#2. \n",
    "cond2 = df[\"f3\"] == \"gold\"\n",
    "cond2.sum()"
   ]
  },
  {
   "cell_type": "code",
   "execution_count": 37,
   "id": "9012dca4",
   "metadata": {},
   "outputs": [
    {
     "name": "stdout",
     "output_type": "stream",
     "text": [
      "id             0\n",
      "age            0\n",
      "city           0\n",
      "f1            31\n",
      "f2             0\n",
      "f3            29\n",
      "f4             0\n",
      "f5             0\n",
      "subscribed     0\n",
      "views          4\n",
      "dtype: int64\n",
      "id             0\n",
      "age            0\n",
      "city           0\n",
      "f1             4\n",
      "f2             0\n",
      "f3            10\n",
      "f4             0\n",
      "f5             0\n",
      "subscribed     0\n",
      "views          0\n",
      "dtype: int64\n",
      "False\n",
      "False\n",
      "False\n"
     ]
    },
    {
     "data": {
      "text/plain": [
       "'ISFJ'"
      ]
     },
     "execution_count": 37,
     "metadata": {},
     "output_type": "execute_result"
    }
   ],
   "source": [
    "# 09. 필터링, 카테고리, 최빈값\n",
    "\n",
    "df = pd.read_csv(\"type1_data1.csv\")\n",
    "import numpy as np\n",
    "\n",
    "#1. \n",
    "print(df.isnull().sum())\n",
    "cond = df[\"views\"] <= 1000\n",
    "df = df[cond]\n",
    "print(df.isnull().sum())\n",
    "\n",
    "print(np.nan < 1000)\n",
    "print(np.nan > 1000)\n",
    "print(np.nan == 1000)\n",
    "\n",
    "#2\n",
    "df[\"f4\"].mode()[0]\n"
   ]
  },
  {
   "cell_type": "code",
   "execution_count": 45,
   "id": "87e1652a",
   "metadata": {},
   "outputs": [
    {
     "name": "stdout",
     "output_type": "stream",
     "text": [
      "id             0\n",
      "age            0\n",
      "city           0\n",
      "f1            31\n",
      "f2             0\n",
      "f3            29\n",
      "f4             0\n",
      "f5             0\n",
      "subscribed     0\n",
      "views          4\n",
      "dtype: int64\n",
      "id            0\n",
      "age           0\n",
      "city          0\n",
      "f1            0\n",
      "f2            0\n",
      "f3            0\n",
      "f4            0\n",
      "f5            0\n",
      "subscribed    0\n",
      "views         0\n",
      "dtype: int64\n"
     ]
    },
    {
     "data": {
      "text/plain": [
       "'서울'"
      ]
     },
     "execution_count": 45,
     "metadata": {},
     "output_type": "execute_result"
    }
   ],
   "source": [
    "#10. 그룹핑, 최댓값, 정렬\n",
    "\n",
    "df = pd.read_csv(\"type1_data1.csv\")\n",
    "\n",
    "#1.\n",
    "print(df.isnull().sum())\n",
    "df = df.dropna()\n",
    "print(df.isnull().sum())\n",
    "\n",
    "#2. \n",
    "df.head(2)\n",
    "df = df.groupby(\"city\").mean(numeric_only=True)\n",
    "\n",
    "#3. \n",
    "df.sort_values(\"f2\", ascending=False)\n",
    "df[\"f2\"].idxmax()"
   ]
  },
  {
   "cell_type": "code",
   "execution_count": 52,
   "id": "35b74497",
   "metadata": {},
   "outputs": [
    {
     "name": "stdout",
     "output_type": "stream",
     "text": [
      "2771\n"
     ]
    }
   ],
   "source": [
    "# 11. 슬라이싱, 사분위수, 결측치 제거 \n",
    "df = pd.read_csv(\"type1_data1.csv\")\n",
    "\n",
    "#1.\n",
    "df = df.dropna()\n",
    "# df.isnull().sum()\n",
    "\n",
    "#2. \n",
    "num = int(len(df) * 0.7)\n",
    "df = df.iloc[ :num]\n",
    "\n",
    "#3. \n",
    "q3 = df[\"views\"].quantile(0.75)\n",
    "q1 = df[\"views\"].quantile(0.25)\n",
    "\n",
    "result = int(q3 - q1)\n",
    "print(result)\n"
   ]
  },
  {
   "cell_type": "code",
   "execution_count": 58,
   "id": "060a886c",
   "metadata": {},
   "outputs": [
    {
     "name": "stdout",
     "output_type": "stream",
     "text": [
      "id             0\n",
      "age            0\n",
      "city           0\n",
      "f1            31\n",
      "f2             0\n",
      "f3            29\n",
      "f4             0\n",
      "f5             0\n",
      "subscribed     0\n",
      "views          4\n",
      "dtype: int64\n"
     ]
    },
    {
     "data": {
      "text/plain": [
       "63"
      ]
     },
     "execution_count": 58,
     "metadata": {},
     "output_type": "execute_result"
    }
   ],
   "source": [
    "# 12. 결측치 처리, 최빈값, 데이터 개수\n",
    "df = pd.read_csv(\"type1_data1.csv\")\n",
    "\n",
    "#1. \n",
    "print(df.isnull().sum())\n",
    "\n",
    "# f1\n",
    "# f3\n",
    "\n",
    "#2. \n",
    "df = df.dropna(subset=\"f1\")\n",
    "df.isnull().sum()\n",
    "\n",
    "#3. \n",
    "f3_mode = df[\"f3\"].mode()[0]\n",
    "f3_mode\n",
    "df[\"f3\"] = df[\"f3\"].fillna(f3_mode)\n",
    "df.isnull().sum()\n",
    "\n",
    "\n",
    "#4\n",
    "cond = df[\"f3\"] == \"gold\"\n",
    "sum(cond)"
   ]
  },
  {
   "cell_type": "code",
   "execution_count": 63,
   "id": "050945c8",
   "metadata": {},
   "outputs": [
    {
     "data": {
      "text/plain": [
       "np.float64(53.6)"
      ]
     },
     "execution_count": 63,
     "metadata": {},
     "output_type": "execute_result"
    }
   ],
   "source": [
    "#13. 결측 데이터 찾기, 필터링, 평균값\n",
    "\n",
    "df = pd.read_csv(\"type1_data1.csv\")\n",
    "\n",
    "# 1\n",
    "\n",
    "cond = df[\"f1\"].isnull()\n",
    "df = df[cond]\n",
    "df\n",
    "\n",
    "#2. \n",
    "round(df[\"age\"].mean(), 1)"
   ]
  },
  {
   "cell_type": "code",
   "execution_count": 94,
   "id": "c5fa4975",
   "metadata": {},
   "outputs": [
    {
     "name": "stdout",
     "output_type": "stream",
     "text": [
      "(120, 10)\n",
      "(118, 10)\n"
     ]
    },
    {
     "data": {
      "text/html": [
       "<div>\n",
       "<style scoped>\n",
       "    .dataframe tbody tr th:only-of-type {\n",
       "        vertical-align: middle;\n",
       "    }\n",
       "\n",
       "    .dataframe tbody tr th {\n",
       "        vertical-align: top;\n",
       "    }\n",
       "\n",
       "    .dataframe thead th {\n",
       "        text-align: right;\n",
       "    }\n",
       "</style>\n",
       "<table border=\"1\" class=\"dataframe\">\n",
       "  <thead>\n",
       "    <tr style=\"text-align: right;\">\n",
       "      <th></th>\n",
       "      <th>id</th>\n",
       "      <th>age</th>\n",
       "      <th>city</th>\n",
       "      <th>f1</th>\n",
       "      <th>f2</th>\n",
       "      <th>f3</th>\n",
       "      <th>f4</th>\n",
       "      <th>f5</th>\n",
       "      <th>subscribed</th>\n",
       "      <th>views</th>\n",
       "    </tr>\n",
       "  </thead>\n",
       "  <tbody>\n",
       "    <tr>\n",
       "      <th>5</th>\n",
       "      <td>3</td>\n",
       "      <td>3.0</td>\n",
       "      <td>3</td>\n",
       "      <td>3.0</td>\n",
       "      <td>3</td>\n",
       "      <td>3</td>\n",
       "      <td>3</td>\n",
       "      <td>3.0</td>\n",
       "      <td>3</td>\n",
       "      <td>3.0</td>\n",
       "    </tr>\n",
       "    <tr>\n",
       "      <th>10</th>\n",
       "      <td>3</td>\n",
       "      <td>3.0</td>\n",
       "      <td>3</td>\n",
       "      <td>3.0</td>\n",
       "      <td>3</td>\n",
       "      <td>3</td>\n",
       "      <td>3</td>\n",
       "      <td>3.0</td>\n",
       "      <td>3</td>\n",
       "      <td>3.0</td>\n",
       "    </tr>\n",
       "    <tr>\n",
       "      <th>32</th>\n",
       "      <td>3</td>\n",
       "      <td>3.0</td>\n",
       "      <td>3</td>\n",
       "      <td>3.0</td>\n",
       "      <td>3</td>\n",
       "      <td>3</td>\n",
       "      <td>3</td>\n",
       "      <td>3.0</td>\n",
       "      <td>3</td>\n",
       "      <td>3.0</td>\n",
       "    </tr>\n",
       "    <tr>\n",
       "      <th>56</th>\n",
       "      <td>3</td>\n",
       "      <td>3.0</td>\n",
       "      <td>3</td>\n",
       "      <td>3.0</td>\n",
       "      <td>3</td>\n",
       "      <td>3</td>\n",
       "      <td>3</td>\n",
       "      <td>3.0</td>\n",
       "      <td>3</td>\n",
       "      <td>3.0</td>\n",
       "    </tr>\n",
       "    <tr>\n",
       "      <th>83</th>\n",
       "      <td>3</td>\n",
       "      <td>3.0</td>\n",
       "      <td>3</td>\n",
       "      <td>3.0</td>\n",
       "      <td>3</td>\n",
       "      <td>3</td>\n",
       "      <td>3</td>\n",
       "      <td>3.0</td>\n",
       "      <td>3</td>\n",
       "      <td>3.0</td>\n",
       "    </tr>\n",
       "    <tr>\n",
       "      <th>104</th>\n",
       "      <td>3</td>\n",
       "      <td>3.0</td>\n",
       "      <td>3</td>\n",
       "      <td>3.0</td>\n",
       "      <td>3</td>\n",
       "      <td>3</td>\n",
       "      <td>3</td>\n",
       "      <td>3.0</td>\n",
       "      <td>3</td>\n",
       "      <td>3.0</td>\n",
       "    </tr>\n",
       "    <tr>\n",
       "      <th>107</th>\n",
       "      <td>3</td>\n",
       "      <td>3.0</td>\n",
       "      <td>3</td>\n",
       "      <td>3.0</td>\n",
       "      <td>3</td>\n",
       "      <td>3</td>\n",
       "      <td>3</td>\n",
       "      <td>3.0</td>\n",
       "      <td>3</td>\n",
       "      <td>3.0</td>\n",
       "    </tr>\n",
       "    <tr>\n",
       "      <th>110</th>\n",
       "      <td>3</td>\n",
       "      <td>3.0</td>\n",
       "      <td>3</td>\n",
       "      <td>3.0</td>\n",
       "      <td>3</td>\n",
       "      <td>3</td>\n",
       "      <td>3</td>\n",
       "      <td>3.0</td>\n",
       "      <td>3</td>\n",
       "      <td>3.0</td>\n",
       "    </tr>\n",
       "    <tr>\n",
       "      <th>113</th>\n",
       "      <td>3</td>\n",
       "      <td>3.0</td>\n",
       "      <td>3</td>\n",
       "      <td>3.0</td>\n",
       "      <td>3</td>\n",
       "      <td>3</td>\n",
       "      <td>3</td>\n",
       "      <td>3.0</td>\n",
       "      <td>3</td>\n",
       "      <td>3.0</td>\n",
       "    </tr>\n",
       "    <tr>\n",
       "      <th>116</th>\n",
       "      <td>3</td>\n",
       "      <td>3.0</td>\n",
       "      <td>3</td>\n",
       "      <td>3.0</td>\n",
       "      <td>3</td>\n",
       "      <td>3</td>\n",
       "      <td>3</td>\n",
       "      <td>3.0</td>\n",
       "      <td>3</td>\n",
       "      <td>3.0</td>\n",
       "    </tr>\n",
       "    <tr>\n",
       "      <th>119</th>\n",
       "      <td>3</td>\n",
       "      <td>3.0</td>\n",
       "      <td>3</td>\n",
       "      <td>3.0</td>\n",
       "      <td>3</td>\n",
       "      <td>3</td>\n",
       "      <td>3</td>\n",
       "      <td>3.0</td>\n",
       "      <td>3</td>\n",
       "      <td>3.0</td>\n",
       "    </tr>\n",
       "  </tbody>\n",
       "</table>\n",
       "</div>"
      ],
      "text/plain": [
       "    id  age city   f1  f2 f3 f4   f5 subscribed  views\n",
       "5    3  3.0    3  3.0   3  3  3  3.0          3    3.0\n",
       "10   3  3.0    3  3.0   3  3  3  3.0          3    3.0\n",
       "32   3  3.0    3  3.0   3  3  3  3.0          3    3.0\n",
       "56   3  3.0    3  3.0   3  3  3  3.0          3    3.0\n",
       "83   3  3.0    3  3.0   3  3  3  3.0          3    3.0\n",
       "104  3  3.0    3  3.0   3  3  3  3.0          3    3.0\n",
       "107  3  3.0    3  3.0   3  3  3  3.0          3    3.0\n",
       "110  3  3.0    3  3.0   3  3  3  3.0          3    3.0\n",
       "113  3  3.0    3  3.0   3  3  3  3.0          3    3.0\n",
       "116  3  3.0    3  3.0   3  3  3  3.0          3    3.0\n",
       "119  3  3.0    3  3.0   3  3  3  3.0          3    3.0"
      ]
     },
     "execution_count": 94,
     "metadata": {},
     "output_type": "execute_result"
    }
   ],
   "source": [
    "#14. 중복 데이터 제거, 값 변경, 데이터 개수\n",
    "\n",
    "df = pd.read_csv(\"type1_data1.csv\")\n",
    "\n",
    "#1. \n",
    "print(df.shape)\n",
    "df = df.drop_duplicates()\n",
    "print(df.shape)\n",
    "\n",
    "\n",
    "# #2. \n",
    "# import numpy as np\n",
    "# df[\"f3\"] = df[\"f3\"].map({np.nan: 0, \"silver\": 1, \"gold\": 2, \"vip\": 3})\n",
    "# df.head()\n",
    "\n",
    "# #3. \n",
    "# df[\"f3\"].sum()\n",
    "\n",
    "df[\"f3\"] = df[\"f3\"].fillna(0)\n",
    "\n",
    "cond = df[\"f3\"] == \"silver\"\n",
    "df[cond] = 1\n",
    "\n",
    "cond2 = df[\"f3\"] == \"gold\"\n",
    "df[cond2] = 2\n",
    "\n",
    "cond3 = df[\"f3\"] == \"vip\"\n",
    "df[cond3] = 3\n",
    "\n",
    "df[cond3]\n",
    "\n"
   ]
  },
  {
   "cell_type": "code",
   "execution_count": 110,
   "id": "05eb6da8",
   "metadata": {},
   "outputs": [
    {
     "name": "stdout",
     "output_type": "stream",
     "text": [
      "age       0\n",
      "f1       31\n",
      "f2        0\n",
      "f5        0\n",
      "views     4\n",
      "dtype: int64\n",
      "age      0\n",
      "f1       0\n",
      "f2       0\n",
      "f5       0\n",
      "views    0\n",
      "dtype: int64\n"
     ]
    },
    {
     "data": {
      "text/plain": [
       "88"
      ]
     },
     "execution_count": 110,
     "metadata": {},
     "output_type": "execute_result"
    }
   ],
   "source": [
    "# 15. 컬럼삭제, 행 단위 합계, 필터링\n",
    "df = pd.read_csv(\"type1_data1.csv\")\n",
    "\n",
    "\n",
    "#1.\n",
    "df = df.select_dtypes(exclude=\"object\")\n",
    "df.head()\n",
    "\n",
    "\n",
    "#2.\n",
    "print(df.isna().sum())\n",
    "df = df.fillna(0)\n",
    "print(df.isna().sum())\n",
    "\n",
    "#3. \n",
    "# df[\"합\"] = df[\"age\"] + df[\"f1\"] + df[\"f2\"] + df[\"f5\"] + df[\"views\"]\n",
    "# sum(df[\"합\"] > 3000)\n",
    "\n",
    "#3_1. \n",
    "df = df.T\n",
    "sum(df.sum() > 3000)\n",
    "\n"
   ]
  },
  {
   "cell_type": "code",
   "execution_count": 114,
   "id": "c101083a",
   "metadata": {},
   "outputs": [
    {
     "data": {
      "text/plain": [
       "77699"
      ]
     },
     "execution_count": 114,
     "metadata": {},
     "output_type": "execute_result"
    }
   ],
   "source": [
    "# 16. 이상치, IQR\n",
    "df = pd.read_csv(\"type1_data1.csv\")\n",
    "\n",
    "#1. \n",
    "q1 = df[\"views\"].quantile(0.25)\n",
    "q3 = df[\"views\"].quantile(0.75)\n",
    "# print(q1, q3)\n",
    "iqr = q3 - q1\n",
    "\n",
    "#2. \n",
    "line1 = q1 - (iqr * 1.5)\n",
    "line2 = q3 + (iqr * 1.5)\n",
    "\n",
    "cond1 = df[\"views\"] < line1\n",
    "cond2 = df[\"views\"] > line2\n",
    "\n",
    "df = df[cond1 | cond2]\n",
    "\n",
    "#3.\n",
    "int(df[\"views\"].sum())\n",
    "\n"
   ]
  },
  {
   "cell_type": "code",
   "execution_count": 122,
   "id": "4603c30f",
   "metadata": {},
   "outputs": [
    {
     "name": "stdout",
     "output_type": "stream",
     "text": [
      "(120, 10)\n",
      "(116, 10)\n",
      "(110, 10)\n"
     ]
    },
    {
     "data": {
      "text/plain": [
       "np.float64(8297.31)"
      ]
     },
     "execution_count": 122,
     "metadata": {},
     "output_type": "execute_result"
    }
   ],
   "source": [
    "# 17. 이상치, 소수점 있는 데이터 찾기, 표준편차\n",
    "df = pd.read_csv(\"type1_data1.csv\")\n",
    "\n",
    "#1. \n",
    "s1 = df[\"views\"].std()\n",
    "\n",
    "#2. \n",
    "cond = df[\"age\"] > 0\n",
    "print(df.shape)\n",
    "df = df[cond]\n",
    "print(df.shape)\n",
    "\n",
    "cond2 = df[\"age\"] == round(df[\"age\"], 0)\n",
    "# print(1.0 == 1.0)\n",
    "# print(1.5 == 2.0)\n",
    "# print(1.2 == 1.0)\n",
    "df = df[cond2]\n",
    "print(df.shape)\n",
    "\n",
    "s2 = df[\"views\"].std()\n",
    "\n",
    "#3. \n",
    "round(s1 + s2, 2)\n"
   ]
  },
  {
   "cell_type": "code",
   "execution_count": 135,
   "id": "0aa2f035",
   "metadata": {},
   "outputs": [
    {
     "data": {
      "text/plain": [
       "202"
      ]
     },
     "execution_count": 135,
     "metadata": {},
     "output_type": "execute_result"
    }
   ],
   "source": [
    "#18. 데이터(행) 기준 평균값, 인덱싱\n",
    "df = pd.read_csv(\"type1_data2.csv\", index_col=\"year\")\n",
    "df\n",
    "\n",
    "#1.\n",
    "mean_2001 = df.loc[2001].mean()\n",
    "n1 = sum(df.loc[2001] > mean_2001)\n",
    "\n",
    "#2. \n",
    "mean_2003 = df.loc[2003].mean()\n",
    "n2 = sum(df.loc[2003] < mean_2003)\n",
    "\n",
    "#3. \n",
    "n1 + n2\n"
   ]
  },
  {
   "cell_type": "code",
   "execution_count": 157,
   "id": "d863e491",
   "metadata": {},
   "outputs": [
    {
     "name": "stdout",
     "output_type": "stream",
     "text": [
      "id             0\n",
      "age            0\n",
      "city           0\n",
      "f1            31\n",
      "f2             0\n",
      "f3            29\n",
      "f4             0\n",
      "f5             0\n",
      "subscribed     0\n",
      "views          4\n",
      "dtype: int64\n",
      "id            0\n",
      "age           0\n",
      "city          0\n",
      "f1            0\n",
      "f2            0\n",
      "f3            0\n",
      "f4            0\n",
      "f5            0\n",
      "subscribed    0\n",
      "views         0\n",
      "dtype: int64\n"
     ]
    },
    {
     "name": "stderr",
     "output_type": "stream",
     "text": [
      "C:\\Users\\HRD영대\\AppData\\Local\\Temp\\ipykernel_10796\\3780138006.py:7: FutureWarning: DataFrame.fillna with 'method' is deprecated and will raise in a future version. Use obj.ffill() or obj.bfill() instead.\n",
      "  df = df.fillna(method=\"bfill\")\n"
     ]
    },
    {
     "data": {
      "text/plain": [
       "'경기'"
      ]
     },
     "execution_count": 157,
     "metadata": {},
     "output_type": "execute_result"
    }
   ],
   "source": [
    "#19. 결측치(뒤의 값으로 대체), 그룹합\n",
    "\n",
    "df = pd.read_csv(\"type1_data1.csv\")\n",
    "\n",
    "#1. \n",
    "print(df.isnull().sum())\n",
    "df = df.fillna(method=\"bfill\")\n",
    "print(df.isnull().sum())\n",
    "\n",
    "\n",
    "#2. \n",
    "df = df.groupby([\"city\", \"f2\"]).sum(numeric_only=True)\n",
    "\n",
    "#3. \n",
    "df = df.sort_values(\"views\", ascending=False)\n",
    "df\n",
    "\n",
    "df = df.reset_index()\n",
    "df.nlargest(3, columns=\"views\").loc[2, \"city\"]\n",
    "\n",
    "\n"
   ]
  },
  {
   "cell_type": "code",
   "execution_count": 156,
   "id": "0ba07eb1",
   "metadata": {},
   "outputs": [
    {
     "data": {
      "text/plain": [
       "'경기'"
      ]
     },
     "execution_count": 156,
     "metadata": {},
     "output_type": "execute_result"
    }
   ],
   "source": [
    "df = df.reset_index()\n",
    "df.nlargest(3, columns=\"views\").loc[2, \"city\"]"
   ]
  },
  {
   "cell_type": "code",
   "execution_count": 169,
   "id": "9b1e463b",
   "metadata": {},
   "outputs": [
    {
     "data": {
      "text/plain": [
       "np.int32(11)"
      ]
     },
     "execution_count": 169,
     "metadata": {},
     "output_type": "execute_result"
    }
   ],
   "source": [
    "#20. 시계열 데이터, 월별집계, 인덱스\n",
    "df = pd.read_csv(\"type1_data1.csv\")\n",
    "\n",
    "#1. \n",
    "# df.head()\n",
    "# df.info()\n",
    "df[\"subscribed\"] = pd.to_datetime(df[\"subscribed\"]) \n",
    "# df.info()\n",
    "\n",
    "df[\"월\"] = df[\"subscribed\"].dt.month\n",
    "\n",
    "df = df.groupby(\"월\").sum(numeric_only=True)\n",
    "# df\n",
    "\n",
    "\n",
    "#2\n",
    "# df.sort_values(\"views\")\n",
    "\n",
    "df = df.reset_index()\n",
    "df\n",
    "df = df.nsmallest(5, columns=\"views\")\n",
    "df.loc[10, \"월\"]"
   ]
  },
  {
   "cell_type": "code",
   "execution_count": 179,
   "id": "13dfef30",
   "metadata": {},
   "outputs": [
    {
     "data": {
      "text/plain": [
       "311"
      ]
     },
     "execution_count": 179,
     "metadata": {},
     "output_type": "execute_result"
    }
   ],
   "source": [
    "#21. 시간 간의 차이 계산(분), 필터링\n",
    "\n",
    "df = pd.read_csv(\"delivery_time.csv\")\n",
    "\n",
    "#1\n",
    "# df.head()\n",
    "# df.shape\n",
    "# df.info()\n",
    "# df.isnull().sum()\n",
    "\n",
    "df[\"실제도착시간\"] = pd.to_datetime(df[\"실제도착시간\"])\n",
    "df[\"예상도착시간\"] = pd.to_datetime(df[\"예상도착시간\"])\n",
    "\n",
    "cond1 = df[\"실제도착시간\"] > df[\"예상도착시간\"]\n",
    "sum(cond1)\n",
    "\n",
    "#2. \n",
    "cond2 = df[\"거리\"] >= 7\n",
    "\n",
    "df = df[cond1 & cond2]\n",
    "len(df)"
   ]
  },
  {
   "cell_type": "code",
   "execution_count": null,
   "id": "79119d0d",
   "metadata": {},
   "outputs": [],
   "source": []
  }
 ],
 "metadata": {
  "kernelspec": {
   "display_name": "Python 3",
   "language": "python",
   "name": "python3"
  },
  "language_info": {
   "codemirror_mode": {
    "name": "ipython",
    "version": 3
   },
   "file_extension": ".py",
   "mimetype": "text/x-python",
   "name": "python",
   "nbconvert_exporter": "python",
   "pygments_lexer": "ipython3",
   "version": "3.13.7"
  }
 },
 "nbformat": 4,
 "nbformat_minor": 5
}
