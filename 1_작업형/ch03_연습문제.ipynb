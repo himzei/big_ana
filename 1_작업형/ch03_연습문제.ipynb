{
 "cells": [
  {
   "cell_type": "code",
   "execution_count": 26,
   "id": "c2488d1b",
   "metadata": {},
   "outputs": [
    {
     "data": {
      "text/html": [
       "<div>\n",
       "<style scoped>\n",
       "    .dataframe tbody tr th:only-of-type {\n",
       "        vertical-align: middle;\n",
       "    }\n",
       "\n",
       "    .dataframe tbody tr th {\n",
       "        vertical-align: top;\n",
       "    }\n",
       "\n",
       "    .dataframe thead th {\n",
       "        text-align: right;\n",
       "    }\n",
       "</style>\n",
       "<table border=\"1\" class=\"dataframe\">\n",
       "  <thead>\n",
       "    <tr style=\"text-align: right;\">\n",
       "      <th></th>\n",
       "      <th>id</th>\n",
       "      <th>age</th>\n",
       "      <th>city</th>\n",
       "      <th>f1</th>\n",
       "      <th>f2</th>\n",
       "      <th>f3</th>\n",
       "      <th>f4</th>\n",
       "      <th>f5</th>\n",
       "      <th>subscribed</th>\n",
       "      <th>views</th>\n",
       "    </tr>\n",
       "  </thead>\n",
       "  <tbody>\n",
       "    <tr>\n",
       "      <th>0</th>\n",
       "      <td>id01</td>\n",
       "      <td>2.0</td>\n",
       "      <td>서울</td>\n",
       "      <td>NaN</td>\n",
       "      <td>0</td>\n",
       "      <td>gold</td>\n",
       "      <td>ENFJ</td>\n",
       "      <td>91.297791</td>\n",
       "      <td>2024-07-16</td>\n",
       "      <td>6820.0</td>\n",
       "    </tr>\n",
       "    <tr>\n",
       "      <th>1</th>\n",
       "      <td>id02</td>\n",
       "      <td>9.0</td>\n",
       "      <td>서울</td>\n",
       "      <td>70.0</td>\n",
       "      <td>1</td>\n",
       "      <td>NaN</td>\n",
       "      <td>ENFJ</td>\n",
       "      <td>60.339826</td>\n",
       "      <td>2024-05-12</td>\n",
       "      <td>2534.0</td>\n",
       "    </tr>\n",
       "    <tr>\n",
       "      <th>2</th>\n",
       "      <td>id03</td>\n",
       "      <td>27.0</td>\n",
       "      <td>서울</td>\n",
       "      <td>61.0</td>\n",
       "      <td>1</td>\n",
       "      <td>gold</td>\n",
       "      <td>ISTJ</td>\n",
       "      <td>17.252986</td>\n",
       "      <td>2024-03-16</td>\n",
       "      <td>7312.0</td>\n",
       "    </tr>\n",
       "    <tr>\n",
       "      <th>3</th>\n",
       "      <td>id04</td>\n",
       "      <td>75.0</td>\n",
       "      <td>서울</td>\n",
       "      <td>NaN</td>\n",
       "      <td>2</td>\n",
       "      <td>NaN</td>\n",
       "      <td>INFP</td>\n",
       "      <td>52.667078</td>\n",
       "      <td>2024-07-21</td>\n",
       "      <td>493.0</td>\n",
       "    </tr>\n",
       "    <tr>\n",
       "      <th>4</th>\n",
       "      <td>id05</td>\n",
       "      <td>24.0</td>\n",
       "      <td>서울</td>\n",
       "      <td>85.0</td>\n",
       "      <td>2</td>\n",
       "      <td>NaN</td>\n",
       "      <td>ISFJ</td>\n",
       "      <td>29.269869</td>\n",
       "      <td>2024-03-07</td>\n",
       "      <td>1338.0</td>\n",
       "    </tr>\n",
       "    <tr>\n",
       "      <th>...</th>\n",
       "      <td>...</td>\n",
       "      <td>...</td>\n",
       "      <td>...</td>\n",
       "      <td>...</td>\n",
       "      <td>...</td>\n",
       "      <td>...</td>\n",
       "      <td>...</td>\n",
       "      <td>...</td>\n",
       "      <td>...</td>\n",
       "      <td>...</td>\n",
       "    </tr>\n",
       "    <tr>\n",
       "      <th>115</th>\n",
       "      <td>id114</td>\n",
       "      <td>22.0</td>\n",
       "      <td>대구</td>\n",
       "      <td>23.0</td>\n",
       "      <td>0</td>\n",
       "      <td>gold</td>\n",
       "      <td>INTP</td>\n",
       "      <td>0.000000</td>\n",
       "      <td>2025-02-17</td>\n",
       "      <td>9747.0</td>\n",
       "    </tr>\n",
       "    <tr>\n",
       "      <th>116</th>\n",
       "      <td>id115</td>\n",
       "      <td>23.0</td>\n",
       "      <td>부산</td>\n",
       "      <td>65.0</td>\n",
       "      <td>0</td>\n",
       "      <td>vip</td>\n",
       "      <td>ENTP</td>\n",
       "      <td>0.000000</td>\n",
       "      <td>2025-02-17</td>\n",
       "      <td>5628.0</td>\n",
       "    </tr>\n",
       "    <tr>\n",
       "      <th>117</th>\n",
       "      <td>id116</td>\n",
       "      <td>23.0</td>\n",
       "      <td>서울</td>\n",
       "      <td>12.0</td>\n",
       "      <td>1</td>\n",
       "      <td>silver</td>\n",
       "      <td>INFP</td>\n",
       "      <td>0.000000</td>\n",
       "      <td>2025-02-17</td>\n",
       "      <td>1267.0</td>\n",
       "    </tr>\n",
       "    <tr>\n",
       "      <th>118</th>\n",
       "      <td>id117</td>\n",
       "      <td>23.0</td>\n",
       "      <td>대구</td>\n",
       "      <td>65.0</td>\n",
       "      <td>2</td>\n",
       "      <td>gold</td>\n",
       "      <td>INFP</td>\n",
       "      <td>0.000000</td>\n",
       "      <td>2025-02-17</td>\n",
       "      <td>6543.0</td>\n",
       "    </tr>\n",
       "    <tr>\n",
       "      <th>119</th>\n",
       "      <td>id118</td>\n",
       "      <td>24.0</td>\n",
       "      <td>부산</td>\n",
       "      <td>94.0</td>\n",
       "      <td>1</td>\n",
       "      <td>vip</td>\n",
       "      <td>ESFJ</td>\n",
       "      <td>0.000000</td>\n",
       "      <td>2025-02-17</td>\n",
       "      <td>2356.0</td>\n",
       "    </tr>\n",
       "  </tbody>\n",
       "</table>\n",
       "<p>120 rows × 10 columns</p>\n",
       "</div>"
      ],
      "text/plain": [
       "        id   age city    f1  f2      f3    f4         f5  subscribed   views\n",
       "0     id01   2.0   서울   NaN   0    gold  ENFJ  91.297791  2024-07-16  6820.0\n",
       "1     id02   9.0   서울  70.0   1     NaN  ENFJ  60.339826  2024-05-12  2534.0\n",
       "2     id03  27.0   서울  61.0   1    gold  ISTJ  17.252986  2024-03-16  7312.0\n",
       "3     id04  75.0   서울   NaN   2     NaN  INFP  52.667078  2024-07-21   493.0\n",
       "4     id05  24.0   서울  85.0   2     NaN  ISFJ  29.269869  2024-03-07  1338.0\n",
       "..     ...   ...  ...   ...  ..     ...   ...        ...         ...     ...\n",
       "115  id114  22.0   대구  23.0   0    gold  INTP   0.000000  2025-02-17  9747.0\n",
       "116  id115  23.0   부산  65.0   0     vip  ENTP   0.000000  2025-02-17  5628.0\n",
       "117  id116  23.0   서울  12.0   1  silver  INFP   0.000000  2025-02-17  1267.0\n",
       "118  id117  23.0   대구  65.0   2    gold  INFP   0.000000  2025-02-17  6543.0\n",
       "119  id118  24.0   부산  94.0   1     vip  ESFJ   0.000000  2025-02-17  2356.0\n",
       "\n",
       "[120 rows x 10 columns]"
      ]
     },
     "execution_count": 26,
     "metadata": {},
     "output_type": "execute_result"
    }
   ],
   "source": [
    "import pandas as pd\n",
    "\n",
    "df = pd.read_csv(\"type1_data1.csv\")\n",
    "df"
   ]
  },
  {
   "cell_type": "code",
   "execution_count": 27,
   "id": "c9bd6402",
   "metadata": {},
   "outputs": [
    {
     "name": "stdout",
     "output_type": "stream",
     "text": [
      "(120, 10)\n",
      "102\n",
      "(102, 10)\n",
      "결측치 4\n",
      "결측치 0\n",
      "5924\n"
     ]
    }
   ],
   "source": [
    "#01 필터링, 최솟값, 중앙값\n",
    "import pandas as pd \n",
    "df = pd.read_csv(\"type1_data1.csv\")\n",
    "# print(df.info())\n",
    "\n",
    "#1. \n",
    "print(df.shape)\n",
    "cond = df[\"f5\"] != 0\n",
    "print(cond.sum())\n",
    "\n",
    "df = df[cond]\n",
    "print(df.shape)\n",
    "\n",
    "#2.\n",
    "print(\"결측치\", df[\"views\"].isnull().sum())\n",
    "views_min = df[\"views\"].min()\n",
    "df[\"views\"] = df[\"views\"].fillna(views_min)\n",
    "print(\"결측치\", df[\"views\"].isnull().sum())\n",
    "\n",
    "#3. \n",
    "views_median = df[\"views\"].median()\n",
    "print(int(views_median))\n"
   ]
  },
  {
   "cell_type": "code",
   "execution_count": 28,
   "id": "83772aaa",
   "metadata": {},
   "outputs": [
    {
     "name": "stdout",
     "output_type": "stream",
     "text": [
      "2025-02-17\n",
      "17\n"
     ]
    }
   ],
   "source": [
    "# 02. 카테고리, 인덱스, 문자열 슬라이싱\n",
    "\n",
    "df = pd.read_csv(\"type1_data1.csv\")\n",
    "df\n",
    "\n",
    "#1. \n",
    "sub_mode = df[\"subscribed\"].mode()[0]\n",
    "print(sub_mode)\n",
    "\n",
    "# df[\"subscribed\"].value_counts().idxmax()\n",
    "\n",
    "#2. \n",
    "print(int(sub_mode[-2:]))"
   ]
  },
  {
   "cell_type": "code",
   "execution_count": 29,
   "id": "4a83cd69",
   "metadata": {},
   "outputs": [
    {
     "data": {
      "text/html": [
       "<div>\n",
       "<style scoped>\n",
       "    .dataframe tbody tr th:only-of-type {\n",
       "        vertical-align: middle;\n",
       "    }\n",
       "\n",
       "    .dataframe tbody tr th {\n",
       "        vertical-align: top;\n",
       "    }\n",
       "\n",
       "    .dataframe thead th {\n",
       "        text-align: right;\n",
       "    }\n",
       "</style>\n",
       "<table border=\"1\" class=\"dataframe\">\n",
       "  <thead>\n",
       "    <tr style=\"text-align: right;\">\n",
       "      <th></th>\n",
       "      <th>id</th>\n",
       "      <th>age</th>\n",
       "      <th>city</th>\n",
       "      <th>f1</th>\n",
       "      <th>f2</th>\n",
       "      <th>f3</th>\n",
       "      <th>f4</th>\n",
       "      <th>f5</th>\n",
       "      <th>subscribed</th>\n",
       "      <th>views</th>\n",
       "    </tr>\n",
       "  </thead>\n",
       "  <tbody>\n",
       "    <tr>\n",
       "      <th>0</th>\n",
       "      <td>id01</td>\n",
       "      <td>2.0</td>\n",
       "      <td>서울</td>\n",
       "      <td>NaN</td>\n",
       "      <td>0</td>\n",
       "      <td>gold</td>\n",
       "      <td>ENFJ</td>\n",
       "      <td>91.297791</td>\n",
       "      <td>2024-07-16</td>\n",
       "      <td>6820.0</td>\n",
       "    </tr>\n",
       "    <tr>\n",
       "      <th>1</th>\n",
       "      <td>id02</td>\n",
       "      <td>9.0</td>\n",
       "      <td>서울</td>\n",
       "      <td>70.0</td>\n",
       "      <td>1</td>\n",
       "      <td>NaN</td>\n",
       "      <td>ENFJ</td>\n",
       "      <td>60.339826</td>\n",
       "      <td>2024-05-12</td>\n",
       "      <td>2534.0</td>\n",
       "    </tr>\n",
       "    <tr>\n",
       "      <th>2</th>\n",
       "      <td>id03</td>\n",
       "      <td>27.0</td>\n",
       "      <td>서울</td>\n",
       "      <td>61.0</td>\n",
       "      <td>1</td>\n",
       "      <td>gold</td>\n",
       "      <td>ISTJ</td>\n",
       "      <td>17.252986</td>\n",
       "      <td>2024-03-16</td>\n",
       "      <td>7312.0</td>\n",
       "    </tr>\n",
       "    <tr>\n",
       "      <th>3</th>\n",
       "      <td>id04</td>\n",
       "      <td>75.0</td>\n",
       "      <td>서울</td>\n",
       "      <td>NaN</td>\n",
       "      <td>2</td>\n",
       "      <td>NaN</td>\n",
       "      <td>INFP</td>\n",
       "      <td>52.667078</td>\n",
       "      <td>2024-07-21</td>\n",
       "      <td>493.0</td>\n",
       "    </tr>\n",
       "    <tr>\n",
       "      <th>4</th>\n",
       "      <td>id05</td>\n",
       "      <td>24.0</td>\n",
       "      <td>서울</td>\n",
       "      <td>85.0</td>\n",
       "      <td>2</td>\n",
       "      <td>NaN</td>\n",
       "      <td>ISFJ</td>\n",
       "      <td>29.269869</td>\n",
       "      <td>2024-03-07</td>\n",
       "      <td>1338.0</td>\n",
       "    </tr>\n",
       "  </tbody>\n",
       "</table>\n",
       "</div>"
      ],
      "text/plain": [
       "     id   age city    f1  f2    f3    f4         f5  subscribed   views\n",
       "0  id01   2.0   서울   NaN   0  gold  ENFJ  91.297791  2024-07-16  6820.0\n",
       "1  id02   9.0   서울  70.0   1   NaN  ENFJ  60.339826  2024-05-12  2534.0\n",
       "2  id03  27.0   서울  61.0   1  gold  ISTJ  17.252986  2024-03-16  7312.0\n",
       "3  id04  75.0   서울   NaN   2   NaN  INFP  52.667078  2024-07-21   493.0\n",
       "4  id05  24.0   서울  85.0   2   NaN  ISFJ  29.269869  2024-03-07  1338.0"
      ]
     },
     "execution_count": 29,
     "metadata": {},
     "output_type": "execute_result"
    }
   ],
   "source": [
    "df.head()\n"
   ]
  },
  {
   "cell_type": "code",
   "execution_count": 30,
   "id": "2f4260d7",
   "metadata": {},
   "outputs": [
    {
     "name": "stdout",
     "output_type": "stream",
     "text": [
      "(120, 10)\n",
      "(70, 10)\n",
      "id            0\n",
      "age           0\n",
      "city          0\n",
      "f1            0\n",
      "f2            0\n",
      "f3            0\n",
      "f4            0\n",
      "f5            0\n",
      "subscribed    0\n",
      "views         0\n",
      "dtype: int64\n",
      "22\n"
     ]
    },
    {
     "data": {
      "text/plain": [
       "np.float64(22.0)"
      ]
     },
     "execution_count": 30,
     "metadata": {},
     "output_type": "execute_result"
    }
   ],
   "source": [
    "#03 파생변수, 정렬, 인덱싱\n",
    "\n",
    "df = pd.read_csv(\"type1_data1.csv\")\n",
    "df\n",
    "\n",
    "#1.\n",
    "print(df.shape)\n",
    "df = df.dropna()\n",
    "print(df.shape)\n",
    "print(df.isnull().sum())\n",
    "\n",
    "#2. \n",
    "df[\"new_col\"] = df[\"views\"] / df[\"f1\"]\n",
    "df.head()\n",
    "\n",
    "#3. \n",
    "cond = df[\"new_col\"] == df[\"new_col\"].max()\n",
    "print(int(df[cond].iloc[0, 1]))\n",
    "\n",
    "df = df.sort_values(by=\"new_col\", ascending=False)\n",
    "df.iloc[0, 1]"
   ]
  },
  {
   "cell_type": "code",
   "execution_count": 31,
   "id": "90da8890",
   "metadata": {},
   "outputs": [
    {
     "name": "stdout",
     "output_type": "stream",
     "text": [
      "4\n",
      "0\n",
      "9877.0\n",
      "        id   age city    f1  f2      f3    f4         f5  subscribed    views\n",
      "5     id06  22.0   서울  57.0   0     vip  INTP  20.129444  2024-09-12  21550.0\n",
      "56    id56  59.0   대구   NaN   1     vip  ESTJ  73.586397  2024-04-05  19589.0\n",
      "83    id83  73.0   경기  50.0   1     vip  ENTP  80.138280  2024-09-26  19139.0\n",
      "32    id32  25.0   부산  64.0   0     vip  ISFJ  13.049921  2024-05-24  17421.0\n",
      "100  id100  47.0   경기  53.0   0     vip  ESFP  33.308999  2024-02-21  15535.0\n",
      "10   id100  47.0   경기  53.0   0     vip  ESFP  33.308999  2024-02-21  15535.0\n",
      "104  id103  21.0   부산  53.0   0     vip  ISFP   0.000000  2025-02-17  13543.0\n",
      "114  id113  22.0   경기  34.0   2  silver  ENTP   0.000000  2025-02-17  10346.0\n",
      "9     id10  95.0   서울  74.0   1    gold  ISFP  98.429899  2024-04-03   9992.0\n",
      "113  id112  22.0   서울  45.0   2     vip  ENTP   0.000000  2025-02-17   9877.0\n",
      "115  id114  22.0   대구  23.0   0    gold  INTP   0.000000  2025-02-17   9747.0\n",
      "        id   age city    f1  f2      f3    f4         f5  subscribed   views\n",
      "5     id06  22.0   서울  57.0   0     vip  INTP  20.129444  2024-09-12  9877.0\n",
      "56    id56  59.0   대구   NaN   1     vip  ESTJ  73.586397  2024-04-05  9877.0\n",
      "83    id83  73.0   경기  50.0   1     vip  ENTP  80.138280  2024-09-26  9877.0\n",
      "32    id32  25.0   부산  64.0   0     vip  ISFJ  13.049921  2024-05-24  9877.0\n",
      "100  id100  47.0   경기  53.0   0     vip  ESFP  33.308999  2024-02-21  9877.0\n",
      "10   id100  47.0   경기  53.0   0     vip  ESFP  33.308999  2024-02-21  9877.0\n",
      "104  id103  21.0   부산  53.0   0     vip  ISFP   0.000000  2025-02-17  9877.0\n",
      "114  id113  22.0   경기  34.0   2  silver  ENTP   0.000000  2025-02-17  9877.0\n",
      "9     id10  95.0   서울  74.0   1    gold  ISFP  98.429899  2024-04-03  9877.0\n",
      "113  id112  22.0   서울  45.0   2     vip  ENTP   0.000000  2025-02-17  9877.0\n",
      "115  id114  22.0   대구  23.0   0    gold  INTP   0.000000  2025-02-17  9747.0\n",
      "652812\n"
     ]
    }
   ],
   "source": [
    "# 04. 값 변경, 정렬, 합계+\n",
    "\n",
    "df = pd.read_csv(\"type1_data1.csv\")\n",
    "df\n",
    "\n",
    "#1. \n",
    "print(df[\"views\"].isnull().sum())\n",
    "df[\"views\"] = df[\"views\"].fillna(0)\n",
    "print(df[\"views\"].isnull().sum())\n",
    "\n",
    "#2. \n",
    "df = df.sort_values(\"views\", ascending=False)\n",
    "df.head(10)\n",
    "views_10 = df.iloc[9, -1]\n",
    "print(views_10)\n",
    "\n",
    "#3. \n",
    "print(df.head(11))\n",
    "df.iloc[0:9+1, -1] = views_10\n",
    "print(df.head(11))\n",
    "\n",
    "#4.\n",
    "print(int(df[\"views\"].sum()))\n",
    "\n"
   ]
  },
  {
   "cell_type": "code",
   "execution_count": 32,
   "id": "61935e38",
   "metadata": {},
   "outputs": [
    {
     "name": "stdout",
     "output_type": "stream",
     "text": [
      "0.61\n"
     ]
    }
   ],
   "source": [
    "# 05. 문자열 슬라이싱, 파생변수, 평균값\n",
    "\n",
    "df = pd.read_csv(\"type1_data1.csv\")\n",
    "# print(df.head())\n",
    "\n",
    "#1. \n",
    "cond = df[\"f4\"].str.contains(\"FJ\")\n",
    "df = df[cond]\n",
    "\n",
    "\n",
    "#2.\n",
    "result = round(df[\"f2\"].mean(), 2)\n",
    "print(result)"
   ]
  },
  {
   "cell_type": "code",
   "execution_count": 33,
   "id": "766a238d",
   "metadata": {},
   "outputs": [
    {
     "data": {
      "text/plain": [
       "np.float64(235.43)"
      ]
     },
     "execution_count": 33,
     "metadata": {},
     "output_type": "execute_result"
    }
   ],
   "source": [
    "# 06. 필터링, 분산\n",
    "\n",
    "df = pd.read_csv(\"type1_data1.csv\")\n",
    "\n",
    "#1. \n",
    "cond1 = df[\"f3\"] == \"gold\"\n",
    "cond2 = df[\"f2\"] == 2\n",
    "\n",
    "df = df[cond1 & cond2]\n",
    "\n",
    "#2. \n",
    "round(df[\"f1\"].var(), 2)"
   ]
  },
  {
   "cell_type": "code",
   "execution_count": 34,
   "id": "1d98ce83",
   "metadata": {},
   "outputs": [
    {
     "name": "stdout",
     "output_type": "stream",
     "text": [
      "<class 'pandas.core.frame.DataFrame'>\n",
      "RangeIndex: 120 entries, 0 to 119\n",
      "Data columns (total 10 columns):\n",
      " #   Column      Non-Null Count  Dtype  \n",
      "---  ------      --------------  -----  \n",
      " 0   id          120 non-null    object \n",
      " 1   age         120 non-null    float64\n",
      " 2   city        120 non-null    object \n",
      " 3   f1          89 non-null     float64\n",
      " 4   f2          120 non-null    int64  \n",
      " 5   f3          91 non-null     object \n",
      " 6   f4          120 non-null    object \n",
      " 7   f5          120 non-null    float64\n",
      " 8   subscribed  120 non-null    object \n",
      " 9   views       116 non-null    float64\n",
      "dtypes: float64(4), int64(1), object(5)\n",
      "memory usage: 9.5+ KB\n",
      "     id  age city    f1  f2    f3    f4         f5  subscribed   views\n",
      "0  id01  2.0   서울   NaN   0  gold  ENFJ  91.297791  2024-07-16  6820.0\n",
      "1  id02  9.0   서울  70.0   1   NaN  ENFJ  60.339826  2024-05-12  2534.0\n",
      "     id   age city    f1  f2    f3    f4         f5  subscribed   views\n",
      "0  id01   3.0   서울   NaN   0  gold  ENFJ  91.297791  2024-07-16  6820.0\n",
      "1  id02  10.0   서울  70.0   1   NaN  ENFJ  60.339826  2024-05-12  2534.0\n"
     ]
    },
    {
     "data": {
      "text/plain": [
       "np.float64(263.13)"
      ]
     },
     "execution_count": 34,
     "metadata": {},
     "output_type": "execute_result"
    }
   ],
   "source": [
    "# 07. 값 변경(연산), 필터링 절댓값\n",
    "df = pd.read_csv(\"type1_data1.csv\")\n",
    "df.head()\n",
    "df.info()\n",
    "\n",
    "#1. \n",
    "print(df.head(2))\n",
    "df[\"age\"] = df[\"age\"] + 1\n",
    "print(df.head(2))\n",
    "\n",
    "#2. \n",
    "cond_20 = (df[\"age\"] >= 20) & (df[\"age\"] < 30)\n",
    "cond_30 = (df[\"age\"] >= 30) & (df[\"age\"] < 40)\n",
    "\n",
    "age_20 = df[cond_20][\"views\"].mean()\n",
    "age_30 = df[cond_30][\"views\"].mean()\n",
    "\n",
    "round(abs(age_20 - age_30), 2)\n"
   ]
  },
  {
   "cell_type": "code",
   "execution_count": 35,
   "id": "d3ee017b",
   "metadata": {},
   "outputs": [
    {
     "data": {
      "text/plain": [
       "np.int64(5)"
      ]
     },
     "execution_count": 35,
     "metadata": {},
     "output_type": "execute_result"
    }
   ],
   "source": [
    "#08. 시계열 데이터, 필터링, 데이터개수\n",
    "\n",
    "df = pd.read_csv(\"type1_data1.csv\")\n",
    "\n",
    "#1. \n",
    "df.head(2)\n",
    "# df.info()\n",
    "\n",
    "cond1 = df[\"subscribed\"].str[0:7] == \"2024-02\"\n",
    "df = df[cond1]\n",
    "\n",
    "\n",
    "#2. \n",
    "cond2 = df[\"f3\"] == \"gold\"\n",
    "cond2.sum()"
   ]
  },
  {
   "cell_type": "code",
   "execution_count": 36,
   "id": "9012dca4",
   "metadata": {},
   "outputs": [
    {
     "name": "stdout",
     "output_type": "stream",
     "text": [
      "id             0\n",
      "age            0\n",
      "city           0\n",
      "f1            31\n",
      "f2             0\n",
      "f3            29\n",
      "f4             0\n",
      "f5             0\n",
      "subscribed     0\n",
      "views          4\n",
      "dtype: int64\n",
      "id             0\n",
      "age            0\n",
      "city           0\n",
      "f1             4\n",
      "f2             0\n",
      "f3            10\n",
      "f4             0\n",
      "f5             0\n",
      "subscribed     0\n",
      "views          0\n",
      "dtype: int64\n",
      "False\n",
      "False\n",
      "False\n"
     ]
    },
    {
     "data": {
      "text/plain": [
       "'ISFJ'"
      ]
     },
     "execution_count": 36,
     "metadata": {},
     "output_type": "execute_result"
    }
   ],
   "source": [
    "# 09. 필터링, 카테고리, 최빈값\n",
    "\n",
    "df = pd.read_csv(\"type1_data1.csv\")\n",
    "import numpy as np\n",
    "\n",
    "#1. \n",
    "print(df.isnull().sum())\n",
    "cond = df[\"views\"] <= 1000\n",
    "df = df[cond]\n",
    "print(df.isnull().sum())\n",
    "\n",
    "print(np.nan < 1000)\n",
    "print(np.nan > 1000)\n",
    "print(np.nan == 1000)\n",
    "\n",
    "#2\n",
    "df[\"f4\"].mode()[0]\n"
   ]
  },
  {
   "cell_type": "code",
   "execution_count": 37,
   "id": "87e1652a",
   "metadata": {},
   "outputs": [
    {
     "name": "stdout",
     "output_type": "stream",
     "text": [
      "id             0\n",
      "age            0\n",
      "city           0\n",
      "f1            31\n",
      "f2             0\n",
      "f3            29\n",
      "f4             0\n",
      "f5             0\n",
      "subscribed     0\n",
      "views          4\n",
      "dtype: int64\n",
      "id            0\n",
      "age           0\n",
      "city          0\n",
      "f1            0\n",
      "f2            0\n",
      "f3            0\n",
      "f4            0\n",
      "f5            0\n",
      "subscribed    0\n",
      "views         0\n",
      "dtype: int64\n"
     ]
    },
    {
     "data": {
      "text/plain": [
       "'서울'"
      ]
     },
     "execution_count": 37,
     "metadata": {},
     "output_type": "execute_result"
    }
   ],
   "source": [
    "#10. 그룹핑, 최댓값, 정렬\n",
    "\n",
    "df = pd.read_csv(\"type1_data1.csv\")\n",
    "\n",
    "#1.\n",
    "print(df.isnull().sum())\n",
    "df = df.dropna()\n",
    "print(df.isnull().sum())\n",
    "\n",
    "#2. \n",
    "df.head(2)\n",
    "df = df.groupby(\"city\").mean(numeric_only=True)\n",
    "\n",
    "#3. \n",
    "df.sort_values(\"f2\", ascending=False)\n",
    "df[\"f2\"].idxmax()"
   ]
  },
  {
   "cell_type": "code",
   "execution_count": 38,
   "id": "35b74497",
   "metadata": {},
   "outputs": [
    {
     "name": "stdout",
     "output_type": "stream",
     "text": [
      "2771\n"
     ]
    }
   ],
   "source": [
    "# 11. 슬라이싱, 사분위수, 결측치 제거 \n",
    "df = pd.read_csv(\"type1_data1.csv\")\n",
    "\n",
    "#1.\n",
    "df = df.dropna()\n",
    "# df.isnull().sum()\n",
    "\n",
    "#2. \n",
    "num = int(len(df) * 0.7)\n",
    "df = df.iloc[ :num]\n",
    "\n",
    "#3. \n",
    "q3 = df[\"views\"].quantile(0.75)\n",
    "q1 = df[\"views\"].quantile(0.25)\n",
    "\n",
    "result = int(q3 - q1)\n",
    "print(result)\n"
   ]
  },
  {
   "cell_type": "code",
   "execution_count": 39,
   "id": "060a886c",
   "metadata": {},
   "outputs": [
    {
     "name": "stdout",
     "output_type": "stream",
     "text": [
      "id             0\n",
      "age            0\n",
      "city           0\n",
      "f1            31\n",
      "f2             0\n",
      "f3            29\n",
      "f4             0\n",
      "f5             0\n",
      "subscribed     0\n",
      "views          4\n",
      "dtype: int64\n"
     ]
    },
    {
     "data": {
      "text/plain": [
       "63"
      ]
     },
     "execution_count": 39,
     "metadata": {},
     "output_type": "execute_result"
    }
   ],
   "source": [
    "# 12. 결측치 처리, 최빈값, 데이터 개수\n",
    "df = pd.read_csv(\"type1_data1.csv\")\n",
    "\n",
    "#1. \n",
    "print(df.isnull().sum())\n",
    "\n",
    "# f1\n",
    "# f3\n",
    "\n",
    "#2. \n",
    "df = df.dropna(subset=\"f1\")\n",
    "df.isnull().sum()\n",
    "\n",
    "#3. \n",
    "f3_mode = df[\"f3\"].mode()[0]\n",
    "f3_mode\n",
    "df[\"f3\"] = df[\"f3\"].fillna(f3_mode)\n",
    "df.isnull().sum()\n",
    "\n",
    "\n",
    "#4\n",
    "cond = df[\"f3\"] == \"gold\"\n",
    "sum(cond)"
   ]
  },
  {
   "cell_type": "code",
   "execution_count": 40,
   "id": "050945c8",
   "metadata": {},
   "outputs": [
    {
     "data": {
      "text/plain": [
       "np.float64(53.6)"
      ]
     },
     "execution_count": 40,
     "metadata": {},
     "output_type": "execute_result"
    }
   ],
   "source": [
    "#13. 결측 데이터 찾기, 필터링, 평균값\n",
    "\n",
    "df = pd.read_csv(\"type1_data1.csv\")\n",
    "\n",
    "# 1\n",
    "\n",
    "cond = df[\"f1\"].isnull()\n",
    "df = df[cond]\n",
    "df\n",
    "\n",
    "#2. \n",
    "round(df[\"age\"].mean(), 1)"
   ]
  },
  {
   "cell_type": "code",
   "execution_count": 41,
   "id": "c5fa4975",
   "metadata": {},
   "outputs": [
    {
     "name": "stdout",
     "output_type": "stream",
     "text": [
      "(120, 10)\n",
      "(118, 10)\n"
     ]
    },
    {
     "data": {
      "text/html": [
       "<div>\n",
       "<style scoped>\n",
       "    .dataframe tbody tr th:only-of-type {\n",
       "        vertical-align: middle;\n",
       "    }\n",
       "\n",
       "    .dataframe tbody tr th {\n",
       "        vertical-align: top;\n",
       "    }\n",
       "\n",
       "    .dataframe thead th {\n",
       "        text-align: right;\n",
       "    }\n",
       "</style>\n",
       "<table border=\"1\" class=\"dataframe\">\n",
       "  <thead>\n",
       "    <tr style=\"text-align: right;\">\n",
       "      <th></th>\n",
       "      <th>id</th>\n",
       "      <th>age</th>\n",
       "      <th>city</th>\n",
       "      <th>f1</th>\n",
       "      <th>f2</th>\n",
       "      <th>f3</th>\n",
       "      <th>f4</th>\n",
       "      <th>f5</th>\n",
       "      <th>subscribed</th>\n",
       "      <th>views</th>\n",
       "    </tr>\n",
       "  </thead>\n",
       "  <tbody>\n",
       "    <tr>\n",
       "      <th>5</th>\n",
       "      <td>3</td>\n",
       "      <td>3.0</td>\n",
       "      <td>3</td>\n",
       "      <td>3.0</td>\n",
       "      <td>3</td>\n",
       "      <td>3</td>\n",
       "      <td>3</td>\n",
       "      <td>3.0</td>\n",
       "      <td>3</td>\n",
       "      <td>3.0</td>\n",
       "    </tr>\n",
       "    <tr>\n",
       "      <th>10</th>\n",
       "      <td>3</td>\n",
       "      <td>3.0</td>\n",
       "      <td>3</td>\n",
       "      <td>3.0</td>\n",
       "      <td>3</td>\n",
       "      <td>3</td>\n",
       "      <td>3</td>\n",
       "      <td>3.0</td>\n",
       "      <td>3</td>\n",
       "      <td>3.0</td>\n",
       "    </tr>\n",
       "    <tr>\n",
       "      <th>32</th>\n",
       "      <td>3</td>\n",
       "      <td>3.0</td>\n",
       "      <td>3</td>\n",
       "      <td>3.0</td>\n",
       "      <td>3</td>\n",
       "      <td>3</td>\n",
       "      <td>3</td>\n",
       "      <td>3.0</td>\n",
       "      <td>3</td>\n",
       "      <td>3.0</td>\n",
       "    </tr>\n",
       "    <tr>\n",
       "      <th>56</th>\n",
       "      <td>3</td>\n",
       "      <td>3.0</td>\n",
       "      <td>3</td>\n",
       "      <td>3.0</td>\n",
       "      <td>3</td>\n",
       "      <td>3</td>\n",
       "      <td>3</td>\n",
       "      <td>3.0</td>\n",
       "      <td>3</td>\n",
       "      <td>3.0</td>\n",
       "    </tr>\n",
       "    <tr>\n",
       "      <th>83</th>\n",
       "      <td>3</td>\n",
       "      <td>3.0</td>\n",
       "      <td>3</td>\n",
       "      <td>3.0</td>\n",
       "      <td>3</td>\n",
       "      <td>3</td>\n",
       "      <td>3</td>\n",
       "      <td>3.0</td>\n",
       "      <td>3</td>\n",
       "      <td>3.0</td>\n",
       "    </tr>\n",
       "    <tr>\n",
       "      <th>104</th>\n",
       "      <td>3</td>\n",
       "      <td>3.0</td>\n",
       "      <td>3</td>\n",
       "      <td>3.0</td>\n",
       "      <td>3</td>\n",
       "      <td>3</td>\n",
       "      <td>3</td>\n",
       "      <td>3.0</td>\n",
       "      <td>3</td>\n",
       "      <td>3.0</td>\n",
       "    </tr>\n",
       "    <tr>\n",
       "      <th>107</th>\n",
       "      <td>3</td>\n",
       "      <td>3.0</td>\n",
       "      <td>3</td>\n",
       "      <td>3.0</td>\n",
       "      <td>3</td>\n",
       "      <td>3</td>\n",
       "      <td>3</td>\n",
       "      <td>3.0</td>\n",
       "      <td>3</td>\n",
       "      <td>3.0</td>\n",
       "    </tr>\n",
       "    <tr>\n",
       "      <th>110</th>\n",
       "      <td>3</td>\n",
       "      <td>3.0</td>\n",
       "      <td>3</td>\n",
       "      <td>3.0</td>\n",
       "      <td>3</td>\n",
       "      <td>3</td>\n",
       "      <td>3</td>\n",
       "      <td>3.0</td>\n",
       "      <td>3</td>\n",
       "      <td>3.0</td>\n",
       "    </tr>\n",
       "    <tr>\n",
       "      <th>113</th>\n",
       "      <td>3</td>\n",
       "      <td>3.0</td>\n",
       "      <td>3</td>\n",
       "      <td>3.0</td>\n",
       "      <td>3</td>\n",
       "      <td>3</td>\n",
       "      <td>3</td>\n",
       "      <td>3.0</td>\n",
       "      <td>3</td>\n",
       "      <td>3.0</td>\n",
       "    </tr>\n",
       "    <tr>\n",
       "      <th>116</th>\n",
       "      <td>3</td>\n",
       "      <td>3.0</td>\n",
       "      <td>3</td>\n",
       "      <td>3.0</td>\n",
       "      <td>3</td>\n",
       "      <td>3</td>\n",
       "      <td>3</td>\n",
       "      <td>3.0</td>\n",
       "      <td>3</td>\n",
       "      <td>3.0</td>\n",
       "    </tr>\n",
       "    <tr>\n",
       "      <th>119</th>\n",
       "      <td>3</td>\n",
       "      <td>3.0</td>\n",
       "      <td>3</td>\n",
       "      <td>3.0</td>\n",
       "      <td>3</td>\n",
       "      <td>3</td>\n",
       "      <td>3</td>\n",
       "      <td>3.0</td>\n",
       "      <td>3</td>\n",
       "      <td>3.0</td>\n",
       "    </tr>\n",
       "  </tbody>\n",
       "</table>\n",
       "</div>"
      ],
      "text/plain": [
       "    id  age city   f1  f2 f3 f4   f5 subscribed  views\n",
       "5    3  3.0    3  3.0   3  3  3  3.0          3    3.0\n",
       "10   3  3.0    3  3.0   3  3  3  3.0          3    3.0\n",
       "32   3  3.0    3  3.0   3  3  3  3.0          3    3.0\n",
       "56   3  3.0    3  3.0   3  3  3  3.0          3    3.0\n",
       "83   3  3.0    3  3.0   3  3  3  3.0          3    3.0\n",
       "104  3  3.0    3  3.0   3  3  3  3.0          3    3.0\n",
       "107  3  3.0    3  3.0   3  3  3  3.0          3    3.0\n",
       "110  3  3.0    3  3.0   3  3  3  3.0          3    3.0\n",
       "113  3  3.0    3  3.0   3  3  3  3.0          3    3.0\n",
       "116  3  3.0    3  3.0   3  3  3  3.0          3    3.0\n",
       "119  3  3.0    3  3.0   3  3  3  3.0          3    3.0"
      ]
     },
     "execution_count": 41,
     "metadata": {},
     "output_type": "execute_result"
    }
   ],
   "source": [
    "#14. 중복 데이터 제거, 값 변경, 데이터 개수\n",
    "\n",
    "df = pd.read_csv(\"type1_data1.csv\")\n",
    "\n",
    "#1. \n",
    "print(df.shape)\n",
    "df = df.drop_duplicates()\n",
    "print(df.shape)\n",
    "\n",
    "\n",
    "# #2. \n",
    "# import numpy as np\n",
    "# df[\"f3\"] = df[\"f3\"].map({np.nan: 0, \"silver\": 1, \"gold\": 2, \"vip\": 3})\n",
    "# df.head()\n",
    "\n",
    "# #3. \n",
    "# df[\"f3\"].sum()\n",
    "\n",
    "df[\"f3\"] = df[\"f3\"].fillna(0)\n",
    "\n",
    "cond = df[\"f3\"] == \"silver\"\n",
    "df[cond] = 1\n",
    "\n",
    "cond2 = df[\"f3\"] == \"gold\"\n",
    "df[cond2] = 2\n",
    "\n",
    "cond3 = df[\"f3\"] == \"vip\"\n",
    "df[cond3] = 3\n",
    "\n",
    "df[cond3]\n",
    "\n"
   ]
  },
  {
   "cell_type": "code",
   "execution_count": 42,
   "id": "05eb6da8",
   "metadata": {},
   "outputs": [
    {
     "name": "stdout",
     "output_type": "stream",
     "text": [
      "age       0\n",
      "f1       31\n",
      "f2        0\n",
      "f5        0\n",
      "views     4\n",
      "dtype: int64\n",
      "age      0\n",
      "f1       0\n",
      "f2       0\n",
      "f5       0\n",
      "views    0\n",
      "dtype: int64\n"
     ]
    },
    {
     "data": {
      "text/plain": [
       "88"
      ]
     },
     "execution_count": 42,
     "metadata": {},
     "output_type": "execute_result"
    }
   ],
   "source": [
    "# 15. 컬럼삭제, 행 단위 합계, 필터링\n",
    "df = pd.read_csv(\"type1_data1.csv\")\n",
    "\n",
    "\n",
    "#1.\n",
    "df = df.select_dtypes(exclude=\"object\")\n",
    "df.head()\n",
    "\n",
    "\n",
    "#2.\n",
    "print(df.isna().sum())\n",
    "df = df.fillna(0)\n",
    "print(df.isna().sum())\n",
    "\n",
    "#3. \n",
    "# df[\"합\"] = df[\"age\"] + df[\"f1\"] + df[\"f2\"] + df[\"f5\"] + df[\"views\"]\n",
    "# sum(df[\"합\"] > 3000)\n",
    "\n",
    "#3_1. \n",
    "df = df.T\n",
    "sum(df.sum() > 3000)\n",
    "\n"
   ]
  },
  {
   "cell_type": "code",
   "execution_count": 43,
   "id": "c101083a",
   "metadata": {},
   "outputs": [
    {
     "data": {
      "text/plain": [
       "77699"
      ]
     },
     "execution_count": 43,
     "metadata": {},
     "output_type": "execute_result"
    }
   ],
   "source": [
    "# 16. 이상치, IQR\n",
    "df = pd.read_csv(\"type1_data1.csv\")\n",
    "\n",
    "#1. \n",
    "q1 = df[\"views\"].quantile(0.25)\n",
    "q3 = df[\"views\"].quantile(0.75)\n",
    "# print(q1, q3)\n",
    "iqr = q3 - q1\n",
    "\n",
    "#2. \n",
    "line1 = q1 - (iqr * 1.5)\n",
    "line2 = q3 + (iqr * 1.5)\n",
    "\n",
    "cond1 = df[\"views\"] < line1\n",
    "cond2 = df[\"views\"] > line2\n",
    "\n",
    "df = df[cond1 | cond2]\n",
    "\n",
    "#3.\n",
    "int(df[\"views\"].sum())\n",
    "\n"
   ]
  },
  {
   "cell_type": "code",
   "execution_count": 44,
   "id": "4603c30f",
   "metadata": {},
   "outputs": [
    {
     "name": "stdout",
     "output_type": "stream",
     "text": [
      "(120, 10)\n",
      "(116, 10)\n",
      "(110, 10)\n"
     ]
    },
    {
     "data": {
      "text/plain": [
       "np.float64(8297.31)"
      ]
     },
     "execution_count": 44,
     "metadata": {},
     "output_type": "execute_result"
    }
   ],
   "source": [
    "# 17. 이상치, 소수점 있는 데이터 찾기, 표준편차\n",
    "df = pd.read_csv(\"type1_data1.csv\")\n",
    "\n",
    "#1. \n",
    "s1 = df[\"views\"].std()\n",
    "\n",
    "#2. \n",
    "cond = df[\"age\"] > 0\n",
    "print(df.shape)\n",
    "df = df[cond]\n",
    "print(df.shape)\n",
    "\n",
    "cond2 = df[\"age\"] == round(df[\"age\"], 0)\n",
    "# print(1.0 == 1.0)\n",
    "# print(1.5 == 2.0)\n",
    "# print(1.2 == 1.0)\n",
    "df = df[cond2]\n",
    "print(df.shape)\n",
    "\n",
    "s2 = df[\"views\"].std()\n",
    "\n",
    "#3. \n",
    "round(s1 + s2, 2)\n"
   ]
  },
  {
   "cell_type": "code",
   "execution_count": 45,
   "id": "0aa2f035",
   "metadata": {},
   "outputs": [
    {
     "data": {
      "text/plain": [
       "202"
      ]
     },
     "execution_count": 45,
     "metadata": {},
     "output_type": "execute_result"
    }
   ],
   "source": [
    "#18. 데이터(행) 기준 평균값, 인덱싱\n",
    "df = pd.read_csv(\"type1_data2.csv\", index_col=\"year\")\n",
    "df\n",
    "\n",
    "#1.\n",
    "mean_2001 = df.loc[2001].mean()\n",
    "n1 = sum(df.loc[2001] > mean_2001)\n",
    "\n",
    "#2. \n",
    "mean_2003 = df.loc[2003].mean()\n",
    "n2 = sum(df.loc[2003] < mean_2003)\n",
    "\n",
    "#3. \n",
    "n1 + n2\n"
   ]
  },
  {
   "cell_type": "code",
   "execution_count": 46,
   "id": "d863e491",
   "metadata": {},
   "outputs": [
    {
     "name": "stdout",
     "output_type": "stream",
     "text": [
      "id             0\n",
      "age            0\n",
      "city           0\n",
      "f1            31\n",
      "f2             0\n",
      "f3            29\n",
      "f4             0\n",
      "f5             0\n",
      "subscribed     0\n",
      "views          4\n",
      "dtype: int64\n",
      "id            0\n",
      "age           0\n",
      "city          0\n",
      "f1            0\n",
      "f2            0\n",
      "f3            0\n",
      "f4            0\n",
      "f5            0\n",
      "subscribed    0\n",
      "views         0\n",
      "dtype: int64\n"
     ]
    },
    {
     "name": "stderr",
     "output_type": "stream",
     "text": [
      "C:\\Users\\HRD영대\\AppData\\Local\\Temp\\ipykernel_10456\\3780138006.py:7: FutureWarning: DataFrame.fillna with 'method' is deprecated and will raise in a future version. Use obj.ffill() or obj.bfill() instead.\n",
      "  df = df.fillna(method=\"bfill\")\n"
     ]
    },
    {
     "data": {
      "text/plain": [
       "'경기'"
      ]
     },
     "execution_count": 46,
     "metadata": {},
     "output_type": "execute_result"
    }
   ],
   "source": [
    "#19. 결측치(뒤의 값으로 대체), 그룹합\n",
    "\n",
    "df = pd.read_csv(\"type1_data1.csv\")\n",
    "\n",
    "#1. \n",
    "print(df.isnull().sum())\n",
    "df = df.fillna(method=\"bfill\")\n",
    "print(df.isnull().sum())\n",
    "\n",
    "\n",
    "#2. \n",
    "df = df.groupby([\"city\", \"f2\"]).sum(numeric_only=True)\n",
    "\n",
    "#3. \n",
    "df = df.sort_values(\"views\", ascending=False)\n",
    "df\n",
    "\n",
    "df = df.reset_index()\n",
    "df.nlargest(3, columns=\"views\").loc[2, \"city\"]\n",
    "\n",
    "\n"
   ]
  },
  {
   "cell_type": "code",
   "execution_count": 47,
   "id": "0ba07eb1",
   "metadata": {},
   "outputs": [
    {
     "data": {
      "text/plain": [
       "'경기'"
      ]
     },
     "execution_count": 47,
     "metadata": {},
     "output_type": "execute_result"
    }
   ],
   "source": [
    "df = df.reset_index()\n",
    "df.nlargest(3, columns=\"views\").loc[2, \"city\"]"
   ]
  },
  {
   "cell_type": "code",
   "execution_count": 48,
   "id": "9b1e463b",
   "metadata": {},
   "outputs": [
    {
     "data": {
      "text/plain": [
       "np.int32(11)"
      ]
     },
     "execution_count": 48,
     "metadata": {},
     "output_type": "execute_result"
    }
   ],
   "source": [
    "#20. 시계열 데이터, 월별집계, 인덱스\n",
    "df = pd.read_csv(\"type1_data1.csv\")\n",
    "\n",
    "#1. \n",
    "# df.head()\n",
    "# df.info()\n",
    "df[\"subscribed\"] = pd.to_datetime(df[\"subscribed\"]) \n",
    "# df.info()\n",
    "\n",
    "df[\"월\"] = df[\"subscribed\"].dt.month\n",
    "\n",
    "df = df.groupby(\"월\").sum(numeric_only=True)\n",
    "# df\n",
    "\n",
    "\n",
    "#2\n",
    "# df.sort_values(\"views\")\n",
    "\n",
    "df = df.reset_index()\n",
    "df\n",
    "df = df.nsmallest(5, columns=\"views\")\n",
    "df.loc[10, \"월\"]"
   ]
  },
  {
   "cell_type": "code",
   "execution_count": 49,
   "id": "13dfef30",
   "metadata": {},
   "outputs": [
    {
     "data": {
      "text/plain": [
       "311"
      ]
     },
     "execution_count": 49,
     "metadata": {},
     "output_type": "execute_result"
    }
   ],
   "source": [
    "#21. 시간 간의 차이 계산(분), 필터링\n",
    "\n",
    "df = pd.read_csv(\"delivery_time.csv\")\n",
    "\n",
    "#1\n",
    "# df.head()\n",
    "# df.shape\n",
    "# df.info()\n",
    "# df.isnull().sum()\n",
    "\n",
    "df[\"실제도착시간\"] = pd.to_datetime(df[\"실제도착시간\"])\n",
    "df[\"예상도착시간\"] = pd.to_datetime(df[\"예상도착시간\"])\n",
    "\n",
    "cond1 = df[\"실제도착시간\"] > df[\"예상도착시간\"]\n",
    "sum(cond1)\n",
    "\n",
    "#2. \n",
    "cond2 = df[\"거리\"] >= 7\n",
    "\n",
    "df = df[cond1 & cond2]\n",
    "len(df)"
   ]
  },
  {
   "cell_type": "code",
   "execution_count": 50,
   "id": "79119d0d",
   "metadata": {},
   "outputs": [
    {
     "data": {
      "text/plain": [
       "np.float64(62.0)"
      ]
     },
     "execution_count": 50,
     "metadata": {},
     "output_type": "execute_result"
    }
   ],
   "source": [
    "# 22. 시간 간의 차이 계산(분), 그룹핑\n",
    "import pandas as pd\n",
    "df = pd.read_csv(\"delivery_time.csv\")\n",
    "\n",
    "#1.\n",
    "\n",
    "df[\"주문시간\"] = pd.to_datetime(df[\"주문시간\"])\n",
    "df[\"실제도착시간\"] = pd.to_datetime(df[\"실제도착시간\"])\n",
    "\n",
    "\n",
    "df[\"차이\"] = (df[\"실제도착시간\"] - df[\"주문시간\"]).dt.total_seconds()/60\n",
    "df[\"차이\"]\n",
    "\n",
    "\n",
    "#2. \n",
    "df = df.groupby(\"앱종류\")[\"차이\"].mean()\n",
    "df\n",
    "\n",
    "#3. \n",
    "round(df.min(), 0)"
   ]
  },
  {
   "cell_type": "code",
   "execution_count": 51,
   "id": "fe495d11",
   "metadata": {},
   "outputs": [
    {
     "data": {
      "text/html": [
       "<div>\n",
       "<style scoped>\n",
       "    .dataframe tbody tr th:only-of-type {\n",
       "        vertical-align: middle;\n",
       "    }\n",
       "\n",
       "    .dataframe tbody tr th {\n",
       "        vertical-align: top;\n",
       "    }\n",
       "\n",
       "    .dataframe thead th {\n",
       "        text-align: right;\n",
       "    }\n",
       "</style>\n",
       "<table border=\"1\" class=\"dataframe\">\n",
       "  <thead>\n",
       "    <tr style=\"text-align: right;\">\n",
       "      <th></th>\n",
       "      <th>지연도착시간</th>\n",
       "      <th>정시도착시간</th>\n",
       "      <th>비율</th>\n",
       "    </tr>\n",
       "    <tr>\n",
       "      <th>결제종류</th>\n",
       "      <th></th>\n",
       "      <th></th>\n",
       "      <th></th>\n",
       "    </tr>\n",
       "  </thead>\n",
       "  <tbody>\n",
       "    <tr>\n",
       "      <th>앱결제</th>\n",
       "      <td>172</td>\n",
       "      <td>137</td>\n",
       "      <td>0.556634</td>\n",
       "    </tr>\n",
       "    <tr>\n",
       "      <th>카드</th>\n",
       "      <td>171</td>\n",
       "      <td>178</td>\n",
       "      <td>0.489971</td>\n",
       "    </tr>\n",
       "    <tr>\n",
       "      <th>현금</th>\n",
       "      <td>167</td>\n",
       "      <td>175</td>\n",
       "      <td>0.488304</td>\n",
       "    </tr>\n",
       "  </tbody>\n",
       "</table>\n",
       "</div>"
      ],
      "text/plain": [
       "      지연도착시간  정시도착시간        비율\n",
       "결제종류                          \n",
       "앱결제      172     137  0.556634\n",
       "카드       171     178  0.489971\n",
       "현금       167     175  0.488304"
      ]
     },
     "execution_count": 51,
     "metadata": {},
     "output_type": "execute_result"
    }
   ],
   "source": [
    "import pandas as pd\n",
    "df = pd.read_csv(\"delivery_time.csv\")\n",
    "\n",
    "#1.\n",
    "\n",
    "df[\"예상도착시간\"] = pd.to_datetime(df[\"예상도착시간\"])\n",
    "df[\"실제도착시간\"] = pd.to_datetime(df[\"실제도착시간\"])\n",
    "\n",
    "df[\"지연도착시간\"] = (df[\"실제도착시간\"] - df[\"예상도착시간\"]).dt.total_seconds() > 0\n",
    "df[\"정시도착시간\"] = (df[\"실제도착시간\"] - df[\"예상도착시간\"]).dt.total_seconds() <= 0\n",
    "\n",
    "df = df.groupby(\"결제종류\")[[\"지연도착시간\",\"정시도착시간\"]].sum()\n",
    "df[\"비율\"] = df[\"지연도착시간\"] / (df[\"지연도착시간\"] + df[\"정시도착시간\"])\n",
    "df"
   ]
  },
  {
   "cell_type": "code",
   "execution_count": 52,
   "id": "516b080d",
   "metadata": {},
   "outputs": [
    {
     "name": "stdout",
     "output_type": "stream",
     "text": [
      "<class 'pandas.core.frame.DataFrame'>\n",
      "RangeIndex: 1000 entries, 0 to 999\n",
      "Data columns (total 7 columns):\n",
      " #   Column  Non-Null Count  Dtype         \n",
      "---  ------  --------------  -----         \n",
      " 0   주문시간    1000 non-null   object        \n",
      " 1   실제도착시간  1000 non-null   datetime64[ns]\n",
      " 2   예상도착시간  1000 non-null   datetime64[ns]\n",
      " 3   앱종류     1000 non-null   object        \n",
      " 4   거리      1000 non-null   float64       \n",
      " 5   결제종류    1000 non-null   object        \n",
      " 6   user    1000 non-null   object        \n",
      "dtypes: datetime64[ns](2), float64(1), object(4)\n",
      "memory usage: 54.8+ KB\n"
     ]
    },
    {
     "data": {
      "text/plain": [
       "np.float64(0.56)"
      ]
     },
     "execution_count": 52,
     "metadata": {},
     "output_type": "execute_result"
    }
   ],
   "source": [
    "# 23. 시간간의 차이 계산(분), 비율\n",
    "import pandas as pd\n",
    "df = pd.read_csv(\"delivery_time.csv\")\n",
    "\n",
    "#1. \n",
    "df.head()\n",
    "df[\"실제도착시간\"] = pd.to_datetime(df[\"실제도착시간\"])\n",
    "df[\"예상도착시간\"] = pd.to_datetime(df[\"예상도착시간\"])\n",
    "df.info()\n",
    "\n",
    "df[\"지연시간\"] = (df[\"실제도착시간\"] - df[\"예상도착시간\"]).dt.total_seconds()\n",
    "df[\"지연여부\"] = df[\"지연시간\"] > 0\n",
    "\n",
    "df = df.groupby(\"결제종류\")[\"지연여부\"].mean()\n",
    "\n",
    "\n",
    "#2. \n",
    "round(df.max(), 2)"
   ]
  },
  {
   "cell_type": "code",
   "execution_count": 53,
   "id": "80ed1082",
   "metadata": {},
   "outputs": [
    {
     "data": {
      "text/plain": [
       "결제종류\n",
       "카드     48\n",
       "현금     45\n",
       "앱결제    36\n",
       "Name: count, dtype: int64"
      ]
     },
     "execution_count": 53,
     "metadata": {},
     "output_type": "execute_result"
    }
   ],
   "source": [
    "#24 그룹핑, 값 찾기, 필터링\n",
    "import pandas as pd\n",
    "df = pd.read_csv(\"delivery_time.csv\")\n",
    "\n",
    "#1. \n",
    "df_dis = df.groupby(\"user\")[\"거리\"].sum()\n",
    "\n",
    "cond = df_dis >= 50\n",
    "df_dis = df_dis[cond]\n",
    "\n",
    "\n",
    "\n",
    "\n",
    "cond = df[\"user\"].isin(df_dis.index)\n",
    "df_filter = df[cond]\n",
    "\n",
    "df_filter[\"결제종류\"].value_counts()\n",
    "\n",
    "\n"
   ]
  },
  {
   "cell_type": "code",
   "execution_count": 54,
   "id": "0547e5fd",
   "metadata": {},
   "outputs": [
    {
     "name": "stdout",
     "output_type": "stream",
     "text": [
      "168.18182540237385\n"
     ]
    },
    {
     "data": {
      "text/plain": [
       "146"
      ]
     },
     "execution_count": 54,
     "metadata": {},
     "output_type": "execute_result"
    }
   ],
   "source": [
    "# 25. 시간 간의 차이 계산(일)\n",
    "\n",
    "import pandas as pd\n",
    "df = pd.read_csv(\"delivery_time.csv\")\n",
    "\n",
    "# 1. \n",
    "df[\"주문시간\"] = pd.to_datetime(df[\"주문시간\"])\n",
    "\n",
    "min_order = df.groupby(\"user\")[\"주문시간\"].min()\n",
    "max_order = df.groupby(\"user\")[\"주문시간\"].max()\n",
    "\n",
    "df3 = (max_order-min_order).dt.total_seconds() / (60 * 60 * 24)\n",
    "\n",
    "# 2. \n",
    "cond = df3 > 0\n",
    "m = df3[cond].mean()\n",
    "print(m)\n",
    "# 3.\n",
    "\n",
    "cond2 = df3 > m \n",
    "len(df3[cond2])\n"
   ]
  },
  {
   "cell_type": "code",
   "execution_count": 55,
   "id": "9269a7bb",
   "metadata": {},
   "outputs": [
    {
     "name": "stderr",
     "output_type": "stream",
     "text": [
      "C:\\Users\\HRD영대\\AppData\\Local\\Temp\\ipykernel_10456\\2109785304.py:6: FutureWarning: Series.__getitem__ treating keys as positions is deprecated. In a future version, integer keys will always be treated as labels (consistent with DataFrame behavior). To access a value by position, use `ser.iloc[pos]`\n",
      "  year_str = str(df.groupby(\"연월\").count().idxmax()[0])\n"
     ]
    },
    {
     "data": {
      "text/plain": [
       "'202209'"
      ]
     },
     "execution_count": 55,
     "metadata": {},
     "output_type": "execute_result"
    }
   ],
   "source": [
    "import pandas as pd\n",
    "df = pd.read_csv(\"delivery_time.csv\")\n",
    "\n",
    "df[\"주문시간\"] = pd.to_datetime(df[\"주문시간\"])\n",
    "df[\"연월\"] = df[\"주문시간\"].dt.to_period(\"M\")\n",
    "year_str = str(df.groupby(\"연월\").count().idxmax()[0])\n",
    "year_str.replace(\"-\", \"\")\n",
    "\n"
   ]
  },
  {
   "cell_type": "code",
   "execution_count": 62,
   "id": "5ed2dab9",
   "metadata": {},
   "outputs": [
    {
     "name": "stdout",
     "output_type": "stream",
     "text": [
      "<class 'pandas.core.frame.DataFrame'>\n",
      "RangeIndex: 1000 entries, 0 to 999\n",
      "Data columns (total 7 columns):\n",
      " #   Column  Non-Null Count  Dtype  \n",
      "---  ------  --------------  -----  \n",
      " 0   주문시간    1000 non-null   object \n",
      " 1   실제도착시간  1000 non-null   object \n",
      " 2   예상도착시간  1000 non-null   object \n",
      " 3   앱종류     1000 non-null   object \n",
      " 4   거리      1000 non-null   float64\n",
      " 5   결제종류    1000 non-null   object \n",
      " 6   user    1000 non-null   object \n",
      "dtypes: float64(1), object(6)\n",
      "memory usage: 54.8+ KB\n"
     ]
    },
    {
     "data": {
      "text/plain": [
       "np.int64(261387)"
      ]
     },
     "execution_count": 62,
     "metadata": {},
     "output_type": "execute_result"
    }
   ],
   "source": [
    "#31\n",
    "\n",
    "import pandas as pd \n",
    "df = pd.read_csv(\"delivery_time.csv\")\n",
    "\n",
    "df.head(2)\n",
    "df.info()\n",
    "\n",
    "df[\"추출\"] = df['user'].str[5:]\n",
    "df[\"추출\"].astype(\"int\").sum()"
   ]
  },
  {
   "cell_type": "code",
   "execution_count": 75,
   "id": "97f0c99e",
   "metadata": {},
   "outputs": [
    {
     "name": "stdout",
     "output_type": "stream",
     "text": [
      "<class 'pandas.core.frame.DataFrame'>\n",
      "RangeIndex: 30 entries, 0 to 29\n",
      "Data columns (total 7 columns):\n",
      " #   Column  Non-Null Count  Dtype \n",
      "---  ------  --------------  ----- \n",
      " 0   이름      30 non-null     object\n",
      " 1   수학      30 non-null     int64 \n",
      " 2   영어      30 non-null     int64 \n",
      " 3   국어      30 non-null     int64 \n",
      " 4   수학교사    30 non-null     object\n",
      " 5   영어교사    30 non-null     object\n",
      " 6   국어교사    30 non-null     object\n",
      "dtypes: int64(3), object(4)\n",
      "memory usage: 1.8+ KB\n"
     ]
    },
    {
     "data": {
      "text/plain": [
       "np.float64(82.0)"
      ]
     },
     "execution_count": 75,
     "metadata": {},
     "output_type": "execute_result"
    }
   ],
   "source": [
    "#32. \n",
    "df = pd.read_csv(\"school_data.csv\")\n",
    "df.shape\n",
    "df.info()\n",
    "df.head(3)\n",
    "\n",
    "#1. \n",
    "df[\"총점\"] = df[[\"수학\", \"영어\", \"국어\"]].sum(axis=1)\n",
    "df.head()\n",
    "\n",
    "#2. \n",
    "df = df.nlargest(10, \"총점\")\n",
    "\n",
    "#3. \n",
    "round(df[\"수학\"].mean(), 0)"
   ]
  },
  {
   "cell_type": "code",
   "execution_count": 84,
   "id": "74617959",
   "metadata": {},
   "outputs": [
    {
     "data": {
      "text/html": [
       "<div>\n",
       "<style scoped>\n",
       "    .dataframe tbody tr th:only-of-type {\n",
       "        vertical-align: middle;\n",
       "    }\n",
       "\n",
       "    .dataframe tbody tr th {\n",
       "        vertical-align: top;\n",
       "    }\n",
       "\n",
       "    .dataframe thead th {\n",
       "        text-align: right;\n",
       "    }\n",
       "</style>\n",
       "<table border=\"1\" class=\"dataframe\">\n",
       "  <thead>\n",
       "    <tr style=\"text-align: right;\">\n",
       "      <th></th>\n",
       "      <th>이름</th>\n",
       "      <th>variable</th>\n",
       "      <th>value</th>\n",
       "    </tr>\n",
       "  </thead>\n",
       "  <tbody>\n",
       "    <tr>\n",
       "      <th>0</th>\n",
       "      <td>강아지</td>\n",
       "      <td>수학</td>\n",
       "      <td>66</td>\n",
       "    </tr>\n",
       "    <tr>\n",
       "      <th>1</th>\n",
       "      <td>고양이</td>\n",
       "      <td>수학</td>\n",
       "      <td>92</td>\n",
       "    </tr>\n",
       "    <tr>\n",
       "      <th>2</th>\n",
       "      <td>토끼</td>\n",
       "      <td>수학</td>\n",
       "      <td>98</td>\n",
       "    </tr>\n",
       "    <tr>\n",
       "      <th>3</th>\n",
       "      <td>사자</td>\n",
       "      <td>수학</td>\n",
       "      <td>17</td>\n",
       "    </tr>\n",
       "    <tr>\n",
       "      <th>4</th>\n",
       "      <td>호랑이</td>\n",
       "      <td>수학</td>\n",
       "      <td>83</td>\n",
       "    </tr>\n",
       "  </tbody>\n",
       "</table>\n",
       "</div>"
      ],
      "text/plain": [
       "    이름 variable  value\n",
       "0  강아지       수학     66\n",
       "1  고양이       수학     92\n",
       "2   토끼       수학     98\n",
       "3   사자       수학     17\n",
       "4  호랑이       수학     83"
      ]
     },
     "execution_count": 84,
     "metadata": {},
     "output_type": "execute_result"
    }
   ],
   "source": [
    "# 33. \n",
    "df = pd.read_csv(\"school_data.csv\")\n",
    "\n",
    "#1. \n",
    "df = df.melt([\"이름\"], [\"수학\", \"영어\", \"국어\"])\n",
    "df.head()\n",
    "# df = df.nsmallest(25, \"value\")\n",
    "\n",
    "# #2. \n",
    "# df[\"value\"].sum()"
   ]
  },
  {
   "cell_type": "code",
   "execution_count": 93,
   "id": "216ad3c1",
   "metadata": {},
   "outputs": [
    {
     "name": "stdout",
     "output_type": "stream",
     "text": [
      "(30, 7)\n",
      "(30, 3)\n"
     ]
    },
    {
     "data": {
      "text/plain": [
       "np.int64(9)"
      ]
     },
     "execution_count": 93,
     "metadata": {},
     "output_type": "execute_result"
    }
   ],
   "source": [
    "# 34. \n",
    "df = pd.read_csv(\"school_data.csv\")\n",
    "df_science = pd.read_csv(\"school_data_science.csv\")\n",
    "\n",
    "# print(df.head(3))\n",
    "# print(df_science.head(3))\n",
    "print(df.shape)\n",
    "print(df_science.shape)\n",
    "\n",
    "concated = pd.concat([df, df_science], axis=1)\n",
    "concated.shape \n",
    "\n",
    "#2. \n",
    "concated[\"평균\"]  = (concated[\"수학\"] + concated[\"영어\"] + concated[\"국어\"] + concated[\"과학\"]) / 4\n",
    "concated[\"평균2\"] = concated[[\"수학\", \"영어\", \"국어\", \"과학\"]].mean(axis=1)\n",
    "concated.head()\n",
    "\n",
    "#3. \n",
    "cond = concated[\"평균\"] >= 60\n",
    "cond.sum()"
   ]
  },
  {
   "cell_type": "code",
   "execution_count": 100,
   "id": "c6fc4df8",
   "metadata": {},
   "outputs": [
    {
     "name": "stdout",
     "output_type": "stream",
     "text": [
      "    이름  수학  영어  국어 수학교사 영어교사 국어교사\n",
      "0  강아지  66  61  26  김선생  장선생  최선생\n",
      "1  고양이  92  48  80  김선생  장선생  이선생\n",
      "2   토끼  98   7   6  김선생  장선생  최선생\n",
      "   이름  사회 사회교사\n",
      "0  기린  47  오선생\n",
      "1   매  61  우선생\n",
      "2   곰  48  우선생\n"
     ]
    },
    {
     "data": {
      "text/plain": [
       "np.int64(602)"
      ]
     },
     "execution_count": 100,
     "metadata": {},
     "output_type": "execute_result"
    }
   ],
   "source": [
    "# 35. Merge\n",
    "df = pd.read_csv(\"school_data.csv\")\n",
    "df_social = pd.read_csv(\"school_data_social.csv\")\n",
    "\n",
    "print(df.head(3))\n",
    "print(df_social.head(3))\n",
    "\n",
    "merged = pd.merge(df, df_social, on=\"이름\")\n",
    "merged.shape\n",
    "\n",
    "#2. \n",
    "merged.head()\n",
    "cond1 = merged[\"영어교사\"] == \"장선생\"\n",
    "cond2 = merged[\"사회교사\"] == \"오선생\"\n",
    "\n",
    "df = merged[cond1 & cond2]\n",
    "\n",
    "#3. \n",
    "df[\"수학\"].sum()"
   ]
  },
  {
   "cell_type": "code",
   "execution_count": 122,
   "id": "5eb627e1",
   "metadata": {},
   "outputs": [
    {
     "data": {
      "text/plain": [
       "np.int64(103)"
      ]
     },
     "execution_count": 122,
     "metadata": {},
     "output_type": "execute_result"
    }
   ],
   "source": [
    "# 36 Transform\n",
    "\n",
    "#1. \n",
    "df = pd.read_csv(\"sales.csv\")\n",
    "df.shape\n",
    "m = df.groupby(\"지역코드\")[\"판매금액\"].transform(\"mean\")\n",
    "\n",
    "df[\"판매금액\"] = df[\"판매금액\"].fillna(m)\n",
    "df\n",
    "\n",
    "#2. \n",
    "df[\"차이\"] = abs(df[\"판매금액\"] - m)\n",
    "df.head()\n",
    "\n",
    "#3. \n",
    "df.groupby(\"지역코드\")[\"차이\"].mean().idxmax()"
   ]
  },
  {
   "cell_type": "code",
   "execution_count": 117,
   "id": "6b1151db",
   "metadata": {},
   "outputs": [
    {
     "name": "stdout",
     "output_type": "stream",
     "text": [
      "지역코드\n",
      "101    1200.0\n",
      "102    2225.0\n",
      "103    3425.0\n",
      "Name: 판매금액, dtype: float64\n",
      "0    100\n",
      "1    200\n",
      "2    300\n",
      "dtype: int64\n"
     ]
    }
   ],
   "source": [
    "df = pd.read_csv(\"sales.csv\")\n",
    "m = df.groupby(\"지역코드\")[\"판매금액\"].mean()\n",
    "type(m)\n",
    "s = pd.Series([100, 200, 300])\n",
    "df[\"판매금액\"] = df[\"판매금액\"].fillna(m)\n",
    "print(m)\n",
    "print(s)"
   ]
  },
  {
   "cell_type": "code",
   "execution_count": 137,
   "id": "7722fef5",
   "metadata": {},
   "outputs": [
    {
     "data": {
      "text/plain": [
       "np.int64(241975)"
      ]
     },
     "execution_count": 137,
     "metadata": {},
     "output_type": "execute_result"
    }
   ],
   "source": [
    "#37. Unstack\n",
    "\n",
    "df = pd.read_csv(\"store_sales.csv\")\n",
    "\n",
    "\n",
    "#1. \n",
    "df.head(3)\n",
    "df[\"매출액\"] = df[\"판매수량\"] * df[\"단가\"]\n",
    "df.head(3)\n",
    "\n",
    "#2. \n",
    "df[\"구분\"] = df[\"요일\"].map({\n",
    "    \"월\": \"평일\", \n",
    "    \"화\": \"평일\", \n",
    "    \"수\": \"평일\", \n",
    "    \"목\": \"평일\", \n",
    "    \"금\": \"평일\", \n",
    "    \"토\": \"주말\", \n",
    "    \"일\": \"주말\", \n",
    "})\n",
    "\n",
    "df = df.groupby([\"매장코드\", \"구분\"])[\"매출액\"].sum()\n",
    "\n",
    "#3. \n",
    "df = df.unstack()\n",
    "\n",
    "df[\"차이\"] = abs(df[\"주말\"] - df[\"평일\"])\n",
    "df[\"차이\"].max()"
   ]
  },
  {
   "cell_type": "code",
   "execution_count": 140,
   "id": "8ce0ab95",
   "metadata": {},
   "outputs": [
    {
     "name": "stdout",
     "output_type": "stream",
     "text": [
      "         Date Region Product  Channel  Sales\n",
      "0  2025-01-05  North       A   Online    120\n",
      "1  2025-01-07  South       A  Offline    150\n",
      "2  2025-02-10  North       B   Online    200\n"
     ]
    },
    {
     "data": {
      "text/html": [
       "<div>\n",
       "<style scoped>\n",
       "    .dataframe tbody tr th:only-of-type {\n",
       "        vertical-align: middle;\n",
       "    }\n",
       "\n",
       "    .dataframe tbody tr th {\n",
       "        vertical-align: top;\n",
       "    }\n",
       "\n",
       "    .dataframe thead th {\n",
       "        text-align: right;\n",
       "    }\n",
       "</style>\n",
       "<table border=\"1\" class=\"dataframe\">\n",
       "  <thead>\n",
       "    <tr style=\"text-align: right;\">\n",
       "      <th></th>\n",
       "      <th>Product</th>\n",
       "      <th>A</th>\n",
       "      <th>B</th>\n",
       "    </tr>\n",
       "    <tr>\n",
       "      <th>Region</th>\n",
       "      <th>Channel</th>\n",
       "      <th></th>\n",
       "      <th></th>\n",
       "    </tr>\n",
       "  </thead>\n",
       "  <tbody>\n",
       "    <tr>\n",
       "      <th rowspan=\"2\" valign=\"top\">East</th>\n",
       "      <th>Offline</th>\n",
       "      <td>100</td>\n",
       "      <td>105</td>\n",
       "    </tr>\n",
       "    <tr>\n",
       "      <th>Online</th>\n",
       "      <td>205</td>\n",
       "      <td>210</td>\n",
       "    </tr>\n",
       "    <tr>\n",
       "      <th rowspan=\"2\" valign=\"top\">North</th>\n",
       "      <th>Offline</th>\n",
       "      <td>140</td>\n",
       "      <td>180</td>\n",
       "    </tr>\n",
       "    <tr>\n",
       "      <th>Online</th>\n",
       "      <td>440</td>\n",
       "      <td>420</td>\n",
       "    </tr>\n",
       "    <tr>\n",
       "      <th rowspan=\"2\" valign=\"top\">South</th>\n",
       "      <th>Offline</th>\n",
       "      <td>150</td>\n",
       "      <td>145</td>\n",
       "    </tr>\n",
       "    <tr>\n",
       "      <th>Online</th>\n",
       "      <td>160</td>\n",
       "      <td>170</td>\n",
       "    </tr>\n",
       "    <tr>\n",
       "      <th rowspan=\"2\" valign=\"top\">West</th>\n",
       "      <th>Offline</th>\n",
       "      <td>110</td>\n",
       "      <td>115</td>\n",
       "    </tr>\n",
       "    <tr>\n",
       "      <th>Online</th>\n",
       "      <td>135</td>\n",
       "      <td>130</td>\n",
       "    </tr>\n",
       "  </tbody>\n",
       "</table>\n",
       "</div>"
      ],
      "text/plain": [
       "Product           A    B\n",
       "Region Channel          \n",
       "East   Offline  100  105\n",
       "       Online   205  210\n",
       "North  Offline  140  180\n",
       "       Online   440  420\n",
       "South  Offline  150  145\n",
       "       Online   160  170\n",
       "West   Offline  110  115\n",
       "       Online   135  130"
      ]
     },
     "execution_count": 140,
     "metadata": {},
     "output_type": "execute_result"
    }
   ],
   "source": [
    "df = pd.read_csv(\"region_sales.csv\")\n",
    "\n",
    "print(df.head(3))\n",
    "\n",
    "df = df.groupby([\"Region\", \"Channel\", \"Product\"])[\"Sales\"].sum()\n",
    "df.unstack()"
   ]
  },
  {
   "cell_type": "code",
   "execution_count": 155,
   "id": "093f2011",
   "metadata": {},
   "outputs": [
    {
     "data": {
      "text/html": [
       "<div>\n",
       "<style scoped>\n",
       "    .dataframe tbody tr th:only-of-type {\n",
       "        vertical-align: middle;\n",
       "    }\n",
       "\n",
       "    .dataframe tbody tr th {\n",
       "        vertical-align: top;\n",
       "    }\n",
       "\n",
       "    .dataframe thead th {\n",
       "        text-align: right;\n",
       "    }\n",
       "</style>\n",
       "<table border=\"1\" class=\"dataframe\">\n",
       "  <thead>\n",
       "    <tr style=\"text-align: right;\">\n",
       "      <th></th>\n",
       "      <th>Region</th>\n",
       "      <th>variable</th>\n",
       "      <th>value</th>\n",
       "    </tr>\n",
       "  </thead>\n",
       "  <tbody>\n",
       "    <tr>\n",
       "      <th>0</th>\n",
       "      <td>Busan</td>\n",
       "      <td>Jan</td>\n",
       "      <td>1256</td>\n",
       "    </tr>\n",
       "    <tr>\n",
       "      <th>1</th>\n",
       "      <td>Daegu</td>\n",
       "      <td>Jan</td>\n",
       "      <td>1317</td>\n",
       "    </tr>\n",
       "    <tr>\n",
       "      <th>2</th>\n",
       "      <td>Daejeon</td>\n",
       "      <td>Jan</td>\n",
       "      <td>1350</td>\n",
       "    </tr>\n",
       "    <tr>\n",
       "      <th>3</th>\n",
       "      <td>Incheon</td>\n",
       "      <td>Jan</td>\n",
       "      <td>1436</td>\n",
       "    </tr>\n",
       "    <tr>\n",
       "      <th>4</th>\n",
       "      <td>Seoul</td>\n",
       "      <td>Jan</td>\n",
       "      <td>1385</td>\n",
       "    </tr>\n",
       "    <tr>\n",
       "      <th>5</th>\n",
       "      <td>Busan</td>\n",
       "      <td>Feb</td>\n",
       "      <td>1323</td>\n",
       "    </tr>\n",
       "    <tr>\n",
       "      <th>6</th>\n",
       "      <td>Daegu</td>\n",
       "      <td>Feb</td>\n",
       "      <td>1365</td>\n",
       "    </tr>\n",
       "    <tr>\n",
       "      <th>7</th>\n",
       "      <td>Daejeon</td>\n",
       "      <td>Feb</td>\n",
       "      <td>1348</td>\n",
       "    </tr>\n",
       "    <tr>\n",
       "      <th>8</th>\n",
       "      <td>Incheon</td>\n",
       "      <td>Feb</td>\n",
       "      <td>1444</td>\n",
       "    </tr>\n",
       "    <tr>\n",
       "      <th>9</th>\n",
       "      <td>Seoul</td>\n",
       "      <td>Feb</td>\n",
       "      <td>1425</td>\n",
       "    </tr>\n",
       "    <tr>\n",
       "      <th>10</th>\n",
       "      <td>Busan</td>\n",
       "      <td>Mar</td>\n",
       "      <td>1371</td>\n",
       "    </tr>\n",
       "    <tr>\n",
       "      <th>11</th>\n",
       "      <td>Daegu</td>\n",
       "      <td>Mar</td>\n",
       "      <td>1538</td>\n",
       "    </tr>\n",
       "    <tr>\n",
       "      <th>12</th>\n",
       "      <td>Daejeon</td>\n",
       "      <td>Mar</td>\n",
       "      <td>1400</td>\n",
       "    </tr>\n",
       "    <tr>\n",
       "      <th>13</th>\n",
       "      <td>Incheon</td>\n",
       "      <td>Mar</td>\n",
       "      <td>1466</td>\n",
       "    </tr>\n",
       "    <tr>\n",
       "      <th>14</th>\n",
       "      <td>Seoul</td>\n",
       "      <td>Mar</td>\n",
       "      <td>1420</td>\n",
       "    </tr>\n",
       "  </tbody>\n",
       "</table>\n",
       "</div>"
      ],
      "text/plain": [
       "     Region variable  value\n",
       "0     Busan      Jan   1256\n",
       "1     Daegu      Jan   1317\n",
       "2   Daejeon      Jan   1350\n",
       "3   Incheon      Jan   1436\n",
       "4     Seoul      Jan   1385\n",
       "5     Busan      Feb   1323\n",
       "6     Daegu      Feb   1365\n",
       "7   Daejeon      Feb   1348\n",
       "8   Incheon      Feb   1444\n",
       "9     Seoul      Feb   1425\n",
       "10    Busan      Mar   1371\n",
       "11    Daegu      Mar   1538\n",
       "12  Daejeon      Mar   1400\n",
       "13  Incheon      Mar   1466\n",
       "14    Seoul      Mar   1420"
      ]
     },
     "execution_count": 155,
     "metadata": {},
     "output_type": "execute_result"
    }
   ],
   "source": [
    "df = pd.read_csv(\"monthly_sales.csv\")\n",
    "df = df.groupby(\"Region\")[[\"Jan\", \"Feb\", \"Mar\"]].sum().reset_index()\n",
    "df.melt(\"Region\")"
   ]
  },
  {
   "cell_type": "code",
   "execution_count": null,
   "id": "d05db437",
   "metadata": {},
   "outputs": [],
   "source": []
  }
 ],
 "metadata": {
  "kernelspec": {
   "display_name": "Python 3",
   "language": "python",
   "name": "python3"
  },
  "language_info": {
   "codemirror_mode": {
    "name": "ipython",
    "version": 3
   },
   "file_extension": ".py",
   "mimetype": "text/x-python",
   "name": "python",
   "nbconvert_exporter": "python",
   "pygments_lexer": "ipython3",
   "version": "3.13.7"
  }
 },
 "nbformat": 4,
 "nbformat_minor": 5
}
