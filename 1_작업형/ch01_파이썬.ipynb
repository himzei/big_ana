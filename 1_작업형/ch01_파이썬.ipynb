{
 "cells": [
  {
   "cell_type": "code",
   "execution_count": 2,
   "id": "0dec320b",
   "metadata": {},
   "outputs": [
    {
     "name": "stdout",
     "output_type": "stream",
     "text": [
      "안녕! 시나공\n"
     ]
    }
   ],
   "source": [
    "print(\"안녕! 시나공\")"
   ]
  },
  {
   "cell_type": "code",
   "execution_count": 3,
   "id": "2ec20f1b",
   "metadata": {},
   "outputs": [
    {
     "name": "stdout",
     "output_type": "stream",
     "text": [
      "2024\n"
     ]
    }
   ],
   "source": [
    "print(2024)"
   ]
  },
  {
   "cell_type": "code",
   "execution_count": 5,
   "id": "9df526b8",
   "metadata": {},
   "outputs": [
    {
     "data": {
      "text/plain": [
       "2024"
      ]
     },
     "execution_count": 5,
     "metadata": {},
     "output_type": "execute_result"
    }
   ],
   "source": [
    "\"길벗은\" \n",
    "\"여러분의 합격을 응원합니다\"\n",
    "2024"
   ]
  },
  {
   "cell_type": "code",
   "execution_count": null,
   "id": "60432e27",
   "metadata": {},
   "outputs": [
    {
     "name": "stdout",
     "output_type": "stream",
     "text": [
      "파이썬\n"
     ]
    }
   ],
   "source": [
    "# 한 줄 주석 처리\n",
    "print(\"파이썬\")"
   ]
  },
  {
   "cell_type": "code",
   "execution_count": 9,
   "id": "b07bd051",
   "metadata": {},
   "outputs": [],
   "source": [
    "# 여러 줄 주석 처리\n",
    "\n",
    "# print(\"파이썬\")\n",
    "# print(\"인생은 짧다\")"
   ]
  },
  {
   "cell_type": "code",
   "execution_count": 11,
   "id": "d63ddd19",
   "metadata": {},
   "outputs": [
    {
     "name": "stdout",
     "output_type": "stream",
     "text": [
      "3\n",
      "3\n",
      "6\n",
      "5.333333333333333\n"
     ]
    }
   ],
   "source": [
    "# 03. 산술연산자\n",
    "\n",
    "print(1+2)\n",
    "print(4-1)\n",
    "print(2*3)\n",
    "print(16/3)\n"
   ]
  },
  {
   "cell_type": "code",
   "execution_count": 12,
   "id": "13e4408c",
   "metadata": {},
   "outputs": [
    {
     "name": "stdout",
     "output_type": "stream",
     "text": [
      "3 3 6 5.333333333333333\n"
     ]
    }
   ],
   "source": [
    "print(1+2, 4-1, 2*3, 16/3)"
   ]
  },
  {
   "cell_type": "code",
   "execution_count": 13,
   "id": "fe18d23e",
   "metadata": {},
   "outputs": [
    {
     "data": {
      "text/plain": [
       "5.0"
      ]
     },
     "execution_count": 13,
     "metadata": {},
     "output_type": "execute_result"
    }
   ],
   "source": [
    "15/3"
   ]
  },
  {
   "cell_type": "code",
   "execution_count": null,
   "id": "fd6086d5",
   "metadata": {},
   "outputs": [
    {
     "data": {
      "text/plain": [
       "5"
      ]
     },
     "execution_count": 18,
     "metadata": {},
     "output_type": "execute_result"
    }
   ],
   "source": [
    "# 몫을 구하는 연산자\n",
    "16 // 3"
   ]
  },
  {
   "cell_type": "code",
   "execution_count": null,
   "id": "1db31b42",
   "metadata": {},
   "outputs": [
    {
     "data": {
      "text/plain": [
       "1"
      ]
     },
     "execution_count": 17,
     "metadata": {},
     "output_type": "execute_result"
    }
   ],
   "source": [
    "# 나머지 연산자\n",
    "16 % 3"
   ]
  },
  {
   "cell_type": "code",
   "execution_count": 20,
   "id": "0b98aba1",
   "metadata": {},
   "outputs": [
    {
     "data": {
      "text/plain": [
       "64"
      ]
     },
     "execution_count": 20,
     "metadata": {},
     "output_type": "execute_result"
    }
   ],
   "source": [
    "# 거듭제곱\n",
    "\n",
    "4 ** 3"
   ]
  },
  {
   "cell_type": "code",
   "execution_count": 21,
   "id": "584b151b",
   "metadata": {},
   "outputs": [
    {
     "data": {
      "text/plain": [
       "4.0"
      ]
     },
     "execution_count": 21,
     "metadata": {},
     "output_type": "execute_result"
    }
   ],
   "source": [
    "# 제곱근\n",
    "16 ** 0.5"
   ]
  },
  {
   "cell_type": "code",
   "execution_count": 23,
   "id": "8fcfa060",
   "metadata": {},
   "outputs": [
    {
     "data": {
      "text/plain": [
       "14"
      ]
     },
     "execution_count": 23,
     "metadata": {},
     "output_type": "execute_result"
    }
   ],
   "source": [
    "# 산술연산자 우선순위\n",
    "(4 + 3) * 2"
   ]
  },
  {
   "cell_type": "code",
   "execution_count": 24,
   "id": "8c237520",
   "metadata": {},
   "outputs": [
    {
     "data": {
      "text/plain": [
       "'python'"
      ]
     },
     "execution_count": 24,
     "metadata": {},
     "output_type": "execute_result"
    }
   ],
   "source": [
    "# 문자끼리 더하기 \n",
    "\"py\" + \"thon\""
   ]
  },
  {
   "cell_type": "code",
   "execution_count": 26,
   "id": "ea0d1da2",
   "metadata": {},
   "outputs": [
    {
     "data": {
      "text/plain": [
       "'py2'"
      ]
     },
     "execution_count": 26,
     "metadata": {},
     "output_type": "execute_result"
    }
   ],
   "source": [
    "# 문자와 숫자 더하기\n",
    "\"py\" + \"2\""
   ]
  },
  {
   "cell_type": "code",
   "execution_count": 30,
   "id": "4fc4e8b2",
   "metadata": {},
   "outputs": [
    {
     "data": {
      "text/plain": [
       "bool"
      ]
     },
     "execution_count": 30,
     "metadata": {},
     "output_type": "execute_result"
    }
   ],
   "source": [
    "type(True)"
   ]
  },
  {
   "cell_type": "code",
   "execution_count": 33,
   "id": "e9a4c3b9",
   "metadata": {},
   "outputs": [
    {
     "name": "stdout",
     "output_type": "stream",
     "text": [
      "4500\n",
      "americano\n"
     ]
    }
   ],
   "source": [
    "# 변수\n",
    "\n",
    "\n",
    "americano = 4500\n",
    "print(americano)\n",
    "print(\"americano\")"
   ]
  },
  {
   "cell_type": "code",
   "execution_count": 34,
   "id": "820b7175",
   "metadata": {},
   "outputs": [
    {
     "data": {
      "text/plain": [
       "9500"
      ]
     },
     "execution_count": 34,
     "metadata": {},
     "output_type": "execute_result"
    }
   ],
   "source": [
    "latte = 5000\n",
    "\n",
    "americano + latte\n"
   ]
  },
  {
   "cell_type": "code",
   "execution_count": 35,
   "id": "51d1e98d",
   "metadata": {},
   "outputs": [
    {
     "data": {
      "text/plain": [
       "9500"
      ]
     },
     "execution_count": 35,
     "metadata": {},
     "output_type": "execute_result"
    }
   ],
   "source": [
    "result = americano + latte\n",
    "result"
   ]
  },
  {
   "cell_type": "code",
   "execution_count": 36,
   "id": "db5927bf",
   "metadata": {},
   "outputs": [
    {
     "name": "stdout",
     "output_type": "stream",
     "text": [
      "3500\n"
     ]
    }
   ],
   "source": [
    "americano = 4500\n",
    "americano = americano - 1000\n",
    "print(americano)"
   ]
  },
  {
   "cell_type": "code",
   "execution_count": 38,
   "id": "7c6ad72a",
   "metadata": {},
   "outputs": [
    {
     "name": "stdout",
     "output_type": "stream",
     "text": [
      "10\n",
      "20\n",
      "30\n"
     ]
    }
   ],
   "source": [
    "# 다중변수할당\n",
    "a, b, c = 10, 20, 30\n",
    "print(a)\n",
    "print(b)\n",
    "print(c)"
   ]
  },
  {
   "cell_type": "code",
   "execution_count": 40,
   "id": "f792af3f",
   "metadata": {},
   "outputs": [
    {
     "name": "stdout",
     "output_type": "stream",
     "text": [
      "<class 'int'>\n",
      "<class 'float'>\n"
     ]
    }
   ],
   "source": [
    "a = 2\n",
    "b = 0.17\n",
    "print(type(a))\n",
    "\n",
    "a = a + b\n",
    "print(type(a))"
   ]
  },
  {
   "cell_type": "code",
   "execution_count": null,
   "id": "2e3f4cf8",
   "metadata": {},
   "outputs": [
    {
     "name": "stdout",
     "output_type": "stream",
     "text": [
      "문자열:  2.17\n",
      "문자열:  2\n"
     ]
    }
   ],
   "source": [
    "box = 2.17\n",
    "\n",
    "print(\"문자열: \", str(box))\n",
    "print(\"정수형: \", int(box))"
   ]
  },
  {
   "cell_type": "code",
   "execution_count": 45,
   "id": "bb9a46cc",
   "metadata": {},
   "outputs": [
    {
     "data": {
      "text/plain": [
       "13.14"
      ]
     },
     "execution_count": 45,
     "metadata": {},
     "output_type": "execute_result"
    }
   ],
   "source": [
    "box = \"3.14\"\n",
    "box = float(box) + 10\n",
    "box"
   ]
  },
  {
   "cell_type": "code",
   "execution_count": null,
   "id": "ab2d2c2d",
   "metadata": {},
   "outputs": [],
   "source": [
    "# 07. 비교연산자\n",
    "\n",
    "# 엑셀\n",
    "# <> 다르다\n",
    "# = 같다\n",
    "\n",
    "# 파이썬\n",
    "# == 같다\n",
    "# != 다르다"
   ]
  },
  {
   "cell_type": "code",
   "execution_count": 47,
   "id": "07bafeaa",
   "metadata": {},
   "outputs": [
    {
     "data": {
      "text/plain": [
       "True"
      ]
     },
     "execution_count": 47,
     "metadata": {},
     "output_type": "execute_result"
    }
   ],
   "source": [
    "10 > 5"
   ]
  },
  {
   "cell_type": "code",
   "execution_count": 48,
   "id": "8f5546ee",
   "metadata": {},
   "outputs": [
    {
     "data": {
      "text/plain": [
       "False"
      ]
     },
     "execution_count": 48,
     "metadata": {},
     "output_type": "execute_result"
    }
   ],
   "source": [
    "10 < 5"
   ]
  },
  {
   "cell_type": "code",
   "execution_count": 49,
   "id": "549de8f4",
   "metadata": {},
   "outputs": [
    {
     "data": {
      "text/plain": [
       "True"
      ]
     },
     "execution_count": 49,
     "metadata": {},
     "output_type": "execute_result"
    }
   ],
   "source": [
    "10 == 10"
   ]
  },
  {
   "cell_type": "code",
   "execution_count": 52,
   "id": "be882e24",
   "metadata": {},
   "outputs": [
    {
     "data": {
      "text/plain": [
       "False"
      ]
     },
     "execution_count": 52,
     "metadata": {},
     "output_type": "execute_result"
    }
   ],
   "source": [
    "10 != 10"
   ]
  },
  {
   "cell_type": "code",
   "execution_count": 53,
   "id": "c0b36ef2",
   "metadata": {},
   "outputs": [
    {
     "data": {
      "text/plain": [
       "True"
      ]
     },
     "execution_count": 53,
     "metadata": {},
     "output_type": "execute_result"
    }
   ],
   "source": [
    "a = 10 \n",
    "b = 10 \n",
    "a == b"
   ]
  },
  {
   "cell_type": "code",
   "execution_count": 54,
   "id": "fb27fb93",
   "metadata": {},
   "outputs": [
    {
     "data": {
      "text/plain": [
       "True"
      ]
     },
     "execution_count": 54,
     "metadata": {},
     "output_type": "execute_result"
    }
   ],
   "source": [
    "a >= b"
   ]
  },
  {
   "cell_type": "code",
   "execution_count": 55,
   "id": "913ee12a",
   "metadata": {},
   "outputs": [
    {
     "data": {
      "text/plain": [
       "False"
      ]
     },
     "execution_count": 55,
     "metadata": {},
     "output_type": "execute_result"
    }
   ],
   "source": [
    "a > b"
   ]
  },
  {
   "cell_type": "code",
   "execution_count": 56,
   "id": "32ed560c",
   "metadata": {},
   "outputs": [
    {
     "data": {
      "text/plain": [
       "True"
      ]
     },
     "execution_count": 56,
     "metadata": {},
     "output_type": "execute_result"
    }
   ],
   "source": [
    "c = \"빅데이터\"\n",
    "d = \"빅데이터\"\n",
    "e = \"데이터\"\n",
    "\n",
    "c == d"
   ]
  },
  {
   "cell_type": "code",
   "execution_count": 57,
   "id": "af5a4128",
   "metadata": {},
   "outputs": [
    {
     "data": {
      "text/plain": [
       "False"
      ]
     },
     "execution_count": 57,
     "metadata": {},
     "output_type": "execute_result"
    }
   ],
   "source": [
    "d == e"
   ]
  },
  {
   "cell_type": "code",
   "execution_count": null,
   "id": "8dee0ab9",
   "metadata": {},
   "outputs": [
    {
     "name": "stdout",
     "output_type": "stream",
     "text": [
      "B\n"
     ]
    }
   ],
   "source": [
    "# 조건문\n",
    "\n",
    "점수 = 87\n",
    "\n",
    "if 점수 >= 90:\n",
    "    print(\"A\")\n",
    "elif 점수 >= 80:\n",
    "    print(\"B\")\n",
    "elif 점수 >= 70:\n",
    "    print(\"C\")\n",
    "else:\n",
    "    print(\"D\")\n",
    "\n"
   ]
  },
  {
   "cell_type": "code",
   "execution_count": 63,
   "id": "3745339b",
   "metadata": {},
   "outputs": [],
   "source": [
    "if False:\n",
    "    print(\"무시\")"
   ]
  },
  {
   "cell_type": "code",
   "execution_count": 1,
   "id": "abe79e62",
   "metadata": {},
   "outputs": [
    {
     "name": "stdout",
     "output_type": "stream",
     "text": [
      "[4, 2, 10, 6, 8]\n"
     ]
    }
   ],
   "source": [
    "# 09. 리스트\n",
    "\n",
    "listbox = [4, 2, 10, 6, 8]\n",
    "print(listbox)"
   ]
  },
  {
   "cell_type": "code",
   "execution_count": 2,
   "id": "bef6f637",
   "metadata": {},
   "outputs": [
    {
     "data": {
      "text/plain": [
       "4"
      ]
     },
     "execution_count": 2,
     "metadata": {},
     "output_type": "execute_result"
    }
   ],
   "source": [
    "listbox[0]"
   ]
  },
  {
   "cell_type": "code",
   "execution_count": 3,
   "id": "ceb555b6",
   "metadata": {},
   "outputs": [
    {
     "data": {
      "text/plain": [
       "list"
      ]
     },
     "execution_count": 3,
     "metadata": {},
     "output_type": "execute_result"
    }
   ],
   "source": [
    "type(listbox)"
   ]
  },
  {
   "cell_type": "code",
   "execution_count": 4,
   "id": "08c6a3da",
   "metadata": {},
   "outputs": [
    {
     "data": {
      "text/plain": [
       "['길벗', '시나공', '빅데이터']"
      ]
     },
     "execution_count": 4,
     "metadata": {},
     "output_type": "execute_result"
    }
   ],
   "source": [
    "listbox = [\"길벗\", \"시나공\", \"빅데이터\"]\n",
    "listbox"
   ]
  },
  {
   "cell_type": "code",
   "execution_count": 5,
   "id": "3e815db2",
   "metadata": {},
   "outputs": [
    {
     "data": {
      "text/plain": [
       "'시나공'"
      ]
     },
     "execution_count": 5,
     "metadata": {},
     "output_type": "execute_result"
    }
   ],
   "source": [
    "listbox[1]"
   ]
  },
  {
   "cell_type": "code",
   "execution_count": 6,
   "id": "297d35dc",
   "metadata": {},
   "outputs": [
    {
     "data": {
      "text/plain": [
       "['길벗', '시나공', '빅데이터', '분석']"
      ]
     },
     "execution_count": 6,
     "metadata": {},
     "output_type": "execute_result"
    }
   ],
   "source": [
    "listbox.append(\"분석\")\n",
    "listbox"
   ]
  },
  {
   "cell_type": "code",
   "execution_count": 10,
   "id": "ab43364b",
   "metadata": {},
   "outputs": [
    {
     "name": "stdout",
     "output_type": "stream",
     "text": [
      "[4, 2, 10, 6, 8]\n",
      "[2, 4, 6, 8, 10]\n"
     ]
    }
   ],
   "source": [
    "listbox = [4, 2, 10, 6, 8]\n",
    "listbox_sorted = sorted(listbox)\n",
    "\n",
    "print(listbox)\n",
    "print(listbox_sorted)\n"
   ]
  },
  {
   "cell_type": "code",
   "execution_count": 11,
   "id": "b4b1dc81",
   "metadata": {},
   "outputs": [
    {
     "data": {
      "text/plain": [
       "[10, 8, 6, 4, 2]"
      ]
     },
     "execution_count": 11,
     "metadata": {},
     "output_type": "execute_result"
    }
   ],
   "source": [
    "sorted(listbox, reverse=True)"
   ]
  },
  {
   "cell_type": "code",
   "execution_count": 12,
   "id": "5ffd9958",
   "metadata": {},
   "outputs": [
    {
     "data": {
      "text/plain": [
       "['길벗', '빅데이터', '시나공']"
      ]
     },
     "execution_count": 12,
     "metadata": {},
     "output_type": "execute_result"
    }
   ],
   "source": [
    "listbox = [\"길벗\", \"시나공\", \"빅데이터\"]\n",
    "listbox_a = sorted(listbox)\n",
    "listbox_a"
   ]
  },
  {
   "cell_type": "code",
   "execution_count": 16,
   "id": "7c7cc0a7",
   "metadata": {},
   "outputs": [
    {
     "data": {
      "text/plain": [
       "{'name': '쿼가', 'level': 5}"
      ]
     },
     "execution_count": 16,
     "metadata": {},
     "output_type": "execute_result"
    }
   ],
   "source": [
    "# 10. 딕셔너리 \n",
    "\n",
    "dictbox = {\n",
    "    \"name\" : \"쿼가\",\n",
    "    \"level\" : 5\n",
    "}\n",
    "\n",
    "dictbox"
   ]
  },
  {
   "cell_type": "code",
   "execution_count": 15,
   "id": "cf541d99",
   "metadata": {},
   "outputs": [
    {
     "data": {
      "text/plain": [
       "dict"
      ]
     },
     "execution_count": 15,
     "metadata": {},
     "output_type": "execute_result"
    }
   ],
   "source": [
    "type(dictbox)"
   ]
  },
  {
   "cell_type": "code",
   "execution_count": 17,
   "id": "5d6c6ed5",
   "metadata": {},
   "outputs": [
    {
     "data": {
      "text/plain": [
       "'쿼가'"
      ]
     },
     "execution_count": 17,
     "metadata": {},
     "output_type": "execute_result"
    }
   ],
   "source": [
    "dictbox[\"name\"]"
   ]
  },
  {
   "cell_type": "code",
   "execution_count": 18,
   "id": "5138b660",
   "metadata": {},
   "outputs": [
    {
     "data": {
      "text/plain": [
       "5"
      ]
     },
     "execution_count": 18,
     "metadata": {},
     "output_type": "execute_result"
    }
   ],
   "source": [
    "dictbox[\"level\"]"
   ]
  },
  {
   "cell_type": "code",
   "execution_count": 19,
   "id": "169b699b",
   "metadata": {},
   "outputs": [
    {
     "data": {
      "text/plain": [
       "{'name': '쿼가', 'level': 6}"
      ]
     },
     "execution_count": 19,
     "metadata": {},
     "output_type": "execute_result"
    }
   ],
   "source": [
    "dictbox[\"level\"] = 6\n",
    "dictbox"
   ]
  },
  {
   "cell_type": "code",
   "execution_count": 20,
   "id": "35079ba0",
   "metadata": {},
   "outputs": [
    {
     "data": {
      "text/plain": [
       "dict_keys(['name', 'level'])"
      ]
     },
     "execution_count": 20,
     "metadata": {},
     "output_type": "execute_result"
    }
   ],
   "source": [
    "dictbox.keys()"
   ]
  },
  {
   "cell_type": "code",
   "execution_count": 21,
   "id": "e0e71eb5",
   "metadata": {},
   "outputs": [
    {
     "data": {
      "text/plain": [
       "dict_values(['쿼가', 6])"
      ]
     },
     "execution_count": 21,
     "metadata": {},
     "output_type": "execute_result"
    }
   ],
   "source": [
    "dictbox.values()"
   ]
  },
  {
   "cell_type": "code",
   "execution_count": 22,
   "id": "a347593e",
   "metadata": {},
   "outputs": [
    {
     "data": {
      "text/plain": [
       "dict_items([('name', '쿼가'), ('level', 6)])"
      ]
     },
     "execution_count": 22,
     "metadata": {},
     "output_type": "execute_result"
    }
   ],
   "source": [
    "dictbox.items()"
   ]
  },
  {
   "cell_type": "code",
   "execution_count": null,
   "id": "361cfa60",
   "metadata": {},
   "outputs": [
    {
     "data": {
      "text/plain": [
       "list"
      ]
     },
     "execution_count": 26,
     "metadata": {},
     "output_type": "execute_result"
    }
   ],
   "source": [
    "columns = dictbox.keys()\n",
    "list(columns)"
   ]
  },
  {
   "cell_type": "code",
   "execution_count": 27,
   "id": "88f449f1",
   "metadata": {},
   "outputs": [
    {
     "data": {
      "text/plain": [
       "{'닉네임': '합격맛집', '길벗': '출판사'}"
      ]
     },
     "execution_count": 27,
     "metadata": {},
     "output_type": "execute_result"
    }
   ],
   "source": [
    "a = \"합격맛집\"\n",
    "b = \"길벗\"\n",
    "c = \"출판사\"\n",
    "\n",
    "dictbox = {\n",
    "    \"닉네임\": a, \n",
    "    b: c\n",
    "}\n",
    "dictbox"
   ]
  },
  {
   "cell_type": "code",
   "execution_count": 30,
   "id": "1f0f7fa7",
   "metadata": {},
   "outputs": [
    {
     "data": {
      "text/plain": [
       "5.0"
      ]
     },
     "execution_count": 30,
     "metadata": {},
     "output_type": "execute_result"
    }
   ],
   "source": [
    "list1 = [\"딴짓분식\", \"딴짓카페\", \"딴짓피자\"]\n",
    "list2 = [4.8, 4.9, 5.0]\n",
    "\n",
    "dictbox = {\n",
    "    \"가게\": list1, \n",
    "    \"평점\": list2\n",
    "}\n",
    "\n",
    "dictbox[\"평점\"][2]"
   ]
  },
  {
   "cell_type": "code",
   "execution_count": 35,
   "id": "a14554da",
   "metadata": {},
   "outputs": [
    {
     "name": "stdout",
     "output_type": "stream",
     "text": [
      "2\n",
      "4\n",
      "10\n",
      "10\n",
      "8\n"
     ]
    }
   ],
   "source": [
    "# 11. 인덱싱과 슬라이싱\n",
    "\n",
    "listbox = [2, 4, 6, 8, 10]\n",
    "\n",
    "print(listbox[0])\n",
    "print(listbox[1])\n",
    "print(listbox[4])\n",
    "print(listbox[-1])\n",
    "print(listbox[-2])\n"
   ]
  },
  {
   "cell_type": "code",
   "execution_count": 38,
   "id": "e00b0bfe",
   "metadata": {},
   "outputs": [
    {
     "name": "stdout",
     "output_type": "stream",
     "text": [
      "[2, 4, 6]\n",
      "[4, 6, 8]\n",
      "[6, 8, 10]\n"
     ]
    }
   ],
   "source": [
    "listbox = [2, 4, 6, 8, 10]\n",
    "\n",
    "print(listbox[0:3])\n",
    "print(listbox[1:4])\n",
    "print(listbox[2:5])\n"
   ]
  },
  {
   "cell_type": "code",
   "execution_count": 42,
   "id": "4f094c98",
   "metadata": {},
   "outputs": [
    {
     "name": "stdout",
     "output_type": "stream",
     "text": [
      "[6, 8, 10]\n",
      "[2, 4, 6]\n",
      "[2, 4, 6, 8, 10]\n",
      "[2, 6, 10]\n"
     ]
    }
   ],
   "source": [
    "listbox = [2, 4, 6, 8, 10]\n",
    "\n",
    "print(listbox[2:])\n",
    "print(listbox[:3])\n",
    "print(listbox[:])\n",
    "print(listbox[::2])"
   ]
  },
  {
   "cell_type": "code",
   "execution_count": 43,
   "id": "0b8ebb3a",
   "metadata": {},
   "outputs": [
    {
     "data": {
      "text/plain": [
       "[2, 20, 30, 8, 10]"
      ]
     },
     "execution_count": 43,
     "metadata": {},
     "output_type": "execute_result"
    }
   ],
   "source": [
    "listbox = [2, 4, 6, 8, 10]\n",
    "\n",
    "listbox[1:3] = [20, 30]\n",
    "listbox"
   ]
  },
  {
   "cell_type": "code",
   "execution_count": 44,
   "id": "422aa72d",
   "metadata": {},
   "outputs": [
    {
     "data": {
      "text/plain": [
       "30"
      ]
     },
     "execution_count": 44,
     "metadata": {},
     "output_type": "execute_result"
    }
   ],
   "source": [
    "# 12. 내장함수 \n",
    "\n",
    "\n",
    "listbox = [4, 2, 10, 6, 8]\n",
    "\n",
    "sum(listbox)"
   ]
  },
  {
   "cell_type": "code",
   "execution_count": 45,
   "id": "5203b1e9",
   "metadata": {},
   "outputs": [
    {
     "data": {
      "text/plain": [
       "2"
      ]
     },
     "execution_count": 45,
     "metadata": {},
     "output_type": "execute_result"
    }
   ],
   "source": [
    "boolbox = [True, False, True]\n",
    "\n",
    "sum(boolbox)"
   ]
  },
  {
   "cell_type": "code",
   "execution_count": 46,
   "id": "740669a0",
   "metadata": {},
   "outputs": [
    {
     "data": {
      "text/plain": [
       "10"
      ]
     },
     "execution_count": 46,
     "metadata": {},
     "output_type": "execute_result"
    }
   ],
   "source": [
    "listbox = [4, 2, 10, 6, 8]\n",
    "max(listbox)"
   ]
  },
  {
   "cell_type": "code",
   "execution_count": 47,
   "id": "b97f1917",
   "metadata": {},
   "outputs": [
    {
     "data": {
      "text/plain": [
       "2"
      ]
     },
     "execution_count": 47,
     "metadata": {},
     "output_type": "execute_result"
    }
   ],
   "source": [
    "listbox = [4, 2, 10, 6, 8]\n",
    "min(listbox)"
   ]
  },
  {
   "cell_type": "code",
   "execution_count": 48,
   "id": "e9885849",
   "metadata": {},
   "outputs": [
    {
     "data": {
      "text/plain": [
       "5"
      ]
     },
     "execution_count": 48,
     "metadata": {},
     "output_type": "execute_result"
    }
   ],
   "source": [
    "listbox = [4, 2, 10, 6, 8]\n",
    "len(listbox)"
   ]
  },
  {
   "cell_type": "code",
   "execution_count": 49,
   "id": "21a0780e",
   "metadata": {},
   "outputs": [
    {
     "data": {
      "text/plain": [
       "1.23"
      ]
     },
     "execution_count": 49,
     "metadata": {},
     "output_type": "execute_result"
    }
   ],
   "source": [
    "round(1.2345, 2)"
   ]
  },
  {
   "cell_type": "code",
   "execution_count": 53,
   "id": "78ad2017",
   "metadata": {},
   "outputs": [
    {
     "name": "stdout",
     "output_type": "stream",
     "text": [
      "빅데이터 분석기사 파이썬 스터디\n"
     ]
    }
   ],
   "source": [
    "# 13. 문자열\n",
    "\n",
    "text = \"빅데이터 분석기사 파이썬 공부\"\n",
    "text = text.replace(\"공부\", \"스터디\")\n",
    "print(text)"
   ]
  },
  {
   "cell_type": "code",
   "execution_count": 56,
   "id": "3090f3b9",
   "metadata": {},
   "outputs": [
    {
     "name": "stdout",
     "output_type": "stream",
     "text": [
      "빅데이터 분석을 위한 머신러닝 공부\n"
     ]
    }
   ],
   "source": [
    "text = \"빅데이터 분석기사 파이썬 공부\"\n",
    "\n",
    "text = text.replace(\"파이썬\", \"머신러닝\")\n",
    "text = text.replace(\"분석기사\", \"분석을 위한\")\n",
    "\n",
    "print(text)"
   ]
  },
  {
   "cell_type": "code",
   "execution_count": 57,
   "id": "252ea279",
   "metadata": {},
   "outputs": [
    {
     "data": {
      "text/plain": [
       "'안녕'"
      ]
     },
     "execution_count": 57,
     "metadata": {},
     "output_type": "execute_result"
    }
   ],
   "source": [
    "text = \"안녕하세요! 함께 성장해요.\"\n",
    "text[0:2]"
   ]
  },
  {
   "cell_type": "code",
   "execution_count": 58,
   "id": "53622ccf",
   "metadata": {},
   "outputs": [
    {
     "data": {
      "text/plain": [
       "'함께'"
      ]
     },
     "execution_count": 58,
     "metadata": {},
     "output_type": "execute_result"
    }
   ],
   "source": [
    "text[7:9]"
   ]
  },
  {
   "cell_type": "code",
   "execution_count": null,
   "id": "805e9327",
   "metadata": {},
   "outputs": [
    {
     "data": {
      "text/plain": [
       "'\"12\"-25'"
      ]
     },
     "execution_count": 64,
     "metadata": {},
     "output_type": "execute_result"
    }
   ],
   "source": [
    "date = '2022-12-25'\n",
    "date[5:]"
   ]
  },
  {
   "cell_type": "code",
   "execution_count": 66,
   "id": "06adf0d2",
   "metadata": {},
   "outputs": [
    {
     "data": {
      "text/plain": [
       "list"
      ]
     },
     "execution_count": 66,
     "metadata": {},
     "output_type": "execute_result"
    }
   ],
   "source": [
    "date = '2022-12-25'\n",
    "\n",
    "result = date.split(\"-\")\n",
    "type(result)"
   ]
  },
  {
   "cell_type": "code",
   "execution_count": 70,
   "id": "3ef0f36d",
   "metadata": {},
   "outputs": [
    {
     "data": {
      "text/plain": [
       "['안녕하세요!', '함께', '성장해요.']"
      ]
     },
     "execution_count": 70,
     "metadata": {},
     "output_type": "execute_result"
    }
   ],
   "source": [
    "text = \"안녕하세요! 함께 성장해요.\"\n",
    "text.split()"
   ]
  },
  {
   "cell_type": "code",
   "execution_count": 71,
   "id": "22325ebd",
   "metadata": {},
   "outputs": [
    {
     "data": {
      "text/plain": [
       "['2', '0', '2', '2', '-', '1', '2', '-', '2', '5']"
      ]
     },
     "execution_count": 71,
     "metadata": {},
     "output_type": "execute_result"
    }
   ],
   "source": [
    "date = '2022-12-25'\n",
    "list(date)"
   ]
  },
  {
   "cell_type": "code",
   "execution_count": 72,
   "id": "8a60ab5f",
   "metadata": {},
   "outputs": [
    {
     "name": "stdout",
     "output_type": "stream",
     "text": [
      "2\n",
      "4\n",
      "6\n",
      "8\n",
      "10\n"
     ]
    }
   ],
   "source": [
    "# 14. 반복문\n",
    "list = [2, 4, 6, 8, 10]\n",
    "\n",
    "print(list[0])\n",
    "print(list[1])\n",
    "print(list[2])\n",
    "print(list[3])\n",
    "print(list[4])"
   ]
  },
  {
   "cell_type": "code",
   "execution_count": 73,
   "id": "795f8741",
   "metadata": {},
   "outputs": [
    {
     "name": "stdout",
     "output_type": "stream",
     "text": [
      "2\n",
      "4\n",
      "6\n",
      "8\n",
      "10\n"
     ]
    }
   ],
   "source": [
    "list = [2, 4, 6, 8, 10]\n",
    "\n",
    "for li in list:\n",
    "    print(li)"
   ]
  },
  {
   "cell_type": "code",
   "execution_count": 75,
   "id": "9acf9a1d",
   "metadata": {},
   "outputs": [
    {
     "name": "stdout",
     "output_type": "stream",
     "text": [
      "길벗\n",
      "시나공\n",
      "빅분기\n"
     ]
    }
   ],
   "source": [
    "listbox = [\"길벗\", \"시나공\", \"빅분기\"]\n",
    "# len(listbox)\n",
    "for li in listbox:\n",
    "    print(li)"
   ]
  },
  {
   "cell_type": "code",
   "execution_count": null,
   "id": "67fb1b97",
   "metadata": {},
   "outputs": [
    {
     "name": "stdout",
     "output_type": "stream",
     "text": [
      "2\n",
      "끝\n",
      "4\n",
      "끝\n",
      "6\n",
      "끝\n",
      "8\n",
      "끝\n",
      "10\n",
      "끝\n"
     ]
    }
   ],
   "source": [
    "listbox = [2, 4, 6, 8, 10]\n",
    "\n",
    "for i in listbox:\n",
    "    print(i)\n",
    "    \n",
    "print(\"끝\")\n"
   ]
  },
  {
   "cell_type": "code",
   "execution_count": 79,
   "id": "4157cec7",
   "metadata": {},
   "outputs": [
    {
     "name": "stdout",
     "output_type": "stream",
     "text": [
      "3\n",
      "5\n",
      "7\n",
      "9\n",
      "11\n"
     ]
    }
   ],
   "source": [
    "listbox = [2, 4, 6, 8, 10]\n",
    "\n",
    "for item in listbox:\n",
    "    result = item + 1\n",
    "    print(result)\n",
    "\n"
   ]
  },
  {
   "cell_type": "code",
   "execution_count": 82,
   "id": "95464099",
   "metadata": {},
   "outputs": [
    {
     "name": "stdout",
     "output_type": "stream",
     "text": [
      "0\n",
      "1\n",
      "2\n",
      "3\n",
      "4\n",
      "5\n",
      "6\n",
      "7\n",
      "8\n",
      "9\n"
     ]
    }
   ],
   "source": [
    "for item in range(10):\n",
    "    print(item)"
   ]
  },
  {
   "cell_type": "code",
   "execution_count": 83,
   "id": "233b1fcb",
   "metadata": {},
   "outputs": [
    {
     "name": "stdout",
     "output_type": "stream",
     "text": [
      "5\n",
      "6\n",
      "7\n",
      "8\n",
      "9\n"
     ]
    }
   ],
   "source": [
    "for i in range(5, 10):\n",
    "    print(i)"
   ]
  },
  {
   "cell_type": "code",
   "execution_count": 88,
   "id": "38bd5ef8",
   "metadata": {},
   "outputs": [
    {
     "name": "stdout",
     "output_type": "stream",
     "text": [
      "[1, 2, 3, 4, 5]\n"
     ]
    }
   ],
   "source": [
    "# list.append()\n",
    "\n",
    "listbox = []\n",
    "for i in range(1, 5+1):\n",
    "    listbox.append(i)\n",
    "    \n",
    "print(listbox)\n",
    "\n"
   ]
  },
  {
   "cell_type": "code",
   "execution_count": 93,
   "id": "dedfba3a",
   "metadata": {},
   "outputs": [
    {
     "name": "stdout",
     "output_type": "stream",
     "text": [
      "0 길벗\n",
      "1 시나공\n",
      "2 빅분기\n",
      "3 분석\n"
     ]
    }
   ],
   "source": [
    "listbox = [\"길벗\", \"시나공\", \"빅분기\", \"분석\"]\n",
    "\n",
    "for index, item in enumerate(listbox): \n",
    "    print(index, item)"
   ]
  },
  {
   "cell_type": "code",
   "execution_count": 108,
   "id": "00e947c6",
   "metadata": {},
   "outputs": [
    {
     "name": "stdout",
     "output_type": "stream",
     "text": [
      "name 사람\n",
      "age 20\n",
      "city 부산\n",
      "hobbies ['연애', '수영', '코딩']\n"
     ]
    }
   ],
   "source": [
    "person_info = {\n",
    "    \"name\": \"사람\", \n",
    "    \"age\": 20, \n",
    "    \"city\": \"부산\", \n",
    "    \"hobbies\": [\"연애\", \"수영\", \"코딩\"]\n",
    "}\n",
    "# print(person_info.keys())\n",
    "# print(person_info.values())\n",
    "\n",
    "for k, v in zip(person_info.keys(), person_info.values()):\n",
    "    print(k, v)"
   ]
  },
  {
   "cell_type": "code",
   "execution_count": 2,
   "id": "6c953f17",
   "metadata": {},
   "outputs": [],
   "source": [
    "# 15. 함수\n",
    "\n",
    "def hello():\n",
    "    print(\"안녕하세요\")\n"
   ]
  },
  {
   "cell_type": "code",
   "execution_count": 3,
   "id": "5453b63f",
   "metadata": {},
   "outputs": [
    {
     "name": "stdout",
     "output_type": "stream",
     "text": [
      "안녕하세요\n"
     ]
    }
   ],
   "source": [
    "hello()"
   ]
  },
  {
   "cell_type": "code",
   "execution_count": 6,
   "id": "9a1d0c47",
   "metadata": {},
   "outputs": [],
   "source": [
    "## 매개변수가 있는 함수\n",
    "\n",
    "def hello(name): # name =  홍길동 \n",
    "    print(\"안녕하세요 \" + name)"
   ]
  },
  {
   "cell_type": "code",
   "execution_count": 7,
   "id": "f554e3f9",
   "metadata": {},
   "outputs": [
    {
     "name": "stdout",
     "output_type": "stream",
     "text": [
      "안녕하세요 홍길동\n"
     ]
    }
   ],
   "source": [
    "hello(\"홍길동\")"
   ]
  },
  {
   "cell_type": "code",
   "execution_count": 8,
   "id": "dfc91b73",
   "metadata": {},
   "outputs": [
    {
     "ename": "NameError",
     "evalue": "name 'name' is not defined",
     "output_type": "error",
     "traceback": [
      "\u001b[1;31m---------------------------------------------------------------------------\u001b[0m",
      "\u001b[1;31mNameError\u001b[0m                                 Traceback (most recent call last)",
      "Cell \u001b[1;32mIn[8], line 4\u001b[0m\n\u001b[0;32m      1\u001b[0m \u001b[38;5;28;01mdef\u001b[39;00m\u001b[38;5;250m \u001b[39m\u001b[38;5;21mhello\u001b[39m(name): \n\u001b[0;32m      2\u001b[0m     \u001b[38;5;28mprint\u001b[39m(name)\n\u001b[1;32m----> 4\u001b[0m \u001b[38;5;28mprint\u001b[39m(\u001b[43mname\u001b[49m)\n",
      "\u001b[1;31mNameError\u001b[0m: name 'name' is not defined"
     ]
    }
   ],
   "source": [
    "def hello(name): \n",
    "    print(name)\n",
    "\n",
    "print(name)"
   ]
  },
  {
   "cell_type": "code",
   "execution_count": 9,
   "id": "9c0b765b",
   "metadata": {},
   "outputs": [],
   "source": [
    "def plus(x, y):\n",
    "    print(x + y)"
   ]
  },
  {
   "cell_type": "code",
   "execution_count": 11,
   "id": "afeca64d",
   "metadata": {},
   "outputs": [
    {
     "name": "stdout",
     "output_type": "stream",
     "text": [
      "30\n",
      "안녕반가워\n"
     ]
    }
   ],
   "source": [
    "plus(10, 20)\n",
    "plus(\"안녕\", \"반가워\")"
   ]
  },
  {
   "cell_type": "code",
   "execution_count": 12,
   "id": "55081927",
   "metadata": {},
   "outputs": [],
   "source": [
    "def plus(x, y): \n",
    "    result = x * y \n",
    "    return result"
   ]
  },
  {
   "cell_type": "code",
   "execution_count": 16,
   "id": "b0b003d4",
   "metadata": {},
   "outputs": [
    {
     "name": "stdout",
     "output_type": "stream",
     "text": [
      "200\n"
     ]
    }
   ],
   "source": [
    "a = plus(10, 20)\n",
    "\n",
    "print(a)"
   ]
  },
  {
   "cell_type": "code",
   "execution_count": null,
   "id": "16b94df2",
   "metadata": {},
   "outputs": [],
   "source": [
    "listbox = [15, 46, 78, 24, 56]\n",
    "\n",
    "def min_max(data): # data = listbox = [15, 46, 78, 24, 56]\n",
    "    mi = min(data)\n",
    "    ma = max(data)\n",
    "    return mi, ma"
   ]
  },
  {
   "cell_type": "code",
   "execution_count": 19,
   "id": "fc54d7d2",
   "metadata": {},
   "outputs": [
    {
     "name": "stdout",
     "output_type": "stream",
     "text": [
      "15\n",
      "78\n"
     ]
    }
   ],
   "source": [
    "a, b = min_max(listbox)\n",
    "\n",
    "print(a)\n",
    "print(b)"
   ]
  },
  {
   "cell_type": "code",
   "execution_count": null,
   "id": "a14051a6",
   "metadata": {},
   "outputs": [],
   "source": [
    "listbox = [15, 46, 78, 24, 56]\n",
    "\n",
    "def mean(data): # data = listbox =[15, 46, 78, 24, 56]\n",
    "    return sum(data) / len(data)\n"
   ]
  },
  {
   "cell_type": "code",
   "execution_count": 21,
   "id": "620c1337",
   "metadata": {},
   "outputs": [
    {
     "name": "stdout",
     "output_type": "stream",
     "text": [
      "43.8\n"
     ]
    }
   ],
   "source": [
    "result = mean(listbox)\n",
    "print(result)"
   ]
  },
  {
   "cell_type": "code",
   "execution_count": 31,
   "id": "2127be8a",
   "metadata": {},
   "outputs": [
    {
     "name": "stdout",
     "output_type": "stream",
     "text": [
      "1:  8\n",
      "2:  감사\n",
      "3:  희망\n",
      "4:  ['감사', '행복', '사랑']\n",
      "5:  성장\n",
      "6:  ['행복', '사랑']\n",
      "7:  ['감사', '행복', '사랑', '성공', '긍정', '웃음', '성장', '희망']\n"
     ]
    }
   ],
   "source": [
    "# 확인문제\n",
    "\n",
    "listbox = [\"감사\", \"행복\", \"사랑\", \"성공\", \"긍정\", \"변화\", \"성장\", \"희망\"]\n",
    "\n",
    "# 리스트의 개수 \n",
    "print(\"1: \", len(listbox))\n",
    "\n",
    "# 첫번째 값\n",
    "print(\"2: \", listbox[0])\n",
    "\n",
    "# 마지막 값 인덱싱\n",
    "print(\"3: \", listbox[-1])\n",
    "\n",
    "# 처음부터 세번째\n",
    "print(\"4: \", listbox[0:3])\n",
    "\n",
    "# 마지막 앞 단어 출력\n",
    "print(\"5: \", listbox[-2])\n",
    "\n",
    "# 행복, 사랑 출력\n",
    "print(\"6: \", listbox[1:3])\n",
    "\n",
    "# 변화 -> 웃음\n",
    "listbox[5] = \"웃음\"\n",
    "print(\"7: \", listbox)\n"
   ]
  },
  {
   "cell_type": "code",
   "execution_count": 32,
   "id": "f53ceb5e",
   "metadata": {},
   "outputs": [
    {
     "name": "stdout",
     "output_type": "stream",
     "text": [
      "name\n",
      "age\n",
      "phone\n"
     ]
    }
   ],
   "source": [
    "cols = [\"name\", \"age\", \"phone\"]\n",
    "\n",
    "for col in cols:\n",
    "    print(col)"
   ]
  },
  {
   "cell_type": "code",
   "execution_count": 34,
   "id": "c6103a8e",
   "metadata": {},
   "outputs": [
    {
     "name": "stdout",
     "output_type": "stream",
     "text": [
      "63\n",
      "63\n"
     ]
    }
   ],
   "source": [
    "listbox = [15, 46, 78, 24, 56]\n",
    "\n",
    "ma = max(listbox)\n",
    "mi = min(listbox)\n",
    "print(ma - mi)\n",
    "\n",
    "def max_minus_min(data): \n",
    "    ma = max(data)\n",
    "    mi = min(data)\n",
    "    return ma - mi\n",
    "\n",
    "result = max_minus_min(listbox)\n",
    "print(result)"
   ]
  },
  {
   "cell_type": "code",
   "execution_count": 40,
   "id": "fbc65712",
   "metadata": {},
   "outputs": [
    {
     "name": "stdout",
     "output_type": "stream",
     "text": [
      "당신의 합격을 응원합니다!\n"
     ]
    }
   ],
   "source": [
    "str_data = \"여러분의 합격을 응원합니다!\"\n",
    "\n",
    "# str_data = str_data.replace(\"여러분\", \"당신\")\n",
    "# str_data\n",
    "\n",
    "def change_word(data):\n",
    "    data = data.replace(\"여러분\", \"당신\")\n",
    "    return data\n",
    "\n",
    "result = change_word(str_data)\n",
    "print(result)"
   ]
  },
  {
   "cell_type": "code",
   "execution_count": null,
   "id": "8e3f1cd6",
   "metadata": {},
   "outputs": [],
   "source": []
  }
 ],
 "metadata": {
  "kernelspec": {
   "display_name": "Python 3",
   "language": "python",
   "name": "python3"
  },
  "language_info": {
   "codemirror_mode": {
    "name": "ipython",
    "version": 3
   },
   "file_extension": ".py",
   "mimetype": "text/x-python",
   "name": "python",
   "nbconvert_exporter": "python",
   "pygments_lexer": "ipython3",
   "version": "3.13.7"
  }
 },
 "nbformat": 4,
 "nbformat_minor": 5
}
